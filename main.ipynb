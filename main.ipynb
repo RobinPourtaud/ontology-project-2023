{
 "cells": [
  {
   "attachments": {},
   "cell_type": "markdown",
   "metadata": {},
   "source": [
    "# Main Notebook"
   ]
  },
  {
   "cell_type": "code",
   "execution_count": 1,
   "metadata": {},
   "outputs": [],
   "source": [
    "# To reload modules on update without restarting the kernel\n",
    "%load_ext autoreload\n",
    "%autoreload 2\n",
    "\n",
    "# All packages used for visualization, embedding, results, ...\n",
    "from tools import *"
   ]
  },
  {
   "cell_type": "code",
   "execution_count": 2,
   "metadata": {},
   "outputs": [
    {
     "name": "stdout",
     "output_type": "stream",
     "text": [
      "Vocabulary loaded : self.label\n",
      "Labels loaded : self.y\n"
     ]
    }
   ],
   "source": [
    "corpus = pdfToCleanText()\n",
    "e = Embedding()\n",
    "e.loadCorpus(corpus)\n",
    "e.loadLabel()"
   ]
  },
  {
   "cell_type": "code",
   "execution_count": null,
   "metadata": {},
   "outputs": [],
   "source": [
    "useAPI = False\n",
    "if useAPI:\n",
    "    e.loadKey(\"KEY\") # https://beta.openai.com/docs/api-reference/authentication\n",
    "    e.computeGPT()\n",
    "else:\n",
    "    import pandas as pd\n",
    "    e.embedding[\"GPT\"] = pd.read_csv(\"data/GPTEmbedding.csv\", index_col=0)"
   ]
  },
  {
   "cell_type": "code",
   "execution_count": 22,
   "metadata": {},
   "outputs": [
    {
     "data": {
      "application/vnd.plotly.v1+json": {
       "config": {
        "plotlyServerURL": "https://plot.ly"
       },
       "data": [
        {
         "hovertemplate": "<b>%{hovertext}</b><br><br>color=AnythingAI<br>x=%{x}<br>y=%{y}<extra></extra>",
         "hovertext": [
          "ai",
          "artificial intelligence",
          "functional setting",
          "artificial",
          "digital",
          "ai-based",
          "trustworthy artificial intelligence",
          "powerful tools",
          "artificial intelligence field",
          "artificial intelligence output",
          "artificial origin",
          "artificial intelligence system"
         ],
         "legendgroup": "AnythingAI",
         "marker": {
          "color": "#636efa",
          "symbol": "circle"
         },
         "mode": "markers",
         "name": "AnythingAI",
         "orientation": "v",
         "showlegend": true,
         "type": "scatter",
         "x": [
          -21.048086166381836,
          -34.342227935791016,
          -40.41251754760742,
          -60.03424835205078,
          -70.31294250488281,
          -20.241436004638672,
          -33.393245697021484,
          -74.79301452636719,
          -33.16975021362305,
          -35.61469650268555,
          -60.034210205078125,
          -34.81958770751953
         ],
         "xaxis": "x",
         "y": [
          -15.980850219726562,
          -41.43141555786133,
          -81.5732421875,
          -66.92353057861328,
          -49.45033264160156,
          -15.31393051147461,
          -43.795448303222656,
          -10.646283149719238,
          -38.820125579833984,
          -43.28013610839844,
          -66.92338562011719,
          -42.082305908203125
         ],
         "yaxis": "y"
        },
        {
         "hovertemplate": "<b>%{hovertext}</b><br><br>color=Regulation<br>x=%{x}<br>y=%{y}<extra></extra>",
         "hovertext": [
          "regulation",
          "market surveillance",
          "relevant union harmonisation legislation",
          "common rules",
          "machinery regulation",
          "data protection regulation",
          "common framework",
          "sectorial legislation",
          "union legislation",
          "guideline",
          "european parliament resolution",
          "regulation ai",
          "enforcement directive",
          "common union defence policy",
          "international trade commitments",
          "european arrest warrant",
          "specific framework",
          "articles applies",
          "potential restriction",
          "union policies",
          "regulatory specificities",
          "enforcement mechanisms",
          "certain union harmonisation legislation",
          "national law compatible",
          "applicable acts",
          "risk management logic",
          "adequate enforcement",
          "national law considers",
          "financial service legislation"
         ],
         "legendgroup": "Regulation",
         "marker": {
          "color": "#EF553B",
          "symbol": "circle"
         },
         "mode": "markers",
         "name": "Regulation",
         "orientation": "v",
         "showlegend": true,
         "type": "scatter",
         "x": [
          40.84383773803711,
          12.087591171264648,
          15.8494291305542,
          4.88542366027832,
          41.91548538208008,
          -12.788810729980469,
          5.799598693847656,
          26.19005012512207,
          55.342308044433594,
          -51.418701171875,
          17.77121925354004,
          40.75367736816406,
          22.311288833618164,
          72.9390640258789,
          1.4780604839324951,
          17.844676971435547,
          73.26505279541016,
          -44.48214340209961,
          26.9188232421875,
          72.09144592285156,
          39.4437255859375,
          20.366437911987305,
          15.924714088439941,
          -2.3184854984283447,
          92.84882354736328,
          -3.747366189956665,
          19.336793899536133,
          -2.3184854984283447,
          89.94011688232422
         ],
         "xaxis": "x",
         "y": [
          -24.13066864013672,
          -18.692829132080078,
          -34.554718017578125,
          -2.4898080825805664,
          -24.028705596923828,
          -6.1178741455078125,
          -2.9922714233398438,
          -28.07827377319336,
          -26.087345123291016,
          -11.347251892089844,
          -50.55126190185547,
          -25.421676635742188,
          -3.9688451290130615,
          15.699992179870605,
          -27.546539306640625,
          -51.68424987792969,
          -1.0889158248901367,
          -25.164644241333008,
          71.09843444824219,
          15.432393074035645,
          -18.11235237121582,
          -3.590238094329834,
          -35.349578857421875,
          -13.806639671325684,
          1.095698356628418,
          116.26937866210938,
          -3.955308675765991,
          -13.806639671325684,
          -12.945688247680664
         ],
         "yaxis": "y"
        },
        {
         "hovertemplate": "<b>%{hovertext}</b><br><br>color=Law text<br>x=%{x}<br>y=%{y}<extra></extra>",
         "hovertext": [
          "article",
          "union law",
          "national law",
          "union harmonisation legislation",
          "financial services legislation",
          "framework",
          "legal framework",
          "international agreements",
          "legal acts",
          "national rules",
          "such union law",
          "state law",
          "chapter",
          "regulation of the european parliament and of the council laying down harmonised rules on artificial intelligence",
          "artificial intelligence act",
          "and amending certain union legislative acts",
          "legislative act",
          "national laws",
          "national labour law",
          "public international law",
          "specific national rules",
          "legal act"
         ],
         "legendgroup": "Law text",
         "marker": {
          "color": "#00cc96",
          "symbol": "circle"
         },
         "mode": "markers",
         "name": "Law text",
         "orientation": "v",
         "showlegend": true,
         "type": "scatter",
         "x": [
          -44.74713897705078,
          55.588619232177734,
          -2.312030792236328,
          16.762290954589844,
          89.94000244140625,
          74.0136489868164,
          70.85223388671875,
          1.3730076551437378,
          76.60352325439453,
          55.7014045715332,
          57.352657318115234,
          -2.300868272781372,
          -44.96378707885742,
          -37.40462875366211,
          -36.95297622680664,
          16.028125762939453,
          78.13990020751953,
          -2.3067142963409424,
          -2.3184854984283447,
          1.4780604839324951,
          55.97618103027344,
          76.85601043701172
         ],
         "xaxis": "x",
         "y": [
          -25.25553321838379,
          -26.165557861328125,
          -12.870553970336914,
          -33.554996490478516,
          -12.94568920135498,
          -2.3725550174713135,
          -0.4763954281806946,
          -28.551509857177734,
          33.38799285888672,
          -0.927830159664154,
          -26.731714248657227,
          -10.653718948364258,
          -26.58220672607422,
          -37.18027877807617,
          -37.80845260620117,
          -36.43820571899414,
          34.24454879760742,
          -11.856180191040039,
          -13.806639671325684,
          -27.546539306640625,
          -0.8806977868080139,
          33.52579116821289
         ],
         "yaxis": "y"
        },
        {
         "hovertemplate": "<b>%{hovertext}</b><br><br>color=Regulator<br>x=%{x}<br>y=%{y}<extra></extra>",
         "hovertext": [
          "eu",
          "european parliament",
          "law enforcement",
          "national competent authorities",
          "competent authorities",
          "public authorities",
          "european union",
          "national competent authority",
          "national security",
          "market surveillance authorities",
          "public authority",
          "law enforcement authorities",
          "relevant union",
          "union institutions",
          "asylum authorities",
          "law enforcement authority",
          "border control management",
          "relevant authorities",
          "european council",
          "judicial authority",
          "independent administrative authority",
          "national public authorities",
          "national authorities",
          "administrative authority",
          "the european parliament and the council of the european union",
          "european commission",
          "national parliaments",
          "committee",
          "ecb",
          "union values",
          "euco",
          "border control areas",
          "europol",
          "police cooperation",
          "responsible authorities",
          "customs authorities",
          "regulatory oversight",
          "strict regulatory oversight",
          "regulatory learning",
          "surveillance authorities",
          "enforcement powers",
          "competent market surveillance authority",
          "data protection authorities",
          "public authority competent",
          "public powers",
          "competent authority"
         ],
         "legendgroup": "Regulator",
         "marker": {
          "color": "#ab63fa",
          "symbol": "circle"
         },
         "mode": "markers",
         "name": "Regulator",
         "orientation": "v",
         "showlegend": true,
         "type": "scatter",
         "x": [
          75.48838806152344,
          17.741512298583984,
          31.549104690551758,
          68.87236785888672,
          25.178340911865234,
          -0.030742477625608444,
          36.64302062988281,
          68.88166809082031,
          54.220252990722656,
          25.966039657592773,
          0.3791963458061218,
          30.223661422729492,
          58.15797424316406,
          70.710693359375,
          27.909923553466797,
          30.112382888793945,
          62.955291748046875,
          64.1460952758789,
          37.868473052978516,
          81.54693603515625,
          47.65716552734375,
          56.61001205444336,
          55.75321578979492,
          47.89617919921875,
          17.676572799682617,
          37.7908821105957,
          77.35690307617188,
          -12.193696975708008,
          39.72062683105469,
          70.4356460571289,
          74.51374053955078,
          64.30851745605469,
          74.26734161376953,
          58.26990509033203,
          24.572860717773438,
          30.235767364501953,
          41.0704460144043,
          40.93909454345703,
          39.80021286010742,
          27.26467514038086,
          21.120697021484375,
          25.932165145874023,
          -12.619806289672852,
          24.44338607788086,
          21.642831802368164,
          24.931867599487305
         ],
         "xaxis": "x",
         "y": [
          -49.146366119384766,
          -50.05620574951172,
          28.338356018066406,
          -32.86857223510742,
          11.936195373535156,
          64.9478759765625,
          13.679624557495117,
          -32.868560791015625,
          57.984100341796875,
          -16.757274627685547,
          65.48258972167969,
          25.615999221801758,
          -26.02472496032715,
          14.99268913269043,
          -18.553672790527344,
          25.742895126342773,
          -12.257993698120117,
          44.14946365356445,
          14.881993293762207,
          -38.15779495239258,
          -34.306785583496094,
          -54.104331970214844,
          -53.35685348510742,
          -34.47110366821289,
          -48.9228401184082,
          14.317898750305176,
          -27.293672561645508,
          -70.39778137207031,
          12.400972366333008,
          14.904892921447754,
          -48.548316955566406,
          -12.708517074584961,
          -48.3989143371582,
          11.060787200927734,
          13.123092651367188,
          24.298994064331055,
          -20.46885871887207,
          -20.614023208618164,
          -23.865842819213867,
          -17.94841194152832,
          -3.3235578536987305,
          -15.422122955322266,
          -7.439080715179443,
          10.308024406433105,
          -2.074826240539551,
          11.397621154785156
         ],
         "yaxis": "y"
        },
        {
         "hovertemplate": "<b>%{hovertext}</b><br><br>color=Organization or Person<br>x=%{x}<br>y=%{y}<extra></extra>",
         "hovertext": [
          "natural persons",
          "council",
          "legal person",
          "natural person",
          "international organisations",
          "public services",
          "sme",
          "financial institutions",
          "european central bank",
          "conformity assessment body",
          "market surveillance authority",
          "regions",
          "high-level expert",
          "global leader",
          "parliament",
          "possible damages pursuant",
          "human experts",
          "multiple persons",
          "specific natural person",
          "factory premises",
          "relevant employees",
          "foreign partners",
          "private entity",
          "specific group",
          "religious minorities",
          "private actors",
          "certain groups",
          "lex specialis",
          "kingdom",
          "child",
          "vehicle occupants",
          "vulnerable road users",
          "third-party conformity assessment body pursuant",
          "vocational training institutions",
          "such persons",
          "small entreprises",
          "public administration",
          "small enterprises",
          "own insurance products",
          "information pursuant",
          "certain actors",
          "human operator",
          "person modifies",
          "contact person",
          "vulnerable groups",
          "european standardisation organisations",
          "experimentation labs",
          "relevant stakeholder",
          "civil society organisations",
          "relevant competent authorities",
          "expert laboratories",
          "reference laboratories",
          "relevant stakeholders",
          "such representatives",
          "public entities",
          "administrative cooperation group",
          "temporary sub-groups",
          "experts groups",
          "relevant experts",
          "public entity",
          "investment firms",
          "insurance intermediaries",
          "conformity assessment bodies",
          "natural persons regardless",
          "specific persons",
          "organisation"
         ],
         "legendgroup": "Organization or Person",
         "marker": {
          "color": "#FFA15A",
          "symbol": "circle"
         },
         "mode": "markers",
         "name": "Organization or Person",
         "orientation": "v",
         "showlegend": true,
         "type": "scatter",
         "x": [
          45.4425048828125,
          37.98124313354492,
          46.73089599609375,
          44.971683502197266,
          1.2561126947402954,
          52.36635971069336,
          -13.956171989440918,
          12.10785961151123,
          39.08610916137695,
          67.50106811523438,
          25.728622436523438,
          -13.999298095703125,
          40.189361572265625,
          40.49064636230469,
          77.3565902709961,
          -3.383334159851074,
          60.344078063964844,
          -28.055585861206055,
          44.02128601074219,
          -87.47085571289062,
          67.76162719726562,
          2.46570086479187,
          -31.51059341430664,
          -37.28659439086914,
          -36.94633102416992,
          -4.330936908721924,
          -37.14071273803711,
          40.49064636230469,
          -14.516289710998535,
          -38.98124694824219,
          -40.0689811706543,
          -39.84926986694336,
          43.012664794921875,
          59.37915802001953,
          -26.0346622467041,
          -12.467533111572266,
          -0.6876335740089417,
          -12.743189811706543,
          50.314109802246094,
          -70.72264862060547,
          -4.330955505371094,
          60.56502914428711,
          -26.956235885620117,
          -27.75132942199707,
          -39.576290130615234,
          77.6690444946289,
          -84.34262084960938,
          68.7598648071289,
          0.21861521899700165,
          26.46984100341797,
          -37.694244384765625,
          -37.694114685058594,
          68.75984191894531,
          -24.93353843688965,
          -32.13187789916992,
          59.32981491088867,
          -35.78120803833008,
          39.422607421875,
          39.52384948730469,
          -31.638816833496094,
          10.93214225769043,
          -51.79408264160156,
          67.50106048583984,
          45.480140686035156,
          -26.5870304107666,
          -12.92067813873291
         ],
         "xaxis": "x",
         "y": [
          -5.196401119232178,
          16.084951400756836,
          -5.5350751876831055,
          -5.551450729370117,
          -29.541109085083008,
          72.88050842285156,
          37.014617919921875,
          7.816912651062012,
          13.02816390991211,
          -22.270689010620117,
          -16.887895584106445,
          -72.09310150146484,
          -56.03467559814453,
          -56.78789520263672,
          -27.293336868286133,
          6.649399757385254,
          -41.17363739013672,
          -76.60242462158203,
          -6.273346424102783,
          5.110904216766357,
          45.2913703918457,
          -31.15309715270996,
          -55.596370697021484,
          -11.511731147766113,
          -13.052969932556152,
          -53.92314910888672,
          -11.59728717803955,
          -56.78789520263672,
          -72.83049774169922,
          2.809180736541748,
          -7.852673530578613,
          -8.744549751281738,
          25.85907745361328,
          -69.33648681640625,
          21.536348342895508,
          36.68386459350586,
          64.11969757080078,
          36.48405075073242,
          17.921871185302734,
          2.8173987865448,
          -53.920387268066406,
          -41.34015655517578,
          23.042095184326172,
          21.120655059814453,
          -10.17860221862793,
          -15.441269874572754,
          -30.769622802734375,
          61.56420135498047,
          -30.309175491333008,
          12.260160446166992,
          -66.53722381591797,
          -66.53700256347656,
          61.562828063964844,
          21.084293365478516,
          -56.88156509399414,
          11.448630332946777,
          -11.045138359069824,
          -54.165924072265625,
          -54.41231918334961,
          -55.86275863647461,
          8.121027946472168,
          14.63779067993164,
          -22.272363662719727,
          -3.867056131362915,
          21.76397132873535,
          -70.53443145751953
         ],
         "yaxis": "y"
        },
        {
         "hovertemplate": "<b>%{hovertext}</b><br><br>color=EU Country<br>x=%{x}<br>y=%{y}<extra></extra>",
         "hovertext": [
          "member",
          "ireland",
          "denmark",
          "national authority",
          "recipient member"
         ],
         "legendgroup": "EU Country",
         "marker": {
          "color": "#19d3f3",
          "symbol": "circle"
         },
         "mode": "markers",
         "name": "EU Country",
         "orientation": "v",
         "showlegend": true,
         "type": "scatter",
         "x": [
          -37.94697570800781,
          7.596345901489258,
          7.597587585449219,
          55.53532791137695,
          -37.48381805419922
         ],
         "xaxis": "x",
         "y": [
          3.41811466217041,
          -57.163856506347656,
          -57.163814544677734,
          -53.16733932495117,
          3.3536300659179688
         ],
         "yaxis": "y"
        },
        {
         "hovertemplate": "<b>%{hovertext}</b><br><br>color=Law<br>x=%{x}<br>y=%{y}<extra></extra>",
         "hovertext": [
          "directive",
          "relevant obligations",
          "custodial sentence",
          "detention order",
          "relevant sectorial union law",
          "such agreements",
          "appropriate legal framework",
          "applicable law",
          "national law contributes",
          "future amendments",
          "law enforcement context",
          "union anti-money",
          "relevant legislation",
          "secondary union law",
          "legal ground",
          "relevant data protection law"
         ],
         "legendgroup": "Law",
         "marker": {
          "color": "#FF6692",
          "symbol": "circle"
         },
         "mode": "markers",
         "name": "Law",
         "orientation": "v",
         "showlegend": true,
         "type": "scatter",
         "x": [
          -11.046117782592773,
          10.176176071166992,
          89.27497863769531,
          89.27352905273438,
          14.765243530273438,
          10.429542541503906,
          70.88118743896484,
          92.85697174072266,
          -2.3184854984283447,
          -58.63330841064453,
          32.13153839111328,
          126.70893859863281,
          27.21418571472168,
          57.604190826416016,
          69.1799087524414,
          -14.116450309753418
         ],
         "xaxis": "x",
         "y": [
          -71.12823486328125,
          -86.30856323242188,
          -26.379087448120117,
          -26.377113342285156,
          -33.74635696411133,
          42.355224609375,
          -0.5340730547904968,
          1.0957022905349731,
          -13.806639671325684,
          -26.84902000427246,
          29.51448631286621,
          -17.584585189819336,
          -28.574832916259766,
          -27.777029037475586,
          0.24572773277759552,
          -5.975703239440918
         ],
         "yaxis": "y"
        },
        {
         "hovertemplate": "<b>%{hovertext}</b><br><br>color=Right<br>x=%{x}<br>y=%{y}<extra></extra>",
         "hovertext": [
          "fundamental rights",
          "free movement",
          "data protection",
          "human dignity",
          "fair trial",
          "consumer protection",
          "effective protection",
          "free choices",
          "private life",
          "international protection",
          "fundamental rights obligations",
          "uniform protection",
          "rights",
          "specific rights",
          "such protection",
          "fundamental right",
          "environmental protection",
          "safety",
          "social protection",
          "liberty",
          "individual freedoms",
          "equal treatment"
         ],
         "legendgroup": "Right",
         "marker": {
          "color": "#B6E880",
          "symbol": "circle"
         },
         "mode": "markers",
         "name": "Right",
         "orientation": "v",
         "showlegend": true,
         "type": "scatter",
         "x": [
          53.67271423339844,
          -2.0825936794281006,
          -12.374713897705078,
          63.47432327270508,
          26.60838508605957,
          -23.808727264404297,
          -29.361452102661133,
          -2.4632415771484375,
          -0.6821133494377136,
          1.4780604839324951,
          52.40874481201172,
          -30.20285415649414,
          55.908409118652344,
          55.1479377746582,
          -29.1469669342041,
          53.71278381347656,
          49.80378341674805,
          -10.123641967773438,
          -12.945012092590332,
          -20.29814910888672,
          -19.482717514038086,
          26.608383178710938
         ],
         "xaxis": "x",
         "y": [
          32.655521392822266,
          28.761432647705078,
          -5.69425630569458,
          -43.50221252441406,
          -60.05335998535156,
          -31.983890533447266,
          51.38238525390625,
          29.04949188232422,
          41.98751449584961,
          -27.546539306640625,
          33.0915412902832,
          52.144432067871094,
          33.99555587768555,
          33.539058685302734,
          51.19109344482422,
          32.37822341918945,
          -63.2701530456543,
          -40.17071533203125,
          -39.37080383300781,
          30.30685043334961,
          29.52216339111328,
          -60.05365753173828
         ],
         "yaxis": "y"
        },
        {
         "hovertemplate": "<b>%{hovertext}</b><br><br>color=Data<br>x=%{x}<br>y=%{y}<extra></extra>",
         "hovertext": [
          "personal data",
          "biometric data",
          "input data",
          "such data",
          "knowledge base",
          "data subjects",
          "means data",
          "such information",
          "annex",
          "historical patterns",
          "contractual relationships",
          "text",
          "reference data repository",
          "video footage",
          "reference database",
          "such output",
          "high quality data",
          "training data",
          "data controllers",
          "knowledge graphs",
          "knowledge bases",
          "large number",
          "process data",
          "multiple contexts",
          "social contexts",
          "medical condition",
          "learning outcomes",
          "personality traits",
          "high data quality",
          "quality datasets",
          "european common data spaces",
          "european health data space",
          "health data",
          "high-quality data",
          "instance output data",
          "system output",
          "commercial property",
          "such database",
          "generate content",
          "hair colour",
          "eye colour",
          "ethnic origin",
          "personal preferences",
          "political orientation",
          "validation data",
          "validation dataset",
          "separate dataset",
          "facial images",
          "dactyloscopic data",
          "psychological states",
          "data",
          "data governance",
          "individual data",
          "output",
          "data management",
          "data collection",
          "data analysis",
          "data storage",
          "data filtration",
          "data aggregation",
          "data retention"
         ],
         "legendgroup": "Data",
         "marker": {
          "color": "#FF97FF",
          "symbol": "circle"
         },
         "mode": "markers",
         "name": "Data",
         "orientation": "v",
         "showlegend": true,
         "type": "scatter",
         "x": [
          -0.9653202295303345,
          29.145755767822266,
          -20.232778549194336,
          -70.15542602539062,
          -43.748409271240234,
          -12.719770431518555,
          -11.289987564086914,
          -70.9786605834961,
          -38.98124694824219,
          0.6486767530441284,
          10.385942459106445,
          -46.64470672607422,
          -48.49222183227539,
          48.65663146972656,
          -48.49115753173828,
          -70.50580596923828,
          -30.72793197631836,
          -14.368700981140137,
          -13.558697700500488,
          -44.44386291503906,
          -43.88751220703125,
          -66.46528625488281,
          -19.1624813079834,
          -41.95197677612305,
          -41.897613525390625,
          -51.329254150390625,
          -15.121225357055664,
          -53.1009635925293,
          -30.351966857910156,
          -82.04627227783203,
          -0.8227963447570801,
          -0.8227683305740356,
          -10.512890815734863,
          -30.493330001831055,
          16.57804298400879,
          16.577911376953125,
          -88.30824279785156,
          -69.04859161376953,
          -112.55439758300781,
          -26.730880737304688,
          -26.730945587158203,
          -19.217086791992188,
          -2.2761244773864746,
          38.96819305419922,
          -80.79348754882812,
          -81.09651184082031,
          -82.61251831054688,
          -62.31787872314453,
          -69.04859161376953,
          -92.6242446899414,
          -10.512890815734863,
          -56.85857009887695,
          -0.6048098206520081,
          -70.60466766357422,
          -56.57207489013672,
          -17.854900360107422,
          -17.304903030395508,
          -56.45718002319336,
          -15.737407684326172,
          -16.804960250854492,
          -56.19654083251953
         ],
         "xaxis": "x",
         "y": [
          40.73848342895508,
          -48.659080505371094,
          -52.46265411376953,
          4.780873775482178,
          -53.54252624511719,
          -95.77410888671875,
          -95.22372436523438,
          4.096087455749512,
          2.809180736541748,
          -72.09215545654297,
          43.22802734375,
          -22.907169342041016,
          -64.96904754638672,
          -76.03477478027344,
          -64.9695053100586,
          7.387340068817139,
          -22.269235610961914,
          54.92814254760742,
          -96.10130310058594,
          -54.78120803833008,
          -53.79085159301758,
          -19.156164169311523,
          -52.454166412353516,
          -81.87896728515625,
          -81.78592681884766,
          41.7110595703125,
          49.3194694519043,
          -38.85408020019531,
          -21.000476837158203,
          27.421709060668945,
          -62.15823745727539,
          -62.155433654785156,
          -94.92752075195312,
          -22.50371551513672,
          -62.21516418457031,
          -62.213653564453125,
          5.982025146484375,
          4.9553303718566895,
          13.368391036987305,
          -66.20465850830078,
          -66.19898223876953,
          -83.62731170654297,
          40.805274963378906,
          -68.32725524902344,
          25.886436462402344,
          26.258516311645508,
          28.113296508789062,
          -10.058951377868652,
          4.9553303718566895,
          -88.09465026855469,
          -94.92752075195312,
          -54.3051643371582,
          40.25918197631836,
          8.248608589172363,
          -53.195167541503906,
          -54.55442810058594,
          -57.254737854003906,
          -52.711326599121094,
          -56.33259582519531,
          -56.305206298828125,
          -51.60807418823242
         ],
         "yaxis": "y"
        },
        {
         "hovertemplate": "<b>%{hovertext}</b><br><br>color=High risk AI System<br>x=%{x}<br>y=%{y}<extra></extra>",
         "hovertext": [
          "high-risk ai",
          "high risk",
          "respective high-risk",
          "possible negative consequences",
          "autonomous robots",
          "sophisticated diagnostics systems",
          "high-risk scenarios",
          "judicial authorities",
          "administrative activities",
          "crucial role",
          "defective high-risk",
          "particular use high-risk",
          "medical device framework",
          "biometric categorisation system",
          "significant risks",
          "model flaws"
         ],
         "legendgroup": "High risk AI System",
         "marker": {
          "color": "#FECB52",
          "symbol": "circle"
         },
         "mode": "markers",
         "name": "High risk AI System",
         "orientation": "v",
         "showlegend": true,
         "type": "scatter",
         "x": [
          -90.13139343261719,
          -9.948955535888672,
          -9.182518005371094,
          21.41647720336914,
          37.869728088378906,
          5.220858573913574,
          -48.553714752197266,
          81.54566955566406,
          52.300758361816406,
          1.4097906351089478,
          -11.878674507141113,
          -8.67520523071289,
          -26.686925888061523,
          29.687522888183594,
          -10.240378379821777,
          19.652652740478516
         ],
         "xaxis": "x",
         "y": [
          77.58993530273438,
          14.879348754882812,
          18.866485595703125,
          45.789005279541016,
          -80.5927734375,
          20.010358810424805,
          93.72195434570312,
          -38.1578254699707,
          -13.802608489990234,
          94.4834976196289,
          17.53192901611328,
          19.510251998901367,
          -6.871851444244385,
          -49.97783279418945,
          10.7653169631958,
          47.40837097167969
         ],
         "yaxis": "y"
        },
        {
         "hovertemplate": "<b>%{hovertext}</b><br><br>color=Requirement<br>x=%{x}<br>y=%{y}<extra></extra>",
         "hovertext": [
          "technical documentation",
          "conformity assessment",
          "human oversight",
          "safety components",
          "appropriate safeguards",
          "internal governance",
          "specific requirements",
          "necessary information",
          "obligation",
          "specific rules",
          "judicial cooperation",
          "ensure compliance",
          "safety component",
          "third-party conformity assessment",
          "relevant conformity assessment procedure",
          "product safety",
          "transparency obligations",
          "certain mandatory requirements",
          "conformity assessment procedure",
          "applicable requirements",
          "suitable risk management measures",
          "appropriate risk management measures",
          "fail-safe plans",
          "certain requirements",
          "initial conformity assessment",
          "effective measures",
          "risk management measures",
          "human oversight measures",
          "registration obligations",
          "ordinary legislative procedure",
          "uniform obligations",
          "ethical principles",
          "ethical aspects",
          "administrative provisions",
          "ensure uniform conditions",
          "security restrictions",
          "public safety",
          "clear manifestation",
          "relevant authority",
          "factual possibility",
          "non-discriminatory manner",
          "common normative standards",
          "applicable medical standards",
          "specific authorisation",
          "mandatory requirements",
          "type-approval requirements",
          "general safety",
          "adequate requirements",
          "public trust",
          "ensure accountability",
          "relevant procedural requirements",
          "requirement",
          "trustworthy manner",
          "relevant requirements",
          "human oversight requirement",
          "technical robustness",
          "key requirement",
          "specific obligations",
          "sound quality management system",
          "european standardisation",
          "relevant requirement",
          "safety functions",
          "new conformity assessment",
          "specific transparency obligations",
          "such obligation",
          "risk mitigation measures",
          "new conformity assessment procedure",
          "sufficient guarantees",
          "such guarantees",
          "consent",
          "mandatory documentation",
          "ensure proportionality",
          "costly obligations",
          "transparency requirements",
          "procedural obligations",
          "prudential supervision",
          "ensure consistency",
          "additional requirements",
          "environmental sustainability",
          "safety net",
          "ensure trustful",
          "general product safety",
          "safety function",
          "necessary procedures",
          "european standard",
          "independent evaluation",
          "proportionate safeguards",
          "requirements for high-risk ai systems article",
          "transparency",
          "separate verification",
          "technical redundancy solutions",
          "ensures compliance",
          "regulatory compliance",
          "conformity",
          "authority access"
         ],
         "legendgroup": "Requirement",
         "marker": {
          "color": "#636efa",
          "symbol": "circle"
         },
         "mode": "markers",
         "name": "Requirement",
         "orientation": "v",
         "showlegend": true,
         "type": "scatter",
         "x": [
          -65.89531707763672,
          38.295310974121094,
          36.797367095947266,
          14.899569511413574,
          -26.63667106628418,
          68.56575775146484,
          40.47490692138672,
          -72.12328338623047,
          67.7884521484375,
          57.44369888305664,
          57.99393081665039,
          10.829994201660156,
          14.898521423339844,
          43.24270248413086,
          26.237321853637695,
          -22.50079917907715,
          88.46385955810547,
          33.234779357910156,
          38.105655670166016,
          -1.8577831983566284,
          26.051504135131836,
          25.952499389648438,
          -27.77754783630371,
          40.26567077636719,
          28.618133544921875,
          -24.23362922668457,
          -61.9257926940918,
          36.66859817504883,
          8.229838371276855,
          78.9197006225586,
          11.894647598266602,
          8.398550033569336,
          8.398512840270996,
          48.82646179199219,
          13.006153106689453,
          26.745573043823242,
          -10.18858528137207,
          91.98058319091797,
          63.908653259277344,
          -67.948486328125,
          18.65774154663086,
          5.799598693847656,
          -1.8896124362945557,
          -0.6876335740089417,
          33.50462341308594,
          -1.8896124362945557,
          -21.70416831970215,
          -2.127074718475342,
          47.91951370239258,
          9.53797721862793,
          -4.742015838623047,
          0.504406750202179,
          46.619102478027344,
          -1.6121056079864502,
          37.09226989746094,
          -61.47782897949219,
          0.8534758687019348,
          10.40505313873291,
          -88.9361343383789,
          76.55929565429688,
          -0.6579817533493042,
          -35.576210021972656,
          27.641029357910156,
          88.19918060302734,
          67.78820037841797,
          -61.92568588256836,
          27.21587562561035,
          10.508186340332031,
          10.49666976928711,
          39.84480667114258,
          34.56730270385742,
          -25.00600814819336,
          10.973857879638672,
          89.91947174072266,
          9.121033668518066,
          42.395973205566406,
          12.289271354675293,
          41.29411697387695,
          49.804176330566406,
          -12.103011131286621,
          46.88684844970703,
          -22.23453712463379,
          -35.43266677856445,
          -5.431552410125732,
          76.27630615234375,
          11.827160835266113,
          -26.145126342773438,
          -90.01385498046875,
          91.10101318359375,
          -43.31976318359375,
          -39.1833381652832,
          10.897772789001465,
          39.93937301635742,
          39.25846481323242,
          1.0935322046279907
         ],
         "xaxis": "x",
         "y": [
          21.040069580078125,
          49.60384750366211,
          -37.04926681518555,
          80.53379821777344,
          41.1944580078125,
          -60.355010986328125,
          37.289791107177734,
          4.5186076164245605,
          27.867595672607422,
          -0.6306673884391785,
          10.959651947021484,
          56.357852935791016,
          80.5289077758789,
          26.0372371673584,
          56.040531158447266,
          -32.24863052368164,
          23.73082160949707,
          -8.766860008239746,
          49.386478424072266,
          86.12299346923828,
          86.70806884765625,
          86.47166442871094,
          41.11607360839844,
          37.091697692871094,
          57.47340774536133,
          79.81566619873047,
          64.54658508300781,
          -36.580474853515625,
          -88.65172576904297,
          34.67821502685547,
          -86.06829071044922,
          30.750988006591797,
          30.751005172729492,
          -35.12222671508789,
          57.84606170654297,
          69.98632049560547,
          -40.28547668457031,
          24.652666091918945,
          44.0008659362793,
          24.310819625854492,
          65.69216918945312,
          -2.9922714233398438,
          85.46183013916016,
          64.11969757080078,
          -8.86795425415039,
          85.46183013916016,
          -33.847930908203125,
          92.76741790771484,
          6.690299987792969,
          56.68842315673828,
          93.33482360839844,
          91.472412109375,
          6.143509387969971,
          91.54878997802734,
          -38.11290740966797,
          38.546871185302734,
          93.80891418457031,
          -85.75829315185547,
          -8.816987037658691,
          -15.197959899902344,
          91.84518432617188,
          74.88318634033203,
          56.88975143432617,
          23.661867141723633,
          27.86334800720215,
          64.54399871826172,
          56.62754821777344,
          40.647090911865234,
          40.90799331665039,
          51.37931823730469,
          -9.264016151428223,
          41.3291015625,
          -84.38723754882812,
          24.110836029052734,
          -84.94197845458984,
          -20.068790435791016,
          57.337345123291016,
          38.07639694213867,
          -63.263999938964844,
          -39.624149322509766,
          6.256107330322266,
          -32.779232025146484,
          74.64605712890625,
          93.74080657958984,
          -15.135771751403809,
          -13.271735191345215,
          41.23228454589844,
          78.14627075195312,
          24.421993255615234,
          24.430437088012695,
          61.54668045043945,
          56.0858039855957,
          -18.843584060668945,
          50.70607376098633,
          66.4168472290039
         ],
         "yaxis": "y"
        },
        {
         "hovertemplate": "<b>%{hovertext}</b><br><br>color=AI System Approach<br>x=%{x}<br>y=%{y}<extra></extra>",
         "hovertext": [
          "remote biometric identification systems",
          "decision",
          "remote biometric identification",
          "training",
          "testing",
          "machine learning and/or logic-",
          "learning approaches focus",
          "expert systems",
          "image/speech recognition",
          "exhaustive framework"
         ],
         "legendgroup": "AI System Approach",
         "marker": {
          "color": "#EF553B",
          "symbol": "circle"
         },
         "mode": "markers",
         "name": "AI System Approach",
         "orientation": "v",
         "showlegend": true,
         "type": "scatter",
         "x": [
          -63.701637268066406,
          -11.442439079284668,
          -63.423282623291016,
          -15.094785690307617,
          -16.12582778930664,
          -11.850481986999512,
          -12.656170845031738,
          7.119904518127441,
          -62.01560974121094,
          73.78070831298828
         ],
         "xaxis": "x",
         "y": [
          -38.40898513793945,
          -69.22171783447266,
          -38.331275939941406,
          54.121891021728516,
          54.46998596191406,
          -23.68684959411621,
          49.24364471435547,
          -44.48828125,
          -8.95872688293457,
          -0.28826001286506653
         ],
         "yaxis": "y"
        },
        {
         "hovertemplate": "<b>%{hovertext}</b><br><br>color=AI System<br>x=%{x}<br>y=%{y}<extra></extra>",
         "hovertext": [
          "such systems",
          "machine and/or",
          "machine",
          "intelligence systems",
          "information systems",
          "critical digital infrastrucure",
          "artificial intelligence algorithms",
          "certain biometric identification systems",
          "software architecture",
          "data access infrastructure"
         ],
         "legendgroup": "AI System",
         "marker": {
          "color": "#00cc96",
          "symbol": "circle"
         },
         "mode": "markers",
         "name": "AI System",
         "orientation": "v",
         "showlegend": true,
         "type": "scatter",
         "x": [
          4.937595844268799,
          -70.99236297607422,
          -70.99236297607422,
          5.785389423370361,
          5.452739238739014,
          -40.8275032043457,
          -35.17205047607422,
          -64.79106903076172,
          4.557458400726318,
          -41.80936813354492
         ],
         "xaxis": "x",
         "y": [
          19.068323135375977,
          -30.265213012695312,
          -30.265214920043945,
          -44.60055923461914,
          -45.083011627197266,
          48.43086624145508,
          -40.213401794433594,
          -38.7032356262207,
          -46.4166374206543,
          49.017154693603516
         ],
         "yaxis": "y"
        },
        {
         "hovertemplate": "<b>%{hovertext}</b><br><br>color=AI Domain<br>x=%{x}<br>y=%{y}<extra></extra>",
         "hovertext": [
          "title",
          "general purpose",
          "risk management system",
          "medical devices",
          "national security purposes",
          "border control",
          "own use",
          "public security",
          "recommendation",
          "market surveillance activities",
          "professional activities",
          "defence activities",
          "national security activities",
          "humanitarian purposes",
          "public security purposes",
          "civilian purposes",
          "military activities",
          "law enforcement purposes",
          "regards health",
          "virtual reality",
          "social score",
          "specific purpose",
          "constant surveillance",
          "law enforcement activities",
          "identity checks",
          "identity check",
          "biometric identification",
          "health sector",
          "civil aviation security",
          "marine equipment",
          "rail system",
          "civil aviation",
          "aviation safety",
          "cybersecurity purposes",
          "workers management",
          "task allocation",
          "credit score",
          "creditworthiness assessment",
          "health insurance",
          "individual risk assessments",
          "administrative tasks",
          "respective fields",
          "individual decision-making",
          "surveillance activities",
          "financial services",
          "sectorial nature",
          "speech recognition",
          "video generation",
          "pattern detection",
          "emotion recognition system",
          "interpretation tools"
         ],
         "legendgroup": "AI Domain",
         "marker": {
          "color": "#ab63fa",
          "symbol": "circle"
         },
         "mode": "markers",
         "name": "AI Domain",
         "orientation": "v",
         "showlegend": true,
         "type": "scatter",
         "x": [
          -45.89059066772461,
          9.313387870788574,
          -22.7487735748291,
          -26.87406349182129,
          54.02022933959961,
          63.232200622558594,
          10.075339317321777,
          78.97052001953125,
          -51.24053955078125,
          12.393707275390625,
          26.3441219329834,
          56.85016632080078,
          55.32014846801758,
          60.60997772216797,
          78.97054290771484,
          60.613643646240234,
          56.193878173828125,
          32.47251892089844,
          -49.6566162109375,
          -36.91718292236328,
          -42.56368637084961,
          9.313413619995117,
          15.004834175109863,
          30.513465881347656,
          -76.68217468261719,
          -76.68223571777344,
          29.256242752075195,
          51.2728271484375,
          40.39154815673828,
          -28.11944007873535,
          5.220858573913574,
          40.14970779418945,
          41.339271545410156,
          32.44966125488281,
          47.199195861816406,
          53.38785934448242,
          10.440265655517578,
          10.440357208251953,
          50.50535583496094,
          -21.035423278808594,
          52.52112579345703,
          -8.67520523071289,
          0.08486554026603699,
          14.166930198669434,
          13.574706077575684,
          25.928739547729492,
          -61.880802154541016,
          48.65648651123047,
          0.6488677263259888,
          -61.58835983276367,
          -75.92018127441406
         ],
         "xaxis": "x",
         "y": [
          -23.859533309936523,
          -68.79673767089844,
          70.88461303710938,
          -5.567353248596191,
          57.79292297363281,
          -12.349346160888672,
          -90.997802734375,
          50.47938919067383,
          -11.119179725646973,
          -19.30921745300293,
          -82.379638671875,
          60.49400329589844,
          59.02935791015625,
          22.327152252197266,
          50.47933578491211,
          22.32624053955078,
          59.8661994934082,
          27.747793197631836,
          -0.08698297291994095,
          -41.44736099243164,
          -80.4357681274414,
          -68.7943344116211,
          -20.33306312561035,
          28.717853546142578,
          -21.51262855529785,
          -21.51271629333496,
          -48.92845153808594,
          18.97754669189453,
          61.52277374267578,
          -5.135889530181885,
          20.010358810424805,
          61.36418914794922,
          62.147891998291016,
          2.353806972503662,
          -45.803733825683594,
          -14.72117805480957,
          71.44406127929688,
          71.44377136230469,
          18.136375427246094,
          89.36051940917969,
          -13.989471435546875,
          19.510251998901367,
          39.3221549987793,
          -19.992374420166016,
          9.124116897583008,
          -27.952659606933594,
          -8.480435371398926,
          -76.02642822265625,
          -72.07136535644531,
          -7.378873348236084,
          -10.648673057556152
         ],
         "yaxis": "y"
        },
        {
         "hovertemplate": "<b>%{hovertext}</b><br><br>color=Provider<br>x=%{x}<br>y=%{y}<extra></extra>",
         "hovertext": [
          "provider",
          "product manufacturer",
          "prospective providers",
          "intermediary service providers",
          "relevant operators",
          "medium enterprises",
          "distributor",
          "various operators",
          "service providers",
          "provider identifies",
          "relevant providers",
          "development teams",
          "union market providers"
         ],
         "legendgroup": "Provider",
         "marker": {
          "color": "#FFA15A",
          "symbol": "circle"
         },
         "mode": "markers",
         "name": "Provider",
         "orientation": "v",
         "showlegend": true,
         "type": "scatter",
         "x": [
          -54.45303726196289,
          -21.951950073242188,
          -52.15258026123047,
          -51.953887939453125,
          30.864572525024414,
          -12.603301048278809,
          -55.65683364868164,
          30.86453628540039,
          -51.988502502441406,
          6.612624168395996,
          65.45177459716797,
          -20.027568817138672,
          46.04802703857422
         ],
         "xaxis": "x",
         "y": [
          12.645967483520508,
          -31.041711807250977,
          11.500656127929688,
          13.385139465332031,
          40.27824783325195,
          35.17074203491211,
          12.558135032653809,
          40.27816390991211,
          12.787811279296875,
          -130.58642578125,
          44.951133728027344,
          2.6429455280303955,
          -44.98196029663086
         ],
         "yaxis": "y"
        },
        {
         "hovertemplate": "<b>%{hovertext}</b><br><br>color=Market<br>x=%{x}<br>y=%{y}<extra></extra>",
         "hovertext": [
          "internal market",
          "union market",
          "market",
          "supply chain",
          "trade name",
          "trade mark",
          "cross border",
          "competitive advantages",
          "economic activities",
          "available alternatives",
          "market evaluations",
          "market surveillance tasks",
          "ex post market surveillance activities",
          "financial sector",
          "particular electronic commerce",
          "electronic commerce",
          "commercial activity"
         ],
         "legendgroup": "Market",
         "marker": {
          "color": "#19d3f3",
          "symbol": "circle"
         },
         "mode": "markers",
         "name": "Market",
         "orientation": "v",
         "showlegend": true,
         "type": "scatter",
         "x": [
          68.5657730102539,
          46.282962799072266,
          10.842029571533203,
          -56.578147888183594,
          -4.726678848266602,
          -4.726680755615234,
          28.85832977294922,
          -51.131874084472656,
          -88.40367889404297,
          -3.2644591331481934,
          11.876790046691895,
          11.16919231414795,
          11.85373306274414,
          10.93214225769043,
          26.185108184814453,
          26.284950256347656,
          -88.67540740966797
         ],
         "xaxis": "x",
         "y": [
          -60.35502243041992,
          -45.149925231933594,
          -14.804107666015625,
          12.492264747619629,
          -81.79833221435547,
          -81.79822540283203,
          -69.99601745605469,
          -40.606361389160156,
          7.6857991218566895,
          29.6817684173584,
          -14.55892562866211,
          -18.11920928955078,
          -20.52499008178711,
          8.121027946472168,
          -38.74419021606445,
          -39.01556396484375,
          6.415071964263916
         ],
         "yaxis": "y"
        },
        {
         "hovertemplate": "<b>%{hovertext}</b><br><br>color=System risk<br>x=%{x}<br>y=%{y}<extra></extra>",
         "hovertext": [
          "criminal offences",
          "critical infrastructure",
          "application problem",
          "vulnerable position",
          "defective products",
          "vulnerabilities",
          "physical integrity",
          "manipulative techniques",
          "unfair commercial practices",
          "financial harms",
          "exploitative practices",
          "physical safety",
          "critical digital infrastructure",
          "unjust manner",
          "possible shortcomings",
          "systems incomprehensible",
          "erroneous decisions",
          "cybersecurity",
          "adversarial attacks",
          "system vulnerabilities"
         ],
         "legendgroup": "System risk",
         "marker": {
          "color": "#FF6692",
          "symbol": "circle"
         },
         "mode": "markers",
         "name": "System risk",
         "orientation": "v",
         "showlegend": true,
         "type": "scatter",
         "x": [
          38.04892349243164,
          -39.415042877197266,
          -1.8896124362945557,
          16.03462791442871,
          -12.786823272705078,
          16.934526443481445,
          -8.236802101135254,
          -28.941104888916016,
          -90.59695434570312,
          -11.607949256896973,
          -27.75214385986328,
          -8.923938751220703,
          -40.40272521972656,
          -91.83305358886719,
          20.313518524169922,
          -62.43018341064453,
          -3.2644591331481934,
          32.49486541748047,
          -38.362098693847656,
          17.331052780151367
         ],
         "xaxis": "x",
         "y": [
          73.53007507324219,
          47.600242614746094,
          85.46183013916016,
          23.28752326965332,
          17.796714782714844,
          22.5026798248291,
          -42.98445129394531,
          10.895421981811523,
          6.308837890625,
          70.44986724853516,
          11.470782279968262,
          -41.98336410522461,
          48.17985534667969,
          6.209931373596191,
          46.79691696166992,
          39.60493469238281,
          29.6817684173584,
          2.087454319000244,
          16.126832962036133,
          20.78816032409668
         ],
         "yaxis": "y"
        },
        {
         "hovertemplate": "<b>%{hovertext}</b><br><br>color=AI System Quality measure<br>x=%{x}<br>y=%{y}<extra></extra>",
         "hovertext": [
          "quality management system",
          "experimentation facilities",
          "lawful evaluation practices",
          "risk assessment",
          "validation processes",
          "relevant risk management system",
          "appropriate human oversight measures",
          "such measures",
          "accuracy metrics",
          "safety impacts",
          "suitable measures",
          "effective implementation",
          "supervisory mechanisms",
          "performs third-party conformity assessment activities",
          "control measures",
          "quality criteria",
          "care measures",
          "accuracy",
          "relevant accuracy metrics",
          "regards errors",
          "quality",
          "design control",
          "design verification",
          "quality control",
          "quality assurance"
         ],
         "legendgroup": "AI System Quality measure",
         "marker": {
          "color": "#B6E880",
          "symbol": "circle"
         },
         "mode": "markers",
         "name": "AI System Quality measure",
         "orientation": "v",
         "showlegend": true,
         "type": "scatter",
         "x": [
          -88.93482971191406,
          -84.3426284790039,
          12.926007270812988,
          -21.035438537597656,
          -80.0941390991211,
          -22.749513626098633,
          36.38117980957031,
          27.075456619262695,
          -75.22740936279297,
          -50.03635025024414,
          26.762237548828125,
          -24.233003616333008,
          19.336793899536133,
          44.13745880126953,
          49.550479888916016,
          20.36309242248535,
          49.35470962524414,
          -128.78663635253906,
          -75.22736358642578,
          -51.075923919677734,
          21.06097412109375,
          -41.922698974609375,
          -42.20979309082031,
          19.199735641479492,
          18.98592185974121
         ],
         "xaxis": "x",
         "y": [
          -8.816978454589844,
          -30.768817901611328,
          -14.737743377685547,
          89.36023712158203,
          24.967912673950195,
          70.88714599609375,
          -35.51736068725586,
          89.15686798095703,
          40.61272430419922,
          58.685523986816406,
          88.40994262695312,
          79.81620788574219,
          -3.955308675765991,
          26.72629165649414,
          44.85408401489258,
          34.58147430419922,
          44.64104461669922,
          -14.58629035949707,
          40.61276626586914,
          -0.13217410445213318,
          35.136837005615234,
          24.208837509155273,
          24.254043579101562,
          33.66762924194336,
          33.492095947265625
         ],
         "yaxis": "y"
        },
        {
         "hovertemplate": "<b>%{hovertext}</b><br><br>color=Poisoning risk<br>x=%{x}<br>y=%{y}<extra></extra>",
         "hovertext": [
          "real world conditions"
         ],
         "legendgroup": "Poisoning risk",
         "marker": {
          "color": "#FF97FF",
          "symbol": "circle"
         },
         "mode": "markers",
         "name": "Poisoning risk",
         "orientation": "v",
         "showlegend": true,
         "type": "scatter",
         "x": [
          -43.415306091308594
         ],
         "xaxis": "x",
         "y": [
          -84.85597229003906
         ],
         "yaxis": "y"
        },
        {
         "hovertemplate": "<b>%{hovertext}</b><br><br>color=User<br>x=%{x}<br>y=%{y}<extra></extra>",
         "hovertext": [
          "credit institutions",
          "user",
          "financial institutions subject",
          "user obligations",
          "personal non-professional activity",
          "bank",
          "high-risk pursuant",
          "medical devices pursuant",
          "measures pursuant"
         ],
         "legendgroup": "User",
         "marker": {
          "color": "#FECB52",
          "symbol": "circle"
         },
         "mode": "markers",
         "name": "User",
         "orientation": "v",
         "showlegend": true,
         "type": "scatter",
         "x": [
          12.56755542755127,
          -37.748226165771484,
          10.93214225769043,
          9.185378074645996,
          26.343854904174805,
          12.761703491210938,
          29.004032135009766,
          -26.604183197021484,
          27.075456619262695
         ],
         "xaxis": "x",
         "y": [
          7.6981048583984375,
          4.9473371505737305,
          8.121027946472168,
          -88.72848510742188,
          -82.37831115722656,
          5.9650678634643555,
          128.09127807617188,
          -5.345513343811035,
          89.15686798095703
         ],
         "yaxis": "y"
        },
        {
         "hovertemplate": "<b>%{hovertext}</b><br><br>color=AI System Development Process<br>x=%{x}<br>y=%{y}<extra></extra>",
         "hovertext": [
          "corrective actions",
          "technical solutions",
          "technical specifications",
          "optimisation methods",
          "logic",
          "technological developments",
          "protocol",
          "continuous iterative process",
          "entire lifecycle",
          "development process",
          "future technological developments",
          "system functions",
          "human involvement",
          "step-by-step instructions",
          "learning",
          "machine learning",
          "learning approaches",
          "reinforcement learning",
          "deep learning",
          "neural networks",
          "statistical techniques",
          "instance logistic regression",
          "bayesian",
          "approaches focus",
          "logical reasoning capabilities",
          "inference engine",
          "deductive engines",
          "regards machine learning approaches",
          "research activity",
          "such research",
          "certain artificial intelligence practices",
          "vocational training",
          "programme",
          "high quality training",
          "technical feasibility",
          "data minimisation",
          "standardisation process",
          "specific logic",
          "initial phase",
          "learning process",
          "specific technical processing",
          "relevant design choices",
          "data collection processes",
          "relevant data preparation processing operations"
         ],
         "legendgroup": "AI System Development Process",
         "marker": {
          "color": "#636efa",
          "symbol": "circle"
         },
         "mode": "markers",
         "name": "AI System Development Process",
         "orientation": "v",
         "showlegend": true,
         "type": "scatter",
         "x": [
          50.32352066040039,
          -39.00569152832031,
          -65.82099151611328,
          -72.24845123291016,
          59.53932571411133,
          -58.0723762512207,
          74.50717163085938,
          -21.414581298828125,
          -66.29247283935547,
          -20.46763801574707,
          -58.23855209350586,
          -36.336063385009766,
          61.75847244262695,
          -52.12152862548828,
          -14.684802055358887,
          -12.00940227508545,
          -14.212201118469238,
          -13.569899559020996,
          -12.375286102294922,
          5.414780139923096,
          -71.3687515258789,
          -120.06598663330078,
          -52.86711883544922,
          -11.913519859313965,
          -11.532120704650879,
          -79.87065887451172,
          -79.86933898925781,
          -10.576356887817383,
          -73.85682678222656,
          -73.21878051757812,
          -33.275150299072266,
          59.37918472290039,
          -13.928586959838867,
          -32.00212097167969,
          -67.00403594970703,
          -11.54106616973877,
          18.920270919799805,
          58.64298629760742,
          -21.414581298828125,
          -14.292449951171875,
          -93.24385070800781,
          -1.4511041641235352,
          -18.086721420288086,
          -18.69769859313965
         ],
         "xaxis": "x",
         "y": [
          45.68598937988281,
          61.329681396484375,
          22.383886337280273,
          53.02577209472656,
          -0.27618804574012756,
          -25.30859375,
          -3.1402053833007812,
          3.296773910522461,
          27.26067352294922,
          2.8505334854125977,
          -25.7747745513916,
          76.13713836669922,
          -42.233726501464844,
          -12.238037109375,
          52.53768539428711,
          -24.295984268188477,
          50.267127990722656,
          -24.143774032592773,
          -25.685840606689453,
          -43.31655502319336,
          52.3115348815918,
          -43.14863586425781,
          29.934114456176758,
          48.73626708984375,
          -22.462360382080078,
          -40.55220031738281,
          -40.552978515625,
          -24.927417755126953,
          1.678329348564148,
          2.2194695472717285,
          -41.13114929199219,
          -69.33993530273438,
          -69.7547607421875,
          -22.63949966430664,
          24.510953903198242,
          -4.841738224029541,
          -72.92884826660156,
          -0.42877888679504395,
          3.296773910522461,
          50.8358268737793,
          22.027244567871094,
          90.15786743164062,
          -54.177799224853516,
          -51.49378967285156
         ],
         "yaxis": "y"
        },
        {
         "hovertemplate": "<b>%{hovertext}</b><br><br>color=Risk<br>x=%{x}<br>y=%{y}<extra></extra>",
         "hovertext": [
          "such harm",
          "possible risks",
          "safety risks",
          "significant risk",
          "new high-risk",
          "generate risks",
          "lethal force",
          "human behaviour",
          "psychological harms",
          "extreme poverty",
          "phycological harm",
          "distortion results",
          "psychological harm",
          "such harm results",
          "mental disease",
          "physical rehabilitation",
          "harmful manipulative",
          "certain threats",
          "terrorist attack",
          "different criminal offences",
          "criminal matters",
          "unacceptable risks",
          "significant harmful impact",
          "possible harm",
          "discriminatory effects",
          "serious consequences",
          "criminal proceedings",
          "potential criminal offence",
          "past criminal behaviour",
          "certain risks",
          "potential biases",
          "exceptional fall",
          "specific risks",
          "legal uncertainty",
          "specific issues",
          "serious incidents",
          "risk",
          "foreseeable risks",
          "residual risk",
          "overall residual risk",
          "such risks persist",
          "specific vulnerabilities",
          "adversarial examples",
          "serious incident"
         ],
         "legendgroup": "Risk",
         "marker": {
          "color": "#EF553B",
          "symbol": "circle"
         },
         "mode": "markers",
         "name": "Risk",
         "orientation": "v",
         "showlegend": true,
         "type": "scatter",
         "x": [
          -56.796897888183594,
          -5.487262725830078,
          -50.03308868408203,
          -10.231377601623535,
          -10.538483619689941,
          -113.09034729003906,
          58.935272216796875,
          62.74154281616211,
          -11.755147933959961,
          22.624408721923828,
          -11.970376968383789,
          -58.0256462097168,
          -11.819530487060547,
          -57.04082489013672,
          -51.32977294921875,
          -7.712932109832764,
          -28.97010040283203,
          -13.882403373718262,
          35.108463287353516,
          38.16210174560547,
          84.03882598876953,
          -10.013862609863281,
          -4.888991355895996,
          -4.488554954528809,
          -26.41642951965332,
          21.776226043701172,
          84.03086853027344,
          38.7920036315918,
          39.16582107543945,
          -13.03847885131836,
          -32.65074920654297,
          -0.5919768214225769,
          -10.013862609863281,
          68.35780334472656,
          18.690704345703125,
          0.05009184777736664,
          -5.44593620300293,
          -34.44670486450195,
          -50.66753387451172,
          -50.66762161254883,
          -10.013862609863281,
          17.384231567382812,
          -38.362098693847656,
          -0.08118568360805511
         ],
         "xaxis": "x",
         "y": [
          50.567874908447266,
          8.112468719482422,
          58.69291687011719,
          11.62531852722168,
          17.1937255859375,
          13.573427200317383,
          114.36508178710938,
          -42.961666107177734,
          69.3164291381836,
          44.68918991088867,
          67.69107818603516,
          51.27182388305664,
          68.82500457763672,
          50.7044792175293,
          41.711647033691406,
          -43.739341735839844,
          10.550884246826172,
          10.460698127746582,
          1.684461236000061,
          73.77720642089844,
          11.225871086120605,
          9.811280250549316,
          5.643121719360352,
          6.630727767944336,
          61.54983139038086,
          45.460445404052734,
          11.225872039794922,
          75.1207275390625,
          75.9255142211914,
          10.557015419006348,
          30.904268264770508,
          52.94586944580078,
          9.811280250549316,
          0.5929204821586609,
          22.36743927001953,
          51.673484802246094,
          8.910175323486328,
          126.6084213256836,
          71.57640838623047,
          71.57477569580078,
          9.811280250549316,
          22.114505767822266,
          16.126827239990234,
          51.931182861328125
         ],
         "yaxis": "y"
        },
        {
         "hovertemplate": "<b>%{hovertext}</b><br><br>color=Products<br>x=%{x}<br>y=%{y}<extra></extra>",
         "hovertext": [
          "similar tools",
          "ai-enabled",
          "digital products",
          "ai-on",
          "regards product",
          "compliant products",
          "such products",
          "high-risk products",
          "electronic notification tool"
         ],
         "legendgroup": "Products",
         "marker": {
          "color": "#00cc96",
          "symbol": "circle"
         },
         "mode": "markers",
         "name": "Products",
         "orientation": "v",
         "showlegend": true,
         "type": "scatter",
         "x": [
          -74.5005874633789,
          -19.867382049560547,
          -71.23834991455078,
          -21.048086166381836,
          -49.9351692199707,
          -41.846031188964844,
          -42.9227180480957,
          -9.222589492797852,
          26.67715835571289
         ],
         "xaxis": "x",
         "y": [
          -10.646820068359375,
          -15.004312515258789,
          -50.79338073730469,
          -15.980850219726562,
          -0.09617821127176285,
          36.86027145385742,
          37.19789505004883,
          14.744308471679688,
          -40.074851989746094
         ],
         "yaxis": "y"
        },
        {
         "hovertemplate": "<b>%{hovertext}</b><br><br>color=AI System properties<br>x=%{x}<br>y=%{y}<extra></extra>",
         "hovertext": [
          "common specifications",
          "system interacts",
          "appropriate statistical properties",
          "ethical artificial intelligence",
          "particular technology",
          "real-time",
          "digital nature",
          "respect freedom",
          "specific characteristics",
          "subliminal techniques",
          "autonomy",
          "maximum period",
          "such threshold",
          "digital environment",
          "large scale",
          "non-discriminatory nature",
          "general characteristics",
          "security properties",
          "final product complies",
          "harmonised",
          "standardisation",
          "technical complexity",
          "own responsibility",
          "rapid availability",
          "innovative technologies",
          "full functionality",
          "artificial intelligence regulatory sandboxes",
          "open source software",
          "learnable parameters",
          "non-learnable parameters",
          "probabilistic thresholds",
          "up-to date"
         ],
         "legendgroup": "AI System properties",
         "marker": {
          "color": "#ab63fa",
          "symbol": "circle"
         },
         "mode": "markers",
         "name": "AI System properties",
         "orientation": "v",
         "showlegend": true,
         "type": "scatter",
         "x": [
          -65.66284942626953,
          -36.799625396728516,
          -71.13761138916016,
          -31.21131706237793,
          -93.24622344970703,
          -43.96670150756836,
          -72.6280746459961,
          -19.27318000793457,
          -51.596710205078125,
          -30.01429557800293,
          37.87278747558594,
          -66.09811401367188,
          -51.75200271606445,
          -72.11740112304688,
          -66.46533203125,
          18.657861709594727,
          -51.591983795166016,
          26.701051712036133,
          -41.568931579589844,
          16.028125762939453,
          18.920310974121094,
          -61.66804122924805,
          9.766980171203613,
          -116.76563262939453,
          -57.68633270263672,
          -66.57499694824219,
          -33.275150299072266,
          4.054396152496338,
          -89.26260375976562,
          -89.26271057128906,
          -51.97418212890625,
          -44.36809158325195
         ],
         "xaxis": "x",
         "y": [
          22.488718032836914,
          76.90682220458984,
          52.124088287353516,
          -42.27918243408203,
          22.02717399597168,
          -85.9908218383789,
          -52.77580642700195,
          29.320266723632812,
          -39.14452362060547,
          11.661072731018066,
          -80.5931625366211,
          28.16135025024414,
          29.053207397460938,
          -52.03787612915039,
          -19.156206130981445,
          65.68896484375,
          -39.1414680480957,
          69.70075988769531,
          36.77552795410156,
          -36.43820571899414,
          -72.94099426269531,
          38.75982666015625,
          -90.13113403320312,
          53.446311950683594,
          -24.223548889160156,
          26.02312469482422,
          -41.13114929199219,
          -47.16161346435547,
          -20.054269790649414,
          -20.053367614746094,
          29.23267936706543,
          -86.8118667602539
         ],
         "yaxis": "y"
        },
        {
         "hovertemplate": "<b>%{hovertext}</b><br><br>color=Data Risk<br>x=%{x}<br>y=%{y}<extra></extra>",
         "hovertext": [
          "ethnic origins",
          "sexual orientation",
          "factors external",
          "discriminatory outcomes",
          "unfavourable treatment",
          "complex environments",
          "discriminatory impacts",
          "critical situations",
          "unexpected situations",
          "certain anomalies",
          "possible duplication",
          "possible biases",
          "possible data gaps",
          "automation bias"
         ],
         "legendgroup": "Data Risk",
         "marker": {
          "color": "#FFA15A",
          "symbol": "circle"
         },
         "mode": "markers",
         "name": "Data Risk",
         "orientation": "v",
         "showlegend": true,
         "type": "scatter",
         "x": [
          -19.217069625854492,
          38.966102600097656,
          2.9884555339813232,
          -27.202468872070312,
          -92.75016021728516,
          -42.87459182739258,
          -26.21508026123047,
          -48.25760269165039,
          -48.553714752197266,
          -50.59319305419922,
          -39.8946418762207,
          -32.935035705566406,
          -32.902923583984375,
          -34.051631927490234
         ],
         "xaxis": "x",
         "y": [
          -83.62397003173828,
          -68.3223876953125,
          -31.87508773803711,
          62.37028503417969,
          6.134530544281006,
          -83.7540512084961,
          61.34218978881836,
          93.2254409790039,
          93.72195434570312,
          -37.989925384521484,
          62.43666458129883,
          31.063440322875977,
          32.392208099365234,
          30.341747283935547
         ],
         "yaxis": "y"
        },
        {
         "hovertemplate": "<b>%{hovertext}</b><br><br>color=Services<br>x=%{x}<br>y=%{y}<extra></extra>",
         "hovertext": [
          "digital solutions",
          "certain services",
          "essential services",
          "telecommunication services",
          "response services",
          "information society services"
         ],
         "legendgroup": "Services",
         "marker": {
          "color": "#19d3f3",
          "symbol": "circle"
         },
         "mode": "markers",
         "name": "Services",
         "orientation": "v",
         "showlegend": true,
         "type": "scatter",
         "x": [
          -70.97550201416016,
          52.49305725097656,
          52.98936462402344,
          38.37835693359375,
          -50.44395446777344,
          37.866390228271484
         ],
         "xaxis": "x",
         "y": [
          -50.402889251708984,
          73.14334106445312,
          74.16313171386719,
          -104.83149719238281,
          12.401619911193848,
          -105.08367919921875
         ],
         "yaxis": "y"
        },
        {
         "hovertemplate": "<b>%{hovertext}</b><br><br>color=No-risk AI System<br>x=%{x}<br>y=%{y}<extra></extra>",
         "hovertext": [
          "simpler software systems",
          "safe integration"
         ],
         "legendgroup": "No-risk AI System",
         "marker": {
          "color": "#FF6692",
          "symbol": "circle"
         },
         "mode": "markers",
         "name": "No-risk AI System",
         "orientation": "v",
         "showlegend": true,
         "type": "scatter",
         "x": [
          5.220858573913574,
          -9.298738479614258
         ],
         "xaxis": "x",
         "y": [
          20.010358810424805,
          -38.9859504699707
         ],
         "yaxis": "y"
        },
        {
         "hovertemplate": "<b>%{hovertext}</b><br><br>color=Affected entities<br>x=%{x}<br>y=%{y}<extra></extra>",
         "hovertext": [
          "potential victims",
          "critical entities",
          "relevant entities",
          "different persons",
          "cross-border users"
         ],
         "legendgroup": "Affected entities",
         "marker": {
          "color": "#B6E880",
          "symbol": "circle"
         },
         "mode": "markers",
         "name": "Affected entities",
         "orientation": "v",
         "showlegend": true,
         "type": "scatter",
         "x": [
          -40.3046760559082,
          66.80265045166016,
          66.78539276123047,
          -28.055252075195312,
          28.85832977294922
         ],
         "xaxis": "x",
         "y": [
          -10.8215913772583,
          46.857975006103516,
          45.76765823364258,
          -76.60277557373047,
          -69.99696350097656
         ],
         "yaxis": "y"
        },
        {
         "hovertemplate": "<b>%{hovertext}</b><br><br>color=Low risk AI System<br>x=%{x}<br>y=%{y}<extra></extra>",
         "hovertext": [
          "protective systems",
          "translation"
         ],
         "legendgroup": "Low risk AI System",
         "marker": {
          "color": "#FF97FF",
          "symbol": "circle"
         },
         "mode": "markers",
         "name": "Low risk AI System",
         "orientation": "v",
         "showlegend": true,
         "type": "scatter",
         "x": [
          4.751159191131592,
          -47.21141815185547
         ],
         "xaxis": "x",
         "y": [
          18.446195602416992,
          -22.188472747802734
         ],
         "yaxis": "y"
        },
        {
         "hovertemplate": "<b>%{hovertext}</b><br><br>color=Cyber attack<br>x=%{x}<br>y=%{y}<extra></extra>",
         "hovertext": [
          "cyberattacks",
          "cybersecurity scheme"
         ],
         "legendgroup": "Cyber attack",
         "marker": {
          "color": "#FECB52",
          "symbol": "circle"
         },
         "mode": "markers",
         "name": "Cyber attack",
         "orientation": "v",
         "showlegend": true,
         "type": "scatter",
         "x": [
          34.232872009277344,
          31.428312301635742
         ],
         "xaxis": "x",
         "y": [
          1.8115872144699097,
          1.2847869396209717
         ],
         "yaxis": "y"
        },
        {
         "hovertemplate": "<b>%{hovertext}</b><br><br>color=Rules<br>x=%{x}<br>y=%{y}<extra></extra>",
         "hovertext": [
          "general rule",
          "risk management rules",
          "relevant rules"
         ],
         "legendgroup": "Rules",
         "marker": {
          "color": "#636efa",
          "symbol": "circle"
         },
         "mode": "markers",
         "name": "Rules",
         "orientation": "v",
         "showlegend": true,
         "type": "scatter",
         "x": [
          4.458934307098389,
          -3.9437334537506104,
          -2.9504528045654297
         ],
         "xaxis": "x",
         "y": [
          -2.254425048828125,
          116.79533386230469,
          91.04618072509766
         ],
         "yaxis": "y"
        }
       ],
       "layout": {
        "legend": {
         "title": {
          "text": "Cluster"
         },
         "tracegroupgap": 0
        },
        "margin": {
         "t": 60
        },
        "template": {
         "data": {
          "bar": [
           {
            "error_x": {
             "color": "#2a3f5f"
            },
            "error_y": {
             "color": "#2a3f5f"
            },
            "marker": {
             "line": {
              "color": "#E5ECF6",
              "width": 0.5
             },
             "pattern": {
              "fillmode": "overlay",
              "size": 10,
              "solidity": 0.2
             }
            },
            "type": "bar"
           }
          ],
          "barpolar": [
           {
            "marker": {
             "line": {
              "color": "#E5ECF6",
              "width": 0.5
             },
             "pattern": {
              "fillmode": "overlay",
              "size": 10,
              "solidity": 0.2
             }
            },
            "type": "barpolar"
           }
          ],
          "carpet": [
           {
            "aaxis": {
             "endlinecolor": "#2a3f5f",
             "gridcolor": "white",
             "linecolor": "white",
             "minorgridcolor": "white",
             "startlinecolor": "#2a3f5f"
            },
            "baxis": {
             "endlinecolor": "#2a3f5f",
             "gridcolor": "white",
             "linecolor": "white",
             "minorgridcolor": "white",
             "startlinecolor": "#2a3f5f"
            },
            "type": "carpet"
           }
          ],
          "choropleth": [
           {
            "colorbar": {
             "outlinewidth": 0,
             "ticks": ""
            },
            "type": "choropleth"
           }
          ],
          "contour": [
           {
            "colorbar": {
             "outlinewidth": 0,
             "ticks": ""
            },
            "colorscale": [
             [
              0,
              "#0d0887"
             ],
             [
              0.1111111111111111,
              "#46039f"
             ],
             [
              0.2222222222222222,
              "#7201a8"
             ],
             [
              0.3333333333333333,
              "#9c179e"
             ],
             [
              0.4444444444444444,
              "#bd3786"
             ],
             [
              0.5555555555555556,
              "#d8576b"
             ],
             [
              0.6666666666666666,
              "#ed7953"
             ],
             [
              0.7777777777777778,
              "#fb9f3a"
             ],
             [
              0.8888888888888888,
              "#fdca26"
             ],
             [
              1,
              "#f0f921"
             ]
            ],
            "type": "contour"
           }
          ],
          "contourcarpet": [
           {
            "colorbar": {
             "outlinewidth": 0,
             "ticks": ""
            },
            "type": "contourcarpet"
           }
          ],
          "heatmap": [
           {
            "colorbar": {
             "outlinewidth": 0,
             "ticks": ""
            },
            "colorscale": [
             [
              0,
              "#0d0887"
             ],
             [
              0.1111111111111111,
              "#46039f"
             ],
             [
              0.2222222222222222,
              "#7201a8"
             ],
             [
              0.3333333333333333,
              "#9c179e"
             ],
             [
              0.4444444444444444,
              "#bd3786"
             ],
             [
              0.5555555555555556,
              "#d8576b"
             ],
             [
              0.6666666666666666,
              "#ed7953"
             ],
             [
              0.7777777777777778,
              "#fb9f3a"
             ],
             [
              0.8888888888888888,
              "#fdca26"
             ],
             [
              1,
              "#f0f921"
             ]
            ],
            "type": "heatmap"
           }
          ],
          "heatmapgl": [
           {
            "colorbar": {
             "outlinewidth": 0,
             "ticks": ""
            },
            "colorscale": [
             [
              0,
              "#0d0887"
             ],
             [
              0.1111111111111111,
              "#46039f"
             ],
             [
              0.2222222222222222,
              "#7201a8"
             ],
             [
              0.3333333333333333,
              "#9c179e"
             ],
             [
              0.4444444444444444,
              "#bd3786"
             ],
             [
              0.5555555555555556,
              "#d8576b"
             ],
             [
              0.6666666666666666,
              "#ed7953"
             ],
             [
              0.7777777777777778,
              "#fb9f3a"
             ],
             [
              0.8888888888888888,
              "#fdca26"
             ],
             [
              1,
              "#f0f921"
             ]
            ],
            "type": "heatmapgl"
           }
          ],
          "histogram": [
           {
            "marker": {
             "pattern": {
              "fillmode": "overlay",
              "size": 10,
              "solidity": 0.2
             }
            },
            "type": "histogram"
           }
          ],
          "histogram2d": [
           {
            "colorbar": {
             "outlinewidth": 0,
             "ticks": ""
            },
            "colorscale": [
             [
              0,
              "#0d0887"
             ],
             [
              0.1111111111111111,
              "#46039f"
             ],
             [
              0.2222222222222222,
              "#7201a8"
             ],
             [
              0.3333333333333333,
              "#9c179e"
             ],
             [
              0.4444444444444444,
              "#bd3786"
             ],
             [
              0.5555555555555556,
              "#d8576b"
             ],
             [
              0.6666666666666666,
              "#ed7953"
             ],
             [
              0.7777777777777778,
              "#fb9f3a"
             ],
             [
              0.8888888888888888,
              "#fdca26"
             ],
             [
              1,
              "#f0f921"
             ]
            ],
            "type": "histogram2d"
           }
          ],
          "histogram2dcontour": [
           {
            "colorbar": {
             "outlinewidth": 0,
             "ticks": ""
            },
            "colorscale": [
             [
              0,
              "#0d0887"
             ],
             [
              0.1111111111111111,
              "#46039f"
             ],
             [
              0.2222222222222222,
              "#7201a8"
             ],
             [
              0.3333333333333333,
              "#9c179e"
             ],
             [
              0.4444444444444444,
              "#bd3786"
             ],
             [
              0.5555555555555556,
              "#d8576b"
             ],
             [
              0.6666666666666666,
              "#ed7953"
             ],
             [
              0.7777777777777778,
              "#fb9f3a"
             ],
             [
              0.8888888888888888,
              "#fdca26"
             ],
             [
              1,
              "#f0f921"
             ]
            ],
            "type": "histogram2dcontour"
           }
          ],
          "mesh3d": [
           {
            "colorbar": {
             "outlinewidth": 0,
             "ticks": ""
            },
            "type": "mesh3d"
           }
          ],
          "parcoords": [
           {
            "line": {
             "colorbar": {
              "outlinewidth": 0,
              "ticks": ""
             }
            },
            "type": "parcoords"
           }
          ],
          "pie": [
           {
            "automargin": true,
            "type": "pie"
           }
          ],
          "scatter": [
           {
            "fillpattern": {
             "fillmode": "overlay",
             "size": 10,
             "solidity": 0.2
            },
            "type": "scatter"
           }
          ],
          "scatter3d": [
           {
            "line": {
             "colorbar": {
              "outlinewidth": 0,
              "ticks": ""
             }
            },
            "marker": {
             "colorbar": {
              "outlinewidth": 0,
              "ticks": ""
             }
            },
            "type": "scatter3d"
           }
          ],
          "scattercarpet": [
           {
            "marker": {
             "colorbar": {
              "outlinewidth": 0,
              "ticks": ""
             }
            },
            "type": "scattercarpet"
           }
          ],
          "scattergeo": [
           {
            "marker": {
             "colorbar": {
              "outlinewidth": 0,
              "ticks": ""
             }
            },
            "type": "scattergeo"
           }
          ],
          "scattergl": [
           {
            "marker": {
             "colorbar": {
              "outlinewidth": 0,
              "ticks": ""
             }
            },
            "type": "scattergl"
           }
          ],
          "scattermapbox": [
           {
            "marker": {
             "colorbar": {
              "outlinewidth": 0,
              "ticks": ""
             }
            },
            "type": "scattermapbox"
           }
          ],
          "scatterpolar": [
           {
            "marker": {
             "colorbar": {
              "outlinewidth": 0,
              "ticks": ""
             }
            },
            "type": "scatterpolar"
           }
          ],
          "scatterpolargl": [
           {
            "marker": {
             "colorbar": {
              "outlinewidth": 0,
              "ticks": ""
             }
            },
            "type": "scatterpolargl"
           }
          ],
          "scatterternary": [
           {
            "marker": {
             "colorbar": {
              "outlinewidth": 0,
              "ticks": ""
             }
            },
            "type": "scatterternary"
           }
          ],
          "surface": [
           {
            "colorbar": {
             "outlinewidth": 0,
             "ticks": ""
            },
            "colorscale": [
             [
              0,
              "#0d0887"
             ],
             [
              0.1111111111111111,
              "#46039f"
             ],
             [
              0.2222222222222222,
              "#7201a8"
             ],
             [
              0.3333333333333333,
              "#9c179e"
             ],
             [
              0.4444444444444444,
              "#bd3786"
             ],
             [
              0.5555555555555556,
              "#d8576b"
             ],
             [
              0.6666666666666666,
              "#ed7953"
             ],
             [
              0.7777777777777778,
              "#fb9f3a"
             ],
             [
              0.8888888888888888,
              "#fdca26"
             ],
             [
              1,
              "#f0f921"
             ]
            ],
            "type": "surface"
           }
          ],
          "table": [
           {
            "cells": {
             "fill": {
              "color": "#EBF0F8"
             },
             "line": {
              "color": "white"
             }
            },
            "header": {
             "fill": {
              "color": "#C8D4E3"
             },
             "line": {
              "color": "white"
             }
            },
            "type": "table"
           }
          ]
         },
         "layout": {
          "annotationdefaults": {
           "arrowcolor": "#2a3f5f",
           "arrowhead": 0,
           "arrowwidth": 1
          },
          "autotypenumbers": "strict",
          "coloraxis": {
           "colorbar": {
            "outlinewidth": 0,
            "ticks": ""
           }
          },
          "colorscale": {
           "diverging": [
            [
             0,
             "#8e0152"
            ],
            [
             0.1,
             "#c51b7d"
            ],
            [
             0.2,
             "#de77ae"
            ],
            [
             0.3,
             "#f1b6da"
            ],
            [
             0.4,
             "#fde0ef"
            ],
            [
             0.5,
             "#f7f7f7"
            ],
            [
             0.6,
             "#e6f5d0"
            ],
            [
             0.7,
             "#b8e186"
            ],
            [
             0.8,
             "#7fbc41"
            ],
            [
             0.9,
             "#4d9221"
            ],
            [
             1,
             "#276419"
            ]
           ],
           "sequential": [
            [
             0,
             "#0d0887"
            ],
            [
             0.1111111111111111,
             "#46039f"
            ],
            [
             0.2222222222222222,
             "#7201a8"
            ],
            [
             0.3333333333333333,
             "#9c179e"
            ],
            [
             0.4444444444444444,
             "#bd3786"
            ],
            [
             0.5555555555555556,
             "#d8576b"
            ],
            [
             0.6666666666666666,
             "#ed7953"
            ],
            [
             0.7777777777777778,
             "#fb9f3a"
            ],
            [
             0.8888888888888888,
             "#fdca26"
            ],
            [
             1,
             "#f0f921"
            ]
           ],
           "sequentialminus": [
            [
             0,
             "#0d0887"
            ],
            [
             0.1111111111111111,
             "#46039f"
            ],
            [
             0.2222222222222222,
             "#7201a8"
            ],
            [
             0.3333333333333333,
             "#9c179e"
            ],
            [
             0.4444444444444444,
             "#bd3786"
            ],
            [
             0.5555555555555556,
             "#d8576b"
            ],
            [
             0.6666666666666666,
             "#ed7953"
            ],
            [
             0.7777777777777778,
             "#fb9f3a"
            ],
            [
             0.8888888888888888,
             "#fdca26"
            ],
            [
             1,
             "#f0f921"
            ]
           ]
          },
          "colorway": [
           "#636efa",
           "#EF553B",
           "#00cc96",
           "#ab63fa",
           "#FFA15A",
           "#19d3f3",
           "#FF6692",
           "#B6E880",
           "#FF97FF",
           "#FECB52"
          ],
          "font": {
           "color": "#2a3f5f"
          },
          "geo": {
           "bgcolor": "white",
           "lakecolor": "white",
           "landcolor": "#E5ECF6",
           "showlakes": true,
           "showland": true,
           "subunitcolor": "white"
          },
          "hoverlabel": {
           "align": "left"
          },
          "hovermode": "closest",
          "mapbox": {
           "style": "light"
          },
          "paper_bgcolor": "white",
          "plot_bgcolor": "#E5ECF6",
          "polar": {
           "angularaxis": {
            "gridcolor": "white",
            "linecolor": "white",
            "ticks": ""
           },
           "bgcolor": "#E5ECF6",
           "radialaxis": {
            "gridcolor": "white",
            "linecolor": "white",
            "ticks": ""
           }
          },
          "scene": {
           "xaxis": {
            "backgroundcolor": "#E5ECF6",
            "gridcolor": "white",
            "gridwidth": 2,
            "linecolor": "white",
            "showbackground": true,
            "ticks": "",
            "zerolinecolor": "white"
           },
           "yaxis": {
            "backgroundcolor": "#E5ECF6",
            "gridcolor": "white",
            "gridwidth": 2,
            "linecolor": "white",
            "showbackground": true,
            "ticks": "",
            "zerolinecolor": "white"
           },
           "zaxis": {
            "backgroundcolor": "#E5ECF6",
            "gridcolor": "white",
            "gridwidth": 2,
            "linecolor": "white",
            "showbackground": true,
            "ticks": "",
            "zerolinecolor": "white"
           }
          },
          "shapedefaults": {
           "line": {
            "color": "#2a3f5f"
           }
          },
          "ternary": {
           "aaxis": {
            "gridcolor": "white",
            "linecolor": "white",
            "ticks": ""
           },
           "baxis": {
            "gridcolor": "white",
            "linecolor": "white",
            "ticks": ""
           },
           "bgcolor": "#E5ECF6",
           "caxis": {
            "gridcolor": "white",
            "linecolor": "white",
            "ticks": ""
           }
          },
          "title": {
           "x": 0.05
          },
          "xaxis": {
           "automargin": true,
           "gridcolor": "white",
           "linecolor": "white",
           "ticks": "",
           "title": {
            "standoff": 15
           },
           "zerolinecolor": "white",
           "zerolinewidth": 2
          },
          "yaxis": {
           "automargin": true,
           "gridcolor": "white",
           "linecolor": "white",
           "ticks": "",
           "title": {
            "standoff": 15
           },
           "zerolinecolor": "white",
           "zerolinewidth": 2
          }
         }
        },
        "title": {
         "text": "Embedding GPT with TSNE reduction"
        },
        "xaxis": {
         "anchor": "y",
         "domain": [
          0,
          1
         ],
         "title": {
          "text": "x"
         }
        },
        "yaxis": {
         "anchor": "x",
         "domain": [
          0,
          1
         ],
         "title": {
          "text": "y"
         }
        }
       }
      }
     },
     "metadata": {},
     "output_type": "display_data"
    }
   ],
   "source": [
    "e.plotEmbedding(embeddingType=\"GPT\", dim=2, reduction=\"TSNE\")"
   ]
  },
  {
   "cell_type": "code",
   "execution_count": null,
   "metadata": {},
   "outputs": [],
   "source": [
    "scores = []\n",
    "import numpy as np\n",
    "sizes = np.arange(0.01, 0.3, 0.01)\n",
    "for i in sizes:\n",
    "    s = e.computeSVC(embeddingType=\"GPT\", testSize=i)\n",
    "    scores.append(s)\n",
    "import plotly.express as px\n"
   ]
  },
  {
   "cell_type": "code",
   "execution_count": 48,
   "metadata": {},
   "outputs": [
    {
     "data": {
      "application/vnd.plotly.v1+json": {
       "config": {
        "plotlyServerURL": "https://plot.ly"
       },
       "data": [
        {
         "hovertemplate": "Test Size=%{x}<br>Accuracy=%{y}<extra></extra>",
         "legendgroup": "",
         "line": {
          "color": "#636efa",
          "dash": "solid"
         },
         "marker": {
          "symbol": "circle"
         },
         "mode": "lines",
         "name": "",
         "orientation": "v",
         "showlegend": false,
         "type": "scatter",
         "x": [
          0.01,
          0.02,
          0.03,
          0.04,
          0.05,
          0.060000000000000005,
          0.06999999999999999,
          0.08,
          0.09,
          0.09999999999999999,
          0.11,
          0.12,
          0.13,
          0.14,
          0.15000000000000002,
          0.16,
          0.17,
          0.18000000000000002,
          0.19,
          0.2,
          0.21000000000000002,
          0.22,
          0.23,
          0.24000000000000002,
          0.25,
          0.26,
          0.27,
          0.28,
          0.29000000000000004
         ],
         "xaxis": "x",
         "y": [
          0.625,
          0.5333333333333333,
          0.5909090909090909,
          0.4482758620689655,
          0.4444444444444444,
          0.4186046511627907,
          0.4,
          0.42105263157894735,
          0.40625,
          0.43661971830985913,
          0.4230769230769231,
          0.4418604651162791,
          0.45161290322580644,
          0.43,
          0.411214953271028,
          0.39473684210526316,
          0.38016528925619836,
          0.4140625,
          0.4074074074074074,
          0.4154929577464789,
          0.42953020134228187,
          0.4230769230769231,
          0.4024390243902439,
          0.4152046783625731,
          0.4101123595505618,
          0.42162162162162165,
          0.421875,
          0.4020100502512563,
          0.41262135922330095
         ],
         "yaxis": "y"
        }
       ],
       "layout": {
        "legend": {
         "tracegroupgap": 0
        },
        "margin": {
         "t": 60
        },
        "template": {
         "data": {
          "bar": [
           {
            "error_x": {
             "color": "#2a3f5f"
            },
            "error_y": {
             "color": "#2a3f5f"
            },
            "marker": {
             "line": {
              "color": "#E5ECF6",
              "width": 0.5
             },
             "pattern": {
              "fillmode": "overlay",
              "size": 10,
              "solidity": 0.2
             }
            },
            "type": "bar"
           }
          ],
          "barpolar": [
           {
            "marker": {
             "line": {
              "color": "#E5ECF6",
              "width": 0.5
             },
             "pattern": {
              "fillmode": "overlay",
              "size": 10,
              "solidity": 0.2
             }
            },
            "type": "barpolar"
           }
          ],
          "carpet": [
           {
            "aaxis": {
             "endlinecolor": "#2a3f5f",
             "gridcolor": "white",
             "linecolor": "white",
             "minorgridcolor": "white",
             "startlinecolor": "#2a3f5f"
            },
            "baxis": {
             "endlinecolor": "#2a3f5f",
             "gridcolor": "white",
             "linecolor": "white",
             "minorgridcolor": "white",
             "startlinecolor": "#2a3f5f"
            },
            "type": "carpet"
           }
          ],
          "choropleth": [
           {
            "colorbar": {
             "outlinewidth": 0,
             "ticks": ""
            },
            "type": "choropleth"
           }
          ],
          "contour": [
           {
            "colorbar": {
             "outlinewidth": 0,
             "ticks": ""
            },
            "colorscale": [
             [
              0,
              "#0d0887"
             ],
             [
              0.1111111111111111,
              "#46039f"
             ],
             [
              0.2222222222222222,
              "#7201a8"
             ],
             [
              0.3333333333333333,
              "#9c179e"
             ],
             [
              0.4444444444444444,
              "#bd3786"
             ],
             [
              0.5555555555555556,
              "#d8576b"
             ],
             [
              0.6666666666666666,
              "#ed7953"
             ],
             [
              0.7777777777777778,
              "#fb9f3a"
             ],
             [
              0.8888888888888888,
              "#fdca26"
             ],
             [
              1,
              "#f0f921"
             ]
            ],
            "type": "contour"
           }
          ],
          "contourcarpet": [
           {
            "colorbar": {
             "outlinewidth": 0,
             "ticks": ""
            },
            "type": "contourcarpet"
           }
          ],
          "heatmap": [
           {
            "colorbar": {
             "outlinewidth": 0,
             "ticks": ""
            },
            "colorscale": [
             [
              0,
              "#0d0887"
             ],
             [
              0.1111111111111111,
              "#46039f"
             ],
             [
              0.2222222222222222,
              "#7201a8"
             ],
             [
              0.3333333333333333,
              "#9c179e"
             ],
             [
              0.4444444444444444,
              "#bd3786"
             ],
             [
              0.5555555555555556,
              "#d8576b"
             ],
             [
              0.6666666666666666,
              "#ed7953"
             ],
             [
              0.7777777777777778,
              "#fb9f3a"
             ],
             [
              0.8888888888888888,
              "#fdca26"
             ],
             [
              1,
              "#f0f921"
             ]
            ],
            "type": "heatmap"
           }
          ],
          "heatmapgl": [
           {
            "colorbar": {
             "outlinewidth": 0,
             "ticks": ""
            },
            "colorscale": [
             [
              0,
              "#0d0887"
             ],
             [
              0.1111111111111111,
              "#46039f"
             ],
             [
              0.2222222222222222,
              "#7201a8"
             ],
             [
              0.3333333333333333,
              "#9c179e"
             ],
             [
              0.4444444444444444,
              "#bd3786"
             ],
             [
              0.5555555555555556,
              "#d8576b"
             ],
             [
              0.6666666666666666,
              "#ed7953"
             ],
             [
              0.7777777777777778,
              "#fb9f3a"
             ],
             [
              0.8888888888888888,
              "#fdca26"
             ],
             [
              1,
              "#f0f921"
             ]
            ],
            "type": "heatmapgl"
           }
          ],
          "histogram": [
           {
            "marker": {
             "pattern": {
              "fillmode": "overlay",
              "size": 10,
              "solidity": 0.2
             }
            },
            "type": "histogram"
           }
          ],
          "histogram2d": [
           {
            "colorbar": {
             "outlinewidth": 0,
             "ticks": ""
            },
            "colorscale": [
             [
              0,
              "#0d0887"
             ],
             [
              0.1111111111111111,
              "#46039f"
             ],
             [
              0.2222222222222222,
              "#7201a8"
             ],
             [
              0.3333333333333333,
              "#9c179e"
             ],
             [
              0.4444444444444444,
              "#bd3786"
             ],
             [
              0.5555555555555556,
              "#d8576b"
             ],
             [
              0.6666666666666666,
              "#ed7953"
             ],
             [
              0.7777777777777778,
              "#fb9f3a"
             ],
             [
              0.8888888888888888,
              "#fdca26"
             ],
             [
              1,
              "#f0f921"
             ]
            ],
            "type": "histogram2d"
           }
          ],
          "histogram2dcontour": [
           {
            "colorbar": {
             "outlinewidth": 0,
             "ticks": ""
            },
            "colorscale": [
             [
              0,
              "#0d0887"
             ],
             [
              0.1111111111111111,
              "#46039f"
             ],
             [
              0.2222222222222222,
              "#7201a8"
             ],
             [
              0.3333333333333333,
              "#9c179e"
             ],
             [
              0.4444444444444444,
              "#bd3786"
             ],
             [
              0.5555555555555556,
              "#d8576b"
             ],
             [
              0.6666666666666666,
              "#ed7953"
             ],
             [
              0.7777777777777778,
              "#fb9f3a"
             ],
             [
              0.8888888888888888,
              "#fdca26"
             ],
             [
              1,
              "#f0f921"
             ]
            ],
            "type": "histogram2dcontour"
           }
          ],
          "mesh3d": [
           {
            "colorbar": {
             "outlinewidth": 0,
             "ticks": ""
            },
            "type": "mesh3d"
           }
          ],
          "parcoords": [
           {
            "line": {
             "colorbar": {
              "outlinewidth": 0,
              "ticks": ""
             }
            },
            "type": "parcoords"
           }
          ],
          "pie": [
           {
            "automargin": true,
            "type": "pie"
           }
          ],
          "scatter": [
           {
            "fillpattern": {
             "fillmode": "overlay",
             "size": 10,
             "solidity": 0.2
            },
            "type": "scatter"
           }
          ],
          "scatter3d": [
           {
            "line": {
             "colorbar": {
              "outlinewidth": 0,
              "ticks": ""
             }
            },
            "marker": {
             "colorbar": {
              "outlinewidth": 0,
              "ticks": ""
             }
            },
            "type": "scatter3d"
           }
          ],
          "scattercarpet": [
           {
            "marker": {
             "colorbar": {
              "outlinewidth": 0,
              "ticks": ""
             }
            },
            "type": "scattercarpet"
           }
          ],
          "scattergeo": [
           {
            "marker": {
             "colorbar": {
              "outlinewidth": 0,
              "ticks": ""
             }
            },
            "type": "scattergeo"
           }
          ],
          "scattergl": [
           {
            "marker": {
             "colorbar": {
              "outlinewidth": 0,
              "ticks": ""
             }
            },
            "type": "scattergl"
           }
          ],
          "scattermapbox": [
           {
            "marker": {
             "colorbar": {
              "outlinewidth": 0,
              "ticks": ""
             }
            },
            "type": "scattermapbox"
           }
          ],
          "scatterpolar": [
           {
            "marker": {
             "colorbar": {
              "outlinewidth": 0,
              "ticks": ""
             }
            },
            "type": "scatterpolar"
           }
          ],
          "scatterpolargl": [
           {
            "marker": {
             "colorbar": {
              "outlinewidth": 0,
              "ticks": ""
             }
            },
            "type": "scatterpolargl"
           }
          ],
          "scatterternary": [
           {
            "marker": {
             "colorbar": {
              "outlinewidth": 0,
              "ticks": ""
             }
            },
            "type": "scatterternary"
           }
          ],
          "surface": [
           {
            "colorbar": {
             "outlinewidth": 0,
             "ticks": ""
            },
            "colorscale": [
             [
              0,
              "#0d0887"
             ],
             [
              0.1111111111111111,
              "#46039f"
             ],
             [
              0.2222222222222222,
              "#7201a8"
             ],
             [
              0.3333333333333333,
              "#9c179e"
             ],
             [
              0.4444444444444444,
              "#bd3786"
             ],
             [
              0.5555555555555556,
              "#d8576b"
             ],
             [
              0.6666666666666666,
              "#ed7953"
             ],
             [
              0.7777777777777778,
              "#fb9f3a"
             ],
             [
              0.8888888888888888,
              "#fdca26"
             ],
             [
              1,
              "#f0f921"
             ]
            ],
            "type": "surface"
           }
          ],
          "table": [
           {
            "cells": {
             "fill": {
              "color": "#EBF0F8"
             },
             "line": {
              "color": "white"
             }
            },
            "header": {
             "fill": {
              "color": "#C8D4E3"
             },
             "line": {
              "color": "white"
             }
            },
            "type": "table"
           }
          ]
         },
         "layout": {
          "annotationdefaults": {
           "arrowcolor": "#2a3f5f",
           "arrowhead": 0,
           "arrowwidth": 1
          },
          "autotypenumbers": "strict",
          "coloraxis": {
           "colorbar": {
            "outlinewidth": 0,
            "ticks": ""
           }
          },
          "colorscale": {
           "diverging": [
            [
             0,
             "#8e0152"
            ],
            [
             0.1,
             "#c51b7d"
            ],
            [
             0.2,
             "#de77ae"
            ],
            [
             0.3,
             "#f1b6da"
            ],
            [
             0.4,
             "#fde0ef"
            ],
            [
             0.5,
             "#f7f7f7"
            ],
            [
             0.6,
             "#e6f5d0"
            ],
            [
             0.7,
             "#b8e186"
            ],
            [
             0.8,
             "#7fbc41"
            ],
            [
             0.9,
             "#4d9221"
            ],
            [
             1,
             "#276419"
            ]
           ],
           "sequential": [
            [
             0,
             "#0d0887"
            ],
            [
             0.1111111111111111,
             "#46039f"
            ],
            [
             0.2222222222222222,
             "#7201a8"
            ],
            [
             0.3333333333333333,
             "#9c179e"
            ],
            [
             0.4444444444444444,
             "#bd3786"
            ],
            [
             0.5555555555555556,
             "#d8576b"
            ],
            [
             0.6666666666666666,
             "#ed7953"
            ],
            [
             0.7777777777777778,
             "#fb9f3a"
            ],
            [
             0.8888888888888888,
             "#fdca26"
            ],
            [
             1,
             "#f0f921"
            ]
           ],
           "sequentialminus": [
            [
             0,
             "#0d0887"
            ],
            [
             0.1111111111111111,
             "#46039f"
            ],
            [
             0.2222222222222222,
             "#7201a8"
            ],
            [
             0.3333333333333333,
             "#9c179e"
            ],
            [
             0.4444444444444444,
             "#bd3786"
            ],
            [
             0.5555555555555556,
             "#d8576b"
            ],
            [
             0.6666666666666666,
             "#ed7953"
            ],
            [
             0.7777777777777778,
             "#fb9f3a"
            ],
            [
             0.8888888888888888,
             "#fdca26"
            ],
            [
             1,
             "#f0f921"
            ]
           ]
          },
          "colorway": [
           "#636efa",
           "#EF553B",
           "#00cc96",
           "#ab63fa",
           "#FFA15A",
           "#19d3f3",
           "#FF6692",
           "#B6E880",
           "#FF97FF",
           "#FECB52"
          ],
          "font": {
           "color": "#2a3f5f"
          },
          "geo": {
           "bgcolor": "white",
           "lakecolor": "white",
           "landcolor": "#E5ECF6",
           "showlakes": true,
           "showland": true,
           "subunitcolor": "white"
          },
          "hoverlabel": {
           "align": "left"
          },
          "hovermode": "closest",
          "mapbox": {
           "style": "light"
          },
          "paper_bgcolor": "white",
          "plot_bgcolor": "#E5ECF6",
          "polar": {
           "angularaxis": {
            "gridcolor": "white",
            "linecolor": "white",
            "ticks": ""
           },
           "bgcolor": "#E5ECF6",
           "radialaxis": {
            "gridcolor": "white",
            "linecolor": "white",
            "ticks": ""
           }
          },
          "scene": {
           "xaxis": {
            "backgroundcolor": "#E5ECF6",
            "gridcolor": "white",
            "gridwidth": 2,
            "linecolor": "white",
            "showbackground": true,
            "ticks": "",
            "zerolinecolor": "white"
           },
           "yaxis": {
            "backgroundcolor": "#E5ECF6",
            "gridcolor": "white",
            "gridwidth": 2,
            "linecolor": "white",
            "showbackground": true,
            "ticks": "",
            "zerolinecolor": "white"
           },
           "zaxis": {
            "backgroundcolor": "#E5ECF6",
            "gridcolor": "white",
            "gridwidth": 2,
            "linecolor": "white",
            "showbackground": true,
            "ticks": "",
            "zerolinecolor": "white"
           }
          },
          "shapedefaults": {
           "line": {
            "color": "#2a3f5f"
           }
          },
          "ternary": {
           "aaxis": {
            "gridcolor": "white",
            "linecolor": "white",
            "ticks": ""
           },
           "baxis": {
            "gridcolor": "white",
            "linecolor": "white",
            "ticks": ""
           },
           "bgcolor": "#E5ECF6",
           "caxis": {
            "gridcolor": "white",
            "linecolor": "white",
            "ticks": ""
           }
          },
          "title": {
           "x": 0.05
          },
          "xaxis": {
           "automargin": true,
           "gridcolor": "white",
           "linecolor": "white",
           "ticks": "",
           "title": {
            "standoff": 15
           },
           "zerolinecolor": "white",
           "zerolinewidth": 2
          },
          "yaxis": {
           "automargin": true,
           "gridcolor": "white",
           "linecolor": "white",
           "ticks": "",
           "title": {
            "standoff": 15
           },
           "zerolinecolor": "white",
           "zerolinewidth": 2
          }
         }
        },
        "title": {
         "text": "SVC Accuracy by Test Size"
        },
        "xaxis": {
         "anchor": "y",
         "domain": [
          0,
          1
         ],
         "title": {
          "text": "Test Size"
         }
        },
        "yaxis": {
         "anchor": "x",
         "domain": [
          0,
          1
         ],
         "title": {
          "text": "Accuracy"
         }
        }
       }
      }
     },
     "metadata": {},
     "output_type": "display_data"
    }
   ],
   "source": [
    "fig = px.line(x=sizes, y=scores, labels={\"x\": \"Test Size\", \"y\": \"Accuracy\"})\n",
    "fig.update_layout(title=\"SVC Accuracy by Test Size\")\n",
    "fig.show()"
   ]
  },
  {
   "cell_type": "code",
   "execution_count": 49,
   "metadata": {},
   "outputs": [
    {
     "name": "stdout",
     "output_type": "stream",
     "text": [
      "SVC score : 0.45161290322580644\n",
      "SVC model computed : self.model[\"SVC\"]\n",
      "SVC prediction computed : self.y_pred[\"SVC\"]\n"
     ]
    },
    {
     "data": {
      "text/plain": [
       "0.45161290322580644"
      ]
     },
     "execution_count": 49,
     "metadata": {},
     "output_type": "execute_result"
    }
   ],
   "source": [
    "e.computeSVC(embeddingType=\"GPT\", testSize=0.13)"
   ]
  },
  {
   "cell_type": "code",
   "execution_count": 54,
   "metadata": {},
   "outputs": [
    {
     "data": {
      "application/vnd.plotly.v1+json": {
       "config": {
        "plotlyServerURL": "https://plot.ly"
       },
       "data": [
        {
         "hovertemplate": "<b>%{hovertext}</b><br><br>color=Organization or Person<br>x=%{x}<br>y=%{y}<br>z=%{z}<extra></extra>",
         "hovertext": [
          "ai",
          "article",
          "natural persons",
          "member",
          "council",
          "legal person",
          "provider",
          "decision",
          "natural person",
          "union market",
          "critical infrastructure",
          "product manufacturer",
          "relevant union",
          "credit institutions",
          "union institutions",
          "own use",
          "experimentation facilities",
          "user",
          "financial institutions subject",
          "artificial",
          "international organisations",
          "ireland",
          "annex",
          "prospective providers",
          "public services",
          "defective products",
          "intermediary service providers",
          "relevant operators",
          "ai-enabled",
          "denmark",
          "medium enterprises",
          "sme",
          "ai-on",
          "market",
          "financial institutions",
          "supply chain",
          "conformity assessment body",
          "chapter",
          "trade name",
          "trade mark",
          "distributor",
          "committee",
          "regions",
          "bank",
          "ecb",
          "union values",
          "ai-based",
          "cross border",
          "high-level expert",
          "global leader",
          "human experts",
          "expert systems",
          "multiple persons",
          "specific natural person",
          "factory premises",
          "relevant employees",
          "service providers",
          "foreign partners",
          "recipient member",
          "private entity",
          "human behaviour",
          "specific group",
          "religious minorities",
          "factors external",
          "private actors",
          "certain groups",
          "lex specialis",
          "articles applies",
          "kingdom",
          "health sector",
          "child",
          "vehicle occupants",
          "vulnerable road users",
          "such products",
          "critical entities",
          "large scale",
          "vocational training institutions",
          "workers management",
          "such persons",
          "small entreprises",
          "small enterprises",
          "own insurance products",
          "union anti-money",
          "provider identifies",
          "certain actors",
          "relevant entities",
          "respective fields",
          "human operator",
          "different persons",
          "person modifies",
          "contact person",
          "harmonised",
          "commercial property",
          "vulnerable groups",
          "ethnic origin",
          "artificial origin",
          "european standardisation organisations",
          "experimentation labs",
          "relevant stakeholder",
          "civil society organisations",
          "relevant providers",
          "cross-border users",
          "expert laboratories",
          "reference laboratories",
          "relevant stakeholders",
          "such representatives",
          "public entities",
          "temporary sub-groups",
          "experts groups",
          "relevant experts",
          "public entity",
          "investment firms",
          "insurance intermediaries",
          "financial sector",
          "development teams",
          "particular electronic commerce",
          "conformity assessment bodies",
          "natural persons regardless",
          "public powers",
          "specific persons",
          "organisation",
          "union market providers"
         ],
         "legendgroup": "Organization or Person",
         "marker": {
          "color": "#636efa",
          "symbol": "circle"
         },
         "mode": "markers",
         "name": "Organization or Person",
         "scene": "scene",
         "showlegend": true,
         "type": "scatter3d",
         "x": [
          -17.50872039794922,
          6.500241756439209,
          8.894759178161621,
          12.594422340393066,
          4.366711139678955,
          9.014081001281738,
          5.058308124542236,
          2.568800449371338,
          8.430632591247559,
          26.057458877563477,
          -11.218799591064453,
          -3.4008727073669434,
          26.303897857666016,
          9.701681137084961,
          28.66555404663086,
          13.023544311523438,
          7.646011829376221,
          13.046103477478027,
          9.384224891662598,
          -15.700366973876953,
          18.053476333618164,
          0.9581097960472107,
          10.96368408203125,
          6.609228610992432,
          3.2637081146240234,
          -16.33587074279785,
          5.790856838226318,
          10.898839950561523,
          -18.000904083251953,
          0.9947790503501892,
          -5.873544692993164,
          -6.80654764175415,
          -17.251659393310547,
          12.467560768127441,
          9.885839462280273,
          5.4626264572143555,
          6.8408074378967285,
          6.8138298988342285,
          10.345531463623047,
          10.345690727233887,
          5.309333801269531,
          3.503713369369507,
          5.443996906280518,
          10.893726348876953,
          3.0942447185516357,
          28.336673736572266,
          -17.809247970581055,
          25.09490394592285,
          6.871356964111328,
          8.217869758605957,
          2.619645833969116,
          2.0374491214752197,
          1.2746694087982178,
          7.662445068359375,
          8.478217124938965,
          15.585699081420898,
          5.641406059265137,
          19.83165740966797,
          12.765409469604492,
          16.575902938842773,
          4.855156421661377,
          -10.38952350616455,
          -11.650484085083008,
          20.68906021118164,
          -3.6471638679504395,
          -10.506603240966797,
          6.407007217407227,
          6.591273784637451,
          6.243937969207764,
          -12.285274505615234,
          13.023333549499512,
          -9.410379409790039,
          -9.837766647338867,
          -0.4158409833908081,
          14.454788208007812,
          -7.4517035484313965,
          -6.7628092765808105,
          24.894302368164062,
          2.0764946937561035,
          -6.397704601287842,
          -6.307409763336182,
          -10.52442455291748,
          28.977439880371094,
          4.134263515472412,
          -3.649886131286621,
          15.24448299407959,
          -17.16629981994629,
          2.932356357574463,
          1.4918519258499146,
          0.36431318521499634,
          2.8243329524993896,
          24.220537185668945,
          8.928027153015137,
          -10.551375389099121,
          -15.188053131103516,
          -15.701517105102539,
          9.988280296325684,
          7.59989070892334,
          17.617782592773438,
          17.6268310546875,
          15.625970840454102,
          24.949024200439453,
          6.381058216094971,
          6.340310096740723,
          17.604536056518555,
          2.2498812675476074,
          16.248403549194336,
          -9.217415809631348,
          5.956603050231934,
          6.248053073883057,
          16.438047409057617,
          8.707915306091309,
          6.039459228515625,
          11.036170959472656,
          -3.0507028102874756,
          -10.762653350830078,
          6.8503923416137695,
          9.781540870666504,
          19.455684661865234,
          2.006601333618164,
          4.203759670257568,
          26.27351188659668
         ],
         "y": [
          -17.623144149780273,
          -20.295482635498047,
          -4.0835280418396,
          -21.324600219726562,
          -20.962844848632812,
          -4.391520023345947,
          -11.545528411865234,
          -16.486953735351562,
          -4.271562576293945,
          -4.907657146453857,
          -21.082252502441406,
          13.087933540344238,
          -10.26270866394043,
          -6.747490406036377,
          -5.806990146636963,
          8.087748527526855,
          6.487154006958008,
          -20.550046920776367,
          -7.041571140289307,
          -11.031404495239258,
          3.9602842330932617,
          -29.070722579956055,
          -21.35189437866211,
          -10.176360130310059,
          -8.279781341552734,
          12.345314025878906,
          -11.575334548950195,
          -10.438913345336914,
          -18.93027114868164,
          -29.052114486694336,
          -28.063140869140625,
          -28.868549346923828,
          -18.693756103515625,
          -2.146265745162964,
          -7.085026264190674,
          -13.196826934814453,
          -1.1402474641799927,
          -20.906274795532227,
          12.220271110534668,
          12.219926834106445,
          -12.565766334533691,
          -15.747349739074707,
          -16.414974212646484,
          -5.544067859649658,
          -21.821395874023438,
          -6.1585235595703125,
          -18.74817657470703,
          5.608489036560059,
          -1.3957128524780273,
          -1.3745850324630737,
          30.215927124023438,
          -0.3636639714241028,
          3.503465175628662,
          -4.571732044219971,
          7.521599292755127,
          -9.280821800231934,
          -11.027673721313477,
          3.58718204498291,
          -21.819068908691406,
          -14.2152738571167,
          30.747318267822266,
          -0.31074848771095276,
          -1.5748296976089478,
          3.283038854598999,
          -0.3960944712162018,
          -0.48160800337791443,
          -1.7108012437820435,
          -19.612966537475586,
          -17.183881759643555,
          -4.190405368804932,
          -20.312883377075195,
          0.1362258642911911,
          0.29262757301330566,
          10.189950942993164,
          -11.047021865844727,
          6.432583332061768,
          -2.461251974105835,
          -4.177691459655762,
          1.8277528285980225,
          -27.119081497192383,
          -27.726131439208984,
          -4.271622180938721,
          -5.032807350158691,
          -10.649170875549316,
          -0.39637622237205505,
          -10.209513664245605,
          16.37826919555664,
          30.204029083251953,
          3.5932350158691406,
          1.7951898574829102,
          0.8386568427085876,
          -16.3743839263916,
          7.944527626037598,
          0.5406965017318726,
          -5.769104480743408,
          -11.02412223815918,
          -24.146390914916992,
          6.436825752258301,
          -5.9090352058410645,
          4.429564476013184,
          -10.11881160736084,
          5.549773216247559,
          5.296816349029541,
          5.273317813873291,
          -5.928963661193848,
          1.9088528156280518,
          -13.310958862304688,
          -1.0880533456802368,
          -1.124120831489563,
          -1.2113862037658691,
          -13.832686424255371,
          -7.752370834350586,
          -12.348504066467285,
          -8.453550338745117,
          -8.23271369934082,
          -24.909841537475586,
          -1.1413098573684692,
          -3.495378255844116,
          25.27960205078125,
          1.7277612686157227,
          -15.575948715209961,
          -5.078467845916748
         ],
         "z": [
          -15.671321868896484,
          -16.679353713989258,
          -24.536277770996094,
          -14.899173736572266,
          -3.1730337142944336,
          -22.942489624023438,
          4.891106605529785,
          -10.695094108581543,
          -24.892255783081055,
          -10.258684158325195,
          16.229595184326172,
          4.105035305023193,
          -6.352532863616943,
          17.207828521728516,
          -7.293476581573486,
          -16.99921417236328,
          8.564860343933105,
          -13.665310859680176,
          18.630002975463867,
          -11.522611618041992,
          -6.401382923126221,
          -3.2291665077209473,
          -14.939033508300781,
          6.137604713439941,
          9.236272811889648,
          -7.369844436645508,
          7.029151916503906,
          -2.653127670288086,
          -14.251578330993652,
          -3.2039661407470703,
          -11.173615455627441,
          -12.397995948791504,
          -15.620959281921387,
          15.72458553314209,
          17.20578956604004,
          3.1491129398345947,
          30.09186553955078,
          -16.141706466674805,
          14.11962604522705,
          14.120203018188477,
          3.8092894554138184,
          -10.102568626403809,
          -9.407060623168945,
          16.648866653442383,
          0.4025092124938965,
          -7.207977294921875,
          -14.659191131591797,
          -5.822700023651123,
          3.0063636302948,
          2.8744630813598633,
          -2.988172769546509,
          7.334549903869629,
          -26.3399600982666,
          -25.490327835083008,
          5.789388656616211,
          3.511596441268921,
          6.484508514404297,
          -5.650268077850342,
          -14.940666198730469,
          6.377535820007324,
          -3.937523365020752,
          -20.92908477783203,
          -21.45465850830078,
          -5.213277816772461,
          -31.708335876464844,
          -21.328325271606445,
          1.7039135694503784,
          -16.897281646728516,
          -8.565220832824707,
          6.010012149810791,
          -15.861129760742188,
          -24.848587036132812,
          -24.078147888183594,
          8.280351638793945,
          3.124110698699951,
          15.697457313537598,
          13.921629905700684,
          -10.94269847869873,
          -28.23997688293457,
          -11.78345012664795,
          -11.702839851379395,
          5.996172904968262,
          -8.627037048339844,
          4.869647026062012,
          -31.707555770874023,
          2.7004361152648926,
          -6.655600070953369,
          -2.9459991455078125,
          -26.430091857910156,
          -26.56378936767578,
          -26.79814338684082,
          -2.9502580165863037,
          4.574097633361816,
          -22.853830337524414,
          -19.753053665161133,
          -11.532512664794922,
          8.473241806030273,
          8.68945598602295,
          2.4066572189331055,
          -5.1118340492248535,
          1.4499104022979736,
          -5.801482677459717,
          11.141473770141602,
          11.231965065002441,
          2.411198616027832,
          -29.49111557006836,
          5.5591816902160645,
          -20.65253448486328,
          4.318286418914795,
          3.9139697551727295,
          6.0319085121154785,
          16.12067413330078,
          7.799558162689209,
          16.493986129760742,
          24.98477554321289,
          -0.42229416966438293,
          30.094348907470703,
          -24.82239532470703,
          4.61534309387207,
          -27.550214767456055,
          -10.147780418395996,
          -10.141414642333984
         ]
        },
        {
         "hovertemplate": "<b>%{hovertext}</b><br><br>color=Requirement<br>x=%{x}<br>y=%{y}<br>z=%{z}<extra></extra>",
         "hovertext": [
          "regulation",
          "directive",
          "technical documentation",
          "title",
          "conformity assessment",
          "financial services legislation",
          "free movement",
          "human oversight",
          "quality management system",
          "safety components",
          "risk management system",
          "real world conditions",
          "appropriate safeguards",
          "internal governance",
          "corrective actions",
          "specific requirements",
          "relevant obligations",
          "functional setting",
          "necessary information",
          "public security",
          "testing",
          "obligation",
          "legal framework",
          "specific rules",
          "international agreements",
          "judicial cooperation",
          "ensure compliance",
          "human dignity",
          "fair trial",
          "common rules",
          "safety component",
          "third-party conformity assessment",
          "contractual relationships",
          "similar tools",
          "common specifications",
          "machinery regulation",
          "technical specifications",
          "relevant conformity assessment procedure",
          "national rules",
          "consumer protection",
          "product safety",
          "data protection regulation",
          "effective protection",
          "transparency obligations",
          "free choices",
          "custodial sentence",
          "detention order",
          "protocol",
          "certain mandatory requirements",
          "conformity assessment procedure",
          "physical integrity",
          "recommendation",
          "international protection",
          "applicable requirements",
          "suitable risk management measures",
          "appropriate statistical properties",
          "appropriate risk management measures",
          "fail-safe plans",
          "common framework",
          "sectorial legislation",
          "user obligations",
          "certain requirements",
          "initial conformity assessment",
          "effective measures",
          "risk management measures",
          "human oversight measures",
          "registration obligations",
          "ordinary legislative procedure",
          "fundamental rights obligations",
          "uniform obligations",
          "uniform protection",
          "competitive advantages",
          "guideline",
          "ethical principles",
          "ethical aspects",
          "administrative provisions",
          "rights",
          "regulation ai",
          "system functions",
          "human involvement",
          "ensure uniform conditions",
          "real-time",
          "security restrictions",
          "public safety",
          "clear manifestation",
          "relevant authority",
          "factual possibility",
          "non-discriminatory manner",
          "certain services",
          "such agreements",
          "appropriate legal framework",
          "specific national rules",
          "respect freedom",
          "regards product",
          "specific characteristics",
          "regards health",
          "common normative standards",
          "international trade commitments",
          "autonomy",
          "applicable medical standards",
          "applicable law",
          "lawful evaluation practices",
          "constant surveillance",
          "physical safety",
          "maximum period",
          "such threshold",
          "identity checks",
          "identity check",
          "specific authorisation",
          "exhaustive framework",
          "specific framework",
          "potential restriction",
          "compliant products",
          "specific rights",
          "such protection",
          "fundamental right",
          "environmental protection",
          "regulatory specificities",
          "enforcement mechanisms",
          "mandatory requirements",
          "aviation safety",
          "type-approval requirements",
          "general safety",
          "third-party conformity assessment body pursuant",
          "protective systems",
          "future amendments",
          "critical digital infrastructure",
          "safety",
          "essential services",
          "available alternatives",
          "creditworthiness assessment",
          "social protection",
          "response services",
          "risk assessment",
          "liberty",
          "adequate requirements",
          "public trust",
          "ensure accountability",
          "individual risk assessments",
          "information pursuant",
          "non-discriminatory nature",
          "relevant procedural requirements",
          "relevant legislation",
          "individual freedoms",
          "administrative tasks",
          "national law compatible",
          "applicable acts",
          "secondary union law",
          "legal ground",
          "requirement",
          "technical feasibility",
          "trustworthy manner",
          "relevant requirements",
          "validation processes",
          "relevant risk management system",
          "systems incomprehensible",
          "appropriate human oversight measures",
          "such measures",
          "human oversight requirement",
          "technical robustness",
          "key requirement",
          "cybersecurity",
          "crucial role",
          "security properties",
          "suitable measures",
          "specific obligations",
          "sound quality management system",
          "final product complies",
          "individual decision-making",
          "effective implementation",
          "standardisation",
          "standardisation process",
          "european standardisation",
          "relevant requirement",
          "cybersecurity scheme",
          "possible duplication",
          "safety functions",
          "safe integration",
          "risk management logic",
          "medical device framework",
          "general rule",
          "own responsibility",
          "electronic notification tool",
          "new conformity assessment",
          "rapid availability",
          "full functionality",
          "specific transparency obligations",
          "such obligation",
          "regulatory oversight",
          "risk mitigation measures",
          "strict regulatory oversight",
          "legal uncertainty",
          "new conformity assessment procedure",
          "sufficient guarantees",
          "such guarantees",
          "consent",
          "relevant data protection law",
          "mandatory documentation",
          "ensure proportionality",
          "costly obligations",
          "medical devices pursuant",
          "market evaluations",
          "specific issues",
          "adequate enforcement",
          "transparency requirements",
          "risk management rules",
          "relevant rules",
          "ex post market surveillance activities",
          "supervisory mechanisms",
          "procedural obligations",
          "prudential supervision",
          "ensure consistency",
          "equal treatment",
          "additional requirements",
          "environmental sustainability",
          "safety net",
          "ensure trustful",
          "general product safety",
          "open source software",
          "safety function",
          "necessary procedures",
          "performs third-party conformity assessment activities",
          "measures pursuant",
          "european standard",
          "independent evaluation",
          "proportionate safeguards",
          "requirements for high-risk ai systems article",
          "control measures",
          "probabilistic thresholds",
          "quality criteria",
          "relevant design choices",
          "transparency",
          "care measures",
          "separate verification",
          "national law considers",
          "accuracy",
          "relevant accuracy metrics",
          "regards errors",
          "technical redundancy solutions",
          "system vulnerabilities",
          "quality",
          "ensures compliance",
          "regulatory compliance",
          "design control",
          "design verification",
          "quality control",
          "quality assurance",
          "conformity",
          "financial service legislation"
         ],
         "legendgroup": "Requirement",
         "marker": {
          "color": "#EF553B",
          "symbol": "circle"
         },
         "mode": "markers",
         "name": "Requirement",
         "scene": "scene",
         "showlegend": true,
         "type": "scatter3d",
         "x": [
          9.05809497833252,
          2.0827252864837646,
          -4.025619983673096,
          5.284763336181641,
          3.085296869277954,
          12.20516300201416,
          -2.0539867877960205,
          6.1767497062683105,
          -7.030769348144531,
          -12.772078514099121,
          -7.754391670227051,
          -13.140021324157715,
          3.80053973197937,
          24.839982986450195,
          -6.791517734527588,
          1.93515944480896,
          10.345354080200195,
          -13.467255592346191,
          -18.192611694335938,
          -1.6414662599563599,
          -6.368544578552246,
          9.798452377319336,
          -2.5974950790405273,
          4.960178375244141,
          17.73441505432129,
          26.62729263305664,
          4.214356899261475,
          5.563122272491455,
          7.441201686859131,
          -1.7375465631484985,
          -12.772260665893555,
          11.381328582763672,
          11.966545104980469,
          -3.001246213912964,
          -4.149379253387451,
          10.14523696899414,
          -4.263574600219727,
          2.162390947341919,
          4.819148063659668,
          -2.5864415168762207,
          -3.2083945274353027,
          -21.932247161865234,
          8.493934631347656,
          -21.73473358154297,
          -1.729294776916504,
          22.858299255371094,
          22.871360778808594,
          0.6833697557449341,
          1.495773434638977,
          3.112997531890869,
          -5.328557014465332,
          0.30989354848861694,
          17.82275390625,
          5.4216437339782715,
          -5.568014621734619,
          -19.197616577148438,
          -5.6892805099487305,
          3.069941759109497,
          -1.8730710744857788,
          19.07501220703125,
          11.676575660705566,
          1.9025391340255737,
          0.1884002983570099,
          -3.5795578956604004,
          -7.672666549682617,
          6.294262409210205,
          12.324216842651367,
          8.64371109008789,
          0.7988834381103516,
          9.831021308898926,
          8.032170295715332,
          -12.792742729187012,
          0.4137667119503021,
          13.860451698303223,
          13.861299514770508,
          18.31439971923828,
          3.0339882373809814,
          8.251607894897461,
          -15.712206840515137,
          4.175253391265869,
          5.930821895599365,
          -13.33184814453125,
          -3.5425546169281006,
          -3.9274277687072754,
          -18.9905948638916,
          16.22511863708496,
          -6.5101847648620605,
          5.994912624359131,
          2.9183127880096436,
          11.618399620056152,
          -2.6819756031036377,
          4.8582963943481445,
          -4.6813130378723145,
          -3.0643625259399414,
          -13.531831741333008,
          -3.0780699253082275,
          -2.5825178623199463,
          16.56543731689453,
          -7.7714738845825195,
          6.580563068389893,
          8.551864624023438,
          11.81163501739502,
          13.826263427734375,
          -4.730804443359375,
          -4.292473316192627,
          -28.15433692932129,
          -28.981281280517578,
          -28.98110008239746,
          22.349472045898438,
          -2.441348075866699,
          -1.8584859371185303,
          -3.8745148181915283,
          0.5977491140365601,
          2.0511255264282227,
          8.73316764831543,
          0.41069495677948,
          5.200807571411133,
          8.733782768249512,
          17.545818328857422,
          1.3975965976715088,
          -7.15552282333374,
          4.440838813781738,
          -3.6314163208007812,
          10.851411819458008,
          -1.6379023790359497,
          -14.865285873413086,
          -11.95748519897461,
          -3.9365732669830322,
          2.4927847385406494,
          -0.29941326379776,
          -14.2891206741333,
          -1.3809006214141846,
          4.603065013885498,
          -14.57496166229248,
          -5.2890825271606445,
          4.471958637237549,
          6.464844703674316,
          4.095251560211182,
          -14.579977035522461,
          -17.09020233154297,
          5.992160320281982,
          5.756038188934326,
          18.2296199798584,
          -4.735627174377441,
          16.495512008666992,
          21.33232879638672,
          8.587318420410156,
          25.135210037231445,
          -3.3051159381866455,
          5.288895130157471,
          -5.393385887145996,
          5.693228721618652,
          5.0405097007751465,
          -9.537055969238281,
          -7.743473529815674,
          -6.266263484954834,
          6.430469036102295,
          -3.9481348991394043,
          6.443364143371582,
          -6.988190650939941,
          6.902282238006592,
          13.056249618530273,
          7.95195198059082,
          -3.4215731620788574,
          -3.8842434883117676,
          9.923460960388184,
          -7.0143609046936035,
          0.8561061024665833,
          -16.247636795043945,
          -3.5126922130584717,
          9.12421703338623,
          9.126087188720703,
          9.166964530944824,
          5.493835926055908,
          12.441126823425293,
          -5.188299179077148,
          -14.807351112365723,
          -4.6554646492004395,
          -8.738146781921387,
          -5.250153064727783,
          -1.4597082138061523,
          12.427881240844727,
          -9.195536613464355,
          1.0573956966400146,
          -12.657060623168945,
          -4.886035919189453,
          -22.16558265686035,
          9.796737670898438,
          9.014473915100098,
          -7.682383060455322,
          8.778538703918457,
          -3.7653300762176514,
          1.4479007720947266,
          10.74043083190918,
          10.841557502746582,
          2.487098455429077,
          -21.686613082885742,
          1.125158667564392,
          4.681858539581299,
          8.739166259765625,
          -4.258429050445557,
          12.855344772338867,
          -11.454649925231934,
          17.060148239135742,
          -20.989439010620117,
          -8.49317741394043,
          4.86933708190918,
          12.311619758605957,
          16.494375228881836,
          9.39072036743164,
          10.025418281555176,
          5.339847564697266,
          7.436997890472412,
          1.9398894309997559,
          5.1932053565979,
          -2.0351102352142334,
          5.929832935333252,
          -3.376331090927124,
          -2.047558546066284,
          -14.621357917785645,
          6.252188205718994,
          12.187479972839355,
          -2.704339027404785,
          8.707507133483887,
          13.914722442626953,
          4.097224712371826,
          -21.158533096313477,
          -7.215722560882568,
          -28.048490524291992,
          -9.571638107299805,
          2.9015371799468994,
          -19.98695945739746,
          -7.347066402435303,
          -7.795361518859863,
          21.541574478149414,
          -13.57189655303955,
          -14.754905700683594,
          -3.2041821479797363,
          -6.126333236694336,
          -9.336113929748535,
          -10.192852020263672,
          4.009018898010254,
          8.866976737976074,
          -7.56633996963501,
          -7.634844779968262,
          -8.315189361572266,
          -8.05873966217041,
          2.7290236949920654,
          12.210362434387207
         ],
         "y": [
          23.750429153442383,
          -14.935345649719238,
          0.6462615728378296,
          -21.319849014282227,
          -0.5417449474334717,
          -11.192434310913086,
          -6.624941349029541,
          28.720035552978516,
          11.00721549987793,
          14.730125427246094,
          15.02166748046875,
          6.888479232788086,
          20.21847915649414,
          10.8601713180542,
          25.085613250732422,
          -7.382678985595703,
          6.005901336669922,
          9.610466957092285,
          1.0940639972686768,
          13.165787696838379,
          -7.363074779510498,
          4.39992618560791,
          -10.452871322631836,
          -2.4005348682403564,
          3.8209807872772217,
          8.257887840270996,
          16.165599822998047,
          31.143674850463867,
          15.236014366149902,
          -4.644092082977295,
          14.729227066040039,
          -0.8014065623283386,
          6.143574237823486,
          2.2610554695129395,
          -0.10575928539037704,
          24.309524536132812,
          0.3699284791946411,
          -3.263850688934326,
          -1.0217148065567017,
          12.606416702270508,
          13.637897491455078,
          -13.484323501586914,
          10.449016571044922,
          8.385224342346191,
          -6.3754987716674805,
          17.832275390625,
          17.852205276489258,
          -9.378275871276855,
          -4.782157897949219,
          -0.927503764629364,
          20.20821189880371,
          -14.463235855102539,
          4.9626851081848145,
          -10.884510040283203,
          20.132349014282227,
          -2.6687142848968506,
          19.988344192504883,
          20.605422973632812,
          -5.721383094787598,
          -12.484566688537598,
          6.340391635894775,
          -6.942273139953613,
          -5.181072235107422,
          21.556684494018555,
          19.297630310058594,
          28.23508071899414,
          5.2081828117370605,
          -4.650180339813232,
          -19.121789932250977,
          7.03785514831543,
          10.94675064086914,
          1.4863166809082031,
          -14.116790771484375,
          -2.278562068939209,
          -2.2797436714172363,
          3.7306742668151855,
          -20.170034408569336,
          24.431684494018555,
          10.222002029418945,
          30.300006866455078,
          16.957683563232422,
          5.565483093261719,
          9.191165924072266,
          18.347692489624023,
          7.165933132171631,
          -10.00576114654541,
          1.6014842987060547,
          16.286624908447266,
          -7.976350784301758,
          6.856709957122803,
          -10.5555419921875,
          -1.4006693363189697,
          -7.890610218048096,
          11.54809284210205,
          1.0145643949508667,
          11.529488563537598,
          -3.3710978031158447,
          3.322411060333252,
          -11.801732063293457,
          -10.71235466003418,
          -10.923807144165039,
          -0.6237446665763855,
          3.7556591033935547,
          19.468868255615234,
          5.424586772918701,
          5.327568531036377,
          -0.16877055168151855,
          -0.1686227172613144,
          1.5346354246139526,
          -8.287233352661133,
          -9.255770683288574,
          8.108946800231934,
          11.11424732208252,
          -19.71525001525879,
          10.190342903137207,
          -19.014911651611328,
          14.595077514648438,
          21.000513076782227,
          25.325651168823242,
          -4.3273725509643555,
          25.942638397216797,
          -10.62652587890625,
          15.348389625549316,
          -0.8180927634239197,
          4.173095226287842,
          2.3298659324645996,
          -20.40896987915039,
          18.48605728149414,
          -7.646167755126953,
          -6.304329872131348,
          12.849884033203125,
          19.181760787963867,
          -9.699792861938477,
          19.164989471435547,
          -9.067227363586426,
          -7.3477373123168945,
          12.974574089050293,
          17.39334487915039,
          19.167221069335938,
          1.955534815788269,
          16.288463592529297,
          -5.46590518951416,
          -11.958105087280273,
          -8.121750831604004,
          4.266104221343994,
          -2.3309154510498047,
          -10.903074264526367,
          -11.029128074645996,
          -11.712039947509766,
          -7.867475509643555,
          1.9047391414642334,
          13.288960456848145,
          -6.579305171966553,
          -4.670262813568115,
          14.997237205505371,
          3.1129026412963867,
          27.08562469482422,
          22.142574310302734,
          29.381488800048828,
          2.543131113052368,
          -7.2009735107421875,
          19.36161994934082,
          -7.301133632659912,
          9.577717781066895,
          21.691696166992188,
          6.107756614685059,
          11.040979385375977,
          11.354323387145996,
          -7.929988861083984,
          21.50530433654785,
          -22.59048843383789,
          -22.537080764770508,
          -23.8237361907959,
          -6.956709384918213,
          20.039737701416016,
          0.874617874622345,
          11.509209632873535,
          18.290876388549805,
          18.063005447387695,
          -25.567312240600586,
          -4.601078033447266,
          7.379393100738525,
          -25.249040603637695,
          -4.4243550300598145,
          4.9669575691223145,
          3.2013492584228516,
          8.579649925231934,
          4.4261345863342285,
          23.471515655517578,
          19.415386199951172,
          23.771730422973633,
          -12.574891090393066,
          -4.044291973114014,
          8.158682823181152,
          7.984198093414307,
          1.851196050643921,
          -14.413652420043945,
          -3.237436294555664,
          19.571701049804688,
          6.622195243835449,
          -25.2110595703125,
          -1.0651146173477173,
          7.356231689453125,
          24.196229934692383,
          8.05009651184082,
          18.385459899902344,
          -4.736717224121094,
          1.9666608572006226,
          25.97222900390625,
          4.756633758544922,
          24.008922576904297,
          16.782773971557617,
          15.229048728942871,
          -8.401016235351562,
          14.603007316589355,
          19.012672424316406,
          13.19273567199707,
          14.283284187316895,
          -1.3353443145751953,
          11.771639823913574,
          -4.931375980377197,
          -0.7773652076721191,
          21.857114791870117,
          -23.706890106201172,
          -1.2600363492965698,
          20.02553367614746,
          15.774177551269531,
          24.94591522216797,
          5.139922618865967,
          7.495203495025635,
          -6.278936862945557,
          7.605827331542969,
          24.911746978759766,
          1.8133034706115723,
          -0.5734665989875793,
          6.663187503814697,
          6.332669734954834,
          11.843008041381836,
          0.31635183095932007,
          7.0087103843688965,
          7.4237961769104,
          15.728201866149902,
          22.069499969482422,
          3.3473551273345947,
          2.8502917289733887,
          7.641839504241943,
          7.6907148361206055,
          0.928280234336853,
          -11.202999114990234
         ],
         "z": [
          14.482421875,
          -8.67103099822998,
          0.18625248968601227,
          -17.249692916870117,
          29.003280639648438,
          19.308029174804688,
          -11.000395774841309,
          0.3584536015987396,
          23.12870979309082,
          1.6012471914291382,
          21.119800567626953,
          11.036269187927246,
          2.0965194702148438,
          0.131727397441864,
          12.51125717163086,
          -17.10579490661621,
          -15.617682456970215,
          8.600040435791016,
          4.7164626121521,
          -5.966531276702881,
          15.460099220275879,
          -19.243038177490234,
          -0.0354980044066906,
          -7.452025413513184,
          -7.102710247039795,
          7.909097671508789,
          8.264968872070312,
          -4.703577995300293,
          -13.960811614990234,
          -2.1762919425964355,
          1.6014560461044312,
          30.550071716308594,
          -9.296218872070312,
          -10.259180068969727,
          -1.176452875137329,
          14.996519088745117,
          -0.8046481013298035,
          28.326414108276367,
          -8.492196083068848,
          2.0902597904205322,
          2.789262056350708,
          11.81966781616211,
          -9.185735702514648,
          17.081018447875977,
          -10.78930950164795,
          -11.479204177856445,
          -11.465521812438965,
          1.2864106893539429,
          -17.964719772338867,
          28.949810028076172,
          2.5515310764312744,
          -7.0261993408203125,
          -7.8027448654174805,
          -13.938796997070312,
          16.629976272583008,
          17.699819564819336,
          16.72903060913086,
          1.0933544635772705,
          -1.342932939529419,
          -4.735915184020996,
          -15.990985870361328,
          -17.244638442993164,
          27.36980628967285,
          12.461869239807129,
          17.92344856262207,
          0.6189912557601929,
          -15.727682113647461,
          -16.908756256103516,
          -21.773332595825195,
          -14.180685043334961,
          -10.123307228088379,
          -13.399721145629883,
          -7.191573143005371,
          -2.5574405193328857,
          -2.5561301708221436,
          7.1414055824279785,
          -19.03084945678711,
          14.982311248779297,
          2.940899610519409,
          -3.0675432682037354,
          6.775556564331055,
          11.426281929016113,
          -4.996151924133301,
          0.9030970931053162,
          15.87639331817627,
          -0.24108032882213593,
          -2.017893075942993,
          -18.912437438964844,
          9.697840690612793,
          -8.5154390335083,
          -0.4317532479763031,
          -8.209592819213867,
          -11.995187759399414,
          11.462552070617676,
          -14.655900955200195,
          11.3837890625,
          -1.7472434043884277,
          -7.277311325073242,
          -11.271679878234863,
          -14.259215354919434,
          -17.239749908447266,
          14.273218154907227,
          15.91911792755127,
          1.7867639064788818,
          -3.070375680923462,
          -3.0294692516326904,
          10.595929145812988,
          10.595458984375,
          13.671311378479004,
          0.7689293026924133,
          0.4857494831085205,
          -4.568115711212158,
          8.084479331970215,
          -19.80999755859375,
          -8.812026977539062,
          -20.579116821289062,
          -5.979801654815674,
          12.489114761352539,
          3.7242114543914795,
          -18.09278678894043,
          -2.4145925045013428,
          -14.629559516906738,
          2.1269757747650146,
          30.50095558166504,
          7.639101505279541,
          -6.442664623260498,
          15.968019485473633,
          0.6205575466156006,
          10.341324806213379,
          -10.972160339355469,
          12.020623207092285,
          -0.5645250678062439,
          7.613687515258789,
          17.156225204467773,
          -11.500771522521973,
          -12.865530967712402,
          19.615882873535156,
          8.905698776245117,
          17.154708862304688,
          4.389798641204834,
          -18.920724868774414,
          -13.209070205688477,
          -3.9464333057403564,
          -11.839301109313965,
          5.3003363609313965,
          -14.279031753540039,
          -17.283794403076172,
          -4.849449634552002,
          0.4846099615097046,
          -10.19135570526123,
          -1.7954996824264526,
          20.571386337280273,
          -11.847305297851562,
          20.920204162597656,
          21.12795066833496,
          4.120603561401367,
          1.0229321718215942,
          15.229949951171875,
          0.6782724857330322,
          2.607825517654419,
          -10.749571800231934,
          -4.46790885925293,
          -10.407927513122559,
          -5.146119594573975,
          15.385149955749512,
          -15.356674194335938,
          23.118934631347656,
          8.033493995666504,
          1.4131760597229004,
          12.157464027404785,
          11.103939056396484,
          11.228816986083984,
          8.350979804992676,
          -11.29701042175293,
          -4.001455783843994,
          -8.502580642700195,
          2.5959832668304443,
          -0.5921077728271484,
          19.910625457763672,
          8.359281539916992,
          -2.5947978496551514,
          -16.59484100341797,
          -0.8701345920562744,
          27.781465530395508,
          12.842085838317871,
          -2.196913242340088,
          17.266366958618164,
          -19.17144775390625,
          12.427764892578125,
          17.717649459838867,
          12.204841613769531,
          0.8496674299240112,
          27.97072410583496,
          -7.342182636260986,
          -7.587657928466797,
          29.212308883666992,
          12.558632850646973,
          -18.41918182373047,
          3.5440948009490967,
          -16.19999122619629,
          9.235129356384277,
          15.066518783569336,
          -22.61904525756836,
          3.287688970565796,
          16.760711669921875,
          19.438255310058594,
          -10.674598693847656,
          17.68764877319336,
          4.296115398406982,
          -14.811373710632324,
          11.362985610961914,
          7.27944278717041,
          -13.965934753417969,
          -16.82895851135254,
          -5.973263263702393,
          -0.2144031673669815,
          20.27820587158203,
          2.546675443649292,
          6.940983772277832,
          2.525861978530884,
          -14.036527633666992,
          30.625734329223633,
          16.00804328918457,
          8.126504898071289,
          14.307795524597168,
          2.5504202842712402,
          -10.632277488708496,
          13.727896690368652,
          -3.3789117336273193,
          25.32090950012207,
          -11.53831958770752,
          16.318326950073242,
          14.090682029724121,
          22.45553970336914,
          -12.56226921081543,
          27.131698608398438,
          27.473173141479492,
          12.634870529174805,
          -7.598290920257568,
          -22.832380294799805,
          25.75897216796875,
          8.320653915405273,
          12.734114646911621,
          23.10081672668457,
          22.89419174194336,
          24.366252899169922,
          24.17641830444336,
          29.135318756103516,
          19.31536293029785
         ]
        },
        {
         "hovertemplate": "<b>%{hovertext}</b><br><br>color=Regulator<br>x=%{x}<br>y=%{y}<br>z=%{z}<extra></extra>",
         "hovertext": [
          "eu",
          "european parliament",
          "law enforcement",
          "national competent authorities",
          "union law",
          "competent authorities",
          "public authorities",
          "european union",
          "national competent authority",
          "market surveillance authorities",
          "public authority",
          "law enforcement authorities",
          "asylum authorities",
          "law enforcement authority",
          "relevant authorities",
          "european council",
          "judicial authority",
          "independent administrative authority",
          "national public authorities",
          "national authorities",
          "european central bank",
          "national authority",
          "market surveillance authority",
          "administrative authority",
          "regulation of the european parliament and of the council laying down harmonised rules on artificial intelligence",
          "the european parliament and the council of the european union",
          "european commission",
          "national parliaments",
          "parliament",
          "euco",
          "european parliament resolution",
          "europol",
          "public international law",
          "european arrest warrant",
          "police cooperation",
          "union policies",
          "responsible authorities",
          "public administration",
          "law enforcement context",
          "customs authorities",
          "judicial authorities",
          "relevant competent authorities",
          "administrative cooperation group",
          "surveillance authorities",
          "enforcement powers",
          "competent market surveillance authority",
          "data protection authorities",
          "public authority competent",
          "competent authority",
          "authority access"
         ],
         "legendgroup": "Regulator",
         "marker": {
          "color": "#00cc96",
          "symbol": "circle"
         },
         "mode": "markers",
         "name": "Regulator",
         "scene": "scene",
         "showlegend": true,
         "type": "scatter3d",
         "x": [
          4.798020362854004,
          7.67209005355835,
          20.720462799072266,
          24.092180252075195,
          26.385841369628906,
          21.642337799072266,
          21.76116371154785,
          4.8276448249816895,
          24.10669708251953,
          18.030776977539062,
          21.414993286132812,
          20.521997451782227,
          19.418386459350586,
          20.472116470336914,
          16.10673713684082,
          4.621609687805176,
          22.76318359375,
          19.690340042114258,
          26.03057861328125,
          25.859683990478516,
          3.6882052421569824,
          25.77429962158203,
          17.858949661254883,
          19.489761352539062,
          -12.863606452941895,
          7.458902359008789,
          4.590888500213623,
          7.037878513336182,
          6.980926036834717,
          3.8797123432159424,
          8.027341842651367,
          3.588707447052002,
          18.471878051757812,
          8.8341703414917,
          26.851825714111328,
          29.155019760131836,
          20.922176361083984,
          22.231128692626953,
          22.17970085144043,
          20.475170135498047,
          22.801902770996094,
          22.064250946044922,
          27.868526458740234,
          18.7580509185791,
          18.26862907409668,
          17.6127872467041,
          -22.951704025268555,
          21.56563949584961,
          21.604433059692383,
          20.560407638549805
         ],
         "y": [
          -27.9755802154541,
          -22.02326011657715,
          13.445487976074219,
          -6.776356220245361,
          -8.353595733642578,
          -6.396380424499512,
          2.115408420562744,
          -23.714998245239258,
          -6.778511047363281,
          6.312168121337891,
          1.7815955877304077,
          12.2986421585083,
          5.352790355682373,
          12.632433891296387,
          -10.032066345214844,
          -21.913665771484375,
          5.496125221252441,
          3.251844644546509,
          -1.5833126306533813,
          -0.736945629119873,
          -21.99360466003418,
          -0.32473471760749817,
          6.376639366149902,
          3.351815938949585,
          -17.79099464416504,
          -22.461381912231445,
          -22.456506729125977,
          -18.893701553344727,
          -18.8243408203125,
          -27.771392822265625,
          -21.811452865600586,
          -27.70808219909668,
          2.7562308311462402,
          -21.43882942199707,
          8.386319160461426,
          -5.658907413482666,
          -7.6143012046813965,
          3.421422004699707,
          13.569169998168945,
          10.794130325317383,
          5.524118900299072,
          -6.771951675415039,
          8.930313110351562,
          5.838726997375488,
          25.453996658325195,
          6.992161273956299,
          -13.62784481048584,
          -4.70212984085083,
          -5.640867710113525,
          1.0999813079833984
         ],
         "z": [
          -0.5232011675834656,
          -2.564000368118286,
          11.09695816040039,
          9.410762786865234,
          -4.756485462188721,
          12.704242706298828,
          12.550342559814453,
          -1.8127080202102661,
          9.39350700378418,
          17.35257911682129,
          12.253994941711426,
          12.209695816040039,
          15.193103790283203,
          12.416248321533203,
          0.10211916267871857,
          -2.194145441055298,
          8.010054588317871,
          8.439826965332031,
          7.770823955535889,
          7.345706939697266,
          -0.46005192399024963,
          7.137431621551514,
          17.598913192749023,
          8.232670783996582,
          -8.642997741699219,
          -3.5147488117218018,
          -1.750128149986267,
          -6.384306907653809,
          -6.470755100250244,
          -1.2281224727630615,
          -2.087874412536621,
          -1.4535119533538818,
          -8.32480525970459,
          -1.1740339994430542,
          7.897885322570801,
          -6.2888503074646,
          13.1029052734375,
          12.261369705200195,
          11.086463928222656,
          12.621251106262207,
          8.015095710754395,
          12.014313697814941,
          7.835302829742432,
          16.082061767578125,
          3.6531803607940674,
          18.575122833251953,
          11.064229965209961,
          13.469447135925293,
          13.061403274536133,
          11.469466209411621
         ]
        },
        {
         "hovertemplate": "<b>%{hovertext}</b><br><br>color=Right<br>x=%{x}<br>y=%{y}<br>z=%{z}<extra></extra>",
         "hovertext": [
          "fundamental rights"
         ],
         "legendgroup": "Right",
         "marker": {
          "color": "#ab63fa",
          "symbol": "circle"
         },
         "mode": "markers",
         "name": "Right",
         "scene": "scene",
         "showlegend": true,
         "type": "scatter3d",
         "x": [
          0.8160203695297241
         ],
         "y": [
          -19.172273635864258
         ],
         "z": [
          -20.759449005126953
         ]
        },
        {
         "hovertemplate": "<b>%{hovertext}</b><br><br>color=Data<br>x=%{x}<br>y=%{y}<br>z=%{z}<extra></extra>",
         "hovertext": [
          "personal data",
          "biometric data",
          "input data",
          "data protection",
          "such data",
          "knowledge base",
          "data subjects",
          "means data",
          "such information",
          "historical patterns",
          "text",
          "reference data repository",
          "video footage",
          "digital",
          "reference database",
          "such output",
          "ethnic origins",
          "sexual orientation",
          "high quality data",
          "training data",
          "digital products",
          "data controllers",
          "knowledge graphs",
          "knowledge bases",
          "large number",
          "digital nature",
          "process data",
          "such research",
          "image/speech recognition",
          "multiple contexts",
          "social score",
          "social contexts",
          "medical condition",
          "digital environment",
          "learning outcomes",
          "personality traits",
          "high data quality",
          "data minimisation",
          "quality datasets",
          "european common data spaces",
          "european health data space",
          "health data",
          "high-quality data",
          "general characteristics",
          "instance output data",
          "system output",
          "accuracy metrics",
          "such database",
          "generate content",
          "hair colour",
          "eye colour",
          "personal preferences",
          "artificial intelligence output",
          "translation",
          "data access infrastructure",
          "video generation",
          "validation data",
          "validation dataset",
          "separate dataset",
          "facial images",
          "dactyloscopic data",
          "psychological states",
          "data",
          "data governance",
          "data collection processes",
          "relevant data preparation processing operations",
          "possible data gaps",
          "individual data",
          "up-to date",
          "output",
          "model flaws",
          "data management",
          "data collection",
          "data analysis",
          "data storage",
          "data filtration",
          "data aggregation",
          "data retention"
         ],
         "legendgroup": "Data",
         "marker": {
          "color": "#FFA15A",
          "symbol": "circle"
         },
         "mode": "markers",
         "name": "Data",
         "scene": "scene",
         "showlegend": true,
         "type": "scatter3d",
         "x": [
          -16.762022018432617,
          -25.212310791015625,
          -13.26312255859375,
          -21.7074031829834,
          -19.331937789916992,
          2.3362977504730225,
          -16.571823120117188,
          -16.101398468017578,
          -18.614524841308594,
          -26.839014053344727,
          4.963648796081543,
          4.464653491973877,
          -21.7455997467041,
          -14.955439567565918,
          4.460973262786865,
          -19.428171157836914,
          -15.185432434082031,
          -18.54657554626465,
          -10.85391902923584,
          -7.101624488830566,
          -14.933670043945312,
          -17.196874618530273,
          2.1758835315704346,
          2.3032519817352295,
          -7.458470344543457,
          -15.118054389953613,
          -14.124602317810059,
          -18.362640380859375,
          -25.06570053100586,
          -12.340941429138184,
          -13.504857063293457,
          -12.785037994384766,
          3.2815921306610107,
          -15.021510124206543,
          -5.702236175537109,
          -14.835614204406738,
          -11.23851203918457,
          -21.07640838623047,
          -8.678387641906738,
          6.010704040527344,
          6.007288932800293,
          -14.750202178955078,
          -11.07108211517334,
          -13.35573959350586,
          -18.107894897460938,
          -17.936201095581055,
          -14.58363151550293,
          -19.859071731567383,
          -25.567424774169922,
          -16.233842849731445,
          -16.233537673950195,
          -16.102746963500977,
          -14.703542709350586,
          4.949634552001953,
          -13.21630573272705,
          -21.75507354736328,
          -9.187936782836914,
          -8.999667167663574,
          -8.405116081237793,
          -25.450237274169922,
          -21.050704956054688,
          0.034779760986566544,
          -16.752269744873047,
          -18.850236892700195,
          -15.613993644714355,
          -14.55854606628418,
          -23.351987838745117,
          -16.617246627807617,
          -13.815478324890137,
          -19.832216262817383,
          -8.991720199584961,
          -18.185922622680664,
          -16.03730010986328,
          -17.66497039794922,
          -17.986572265625,
          -17.382091522216797,
          -17.060253143310547,
          -17.692380905151367
         ],
         "y": [
          -6.777614593505859,
          0.1213073581457138,
          -7.8606858253479,
          -12.955181121826172,
          1.973643183708191,
          0.6819161772727966,
          -4.9522881507873535,
          -4.167724132537842,
          1.5967862606048584,
          -9.084134101867676,
          -22.439594268798828,
          4.655688285827637,
          -19.064990997314453,
          -22.306758880615234,
          4.645802974700928,
          4.475100040435791,
          -5.755261421203613,
          -4.980538845062256,
          2.4002161026000977,
          -7.233038425445557,
          -21.833982467651367,
          -5.959455490112305,
          -0.24281609058380127,
          0.490581214427948,
          6.426301002502441,
          -21.206825256347656,
          -8.120865821838379,
          0.5735054612159729,
          -13.388644218444824,
          9.640412330627441,
          10.961597442626953,
          9.562612533569336,
          24.543054580688477,
          -21.439237594604492,
          -11.990628242492676,
          0.26120468974113464,
          3.412655830383301,
          -11.788816452026367,
          -1.720126986503601,
          -27.675844192504883,
          -27.677959442138672,
          -4.116711139678955,
          2.53481388092041,
          0.72335284948349,
          6.997103691101074,
          7.2726545333862305,
          6.380324840545654,
          2.3963496685028076,
          -17.318098068237305,
          -9.718659400939941,
          -9.71773910522461,
          -6.045622825622559,
          -14.73691463470459,
          -23.392471313476562,
          -19.21614646911621,
          -19.06106948852539,
          -3.6478381156921387,
          -3.0371973514556885,
          -0.6927413940429688,
          -13.383360862731934,
          1.404605507850647,
          21.956193923950195,
          -3.2724850177764893,
          -6.750026226043701,
          -7.440705299377441,
          -8.930305480957031,
          2.9562063217163086,
          -7.113022327423096,
          4.875466823577881,
          5.148099422454834,
          8.597740173339844,
          -7.6667962074279785,
          -7.214380264282227,
          -5.781525611877441,
          -8.19982624053955,
          -7.027890682220459,
          -6.6627655029296875,
          -9.200179100036621
         ],
         "z": [
          -0.1122930645942688,
          4.743854999542236,
          17.36423683166504,
          11.702500343322754,
          3.4223079681396484,
          17.18982696533203,
          6.746947288513184,
          6.182226657867432,
          3.789257526397705,
          -10.296493530273438,
          -17.173479080200195,
          14.893102645874023,
          -0.00047143734991550446,
          3.507174253463745,
          14.896322250366211,
          3.825349807739258,
          -19.75010871887207,
          -17.78009605407715,
          14.912503242492676,
          17.39311981201172,
          1.9018089771270752,
          7.833053112030029,
          18.243961334228516,
          17.41057014465332,
          15.696868896484375,
          0.001668146112933755,
          17.510955810546875,
          2.1993448734283447,
          -7.332152366638184,
          10.086644172668457,
          10.941478729248047,
          10.069070816040039,
          -13.920315742492676,
          0.7335599064826965,
          17.60359764099121,
          -14.228887557983398,
          14.398274421691895,
          11.582096099853516,
          21.000253677368164,
          6.249408721923828,
          6.247024059295654,
          6.04898738861084,
          15.14813232421875,
          -14.931757926940918,
          3.213186264038086,
          3.1849844455718994,
          27.423851013183594,
          2.557823896408081,
          2.160724401473999,
          -21.260168075561523,
          -21.260005950927734,
          -1.017488718032837,
          -7.262816905975342,
          -16.901779174804688,
          15.513787269592285,
          0.011670284904539585,
          20.88054656982422,
          20.885906219482422,
          21.285594940185547,
          -6.185169696807861,
          4.13779354095459,
          -12.888240814208984,
          5.630267143249512,
          10.63326358795166,
          16.514673233032227,
          18.310626983642578,
          -9.829934120178223,
          0.41649389266967773,
          10.976997375488281,
          4.179899215698242,
          -12.20493221282959,
          10.359007835388184,
          16.213279724121094,
          15.97493839263916,
          10.28393268585205,
          14.205137252807617,
          15.438688278198242,
          10.1564302444458
         ]
        },
        {
         "hovertemplate": "<b>%{hovertext}</b><br><br>color=Risk<br>x=%{x}<br>y=%{y}<br>z=%{z}<extra></extra>",
         "hovertext": [
          "high-risk ai",
          "criminal offences",
          "high risk",
          "such harm",
          "vulnerable position",
          "possible risks",
          "respective high-risk",
          "safety risks",
          "vulnerabilities",
          "significant risk",
          "new high-risk",
          "generate risks",
          "possible damages pursuant",
          "lethal force",
          "psychological harms",
          "extreme poverty",
          "phycological harm",
          "distortion results",
          "psychological harm",
          "such harm results",
          "financial harms",
          "mental disease",
          "harmful manipulative",
          "discriminatory outcomes",
          "unfavourable treatment",
          "potential victims",
          "certain threats",
          "terrorist attack",
          "different criminal offences",
          "possible negative consequences",
          "criminal matters",
          "unacceptable risks",
          "significant harmful impact",
          "high-risk pursuant",
          "high-risk products",
          "possible harm",
          "high-risk scenarios",
          "discriminatory effects",
          "discriminatory impacts",
          "critical situations",
          "serious consequences",
          "unjust manner",
          "criminal proceedings",
          "potential criminal offence",
          "past criminal behaviour",
          "certain risks",
          "potential biases",
          "possible shortcomings",
          "unexpected situations",
          "certain anomalies",
          "safety impacts",
          "erroneous decisions",
          "cyberattacks",
          "adversarial attacks",
          "defective high-risk",
          "particular use high-risk",
          "exceptional fall",
          "specific risks",
          "serious incidents",
          "significant risks",
          "risk",
          "foreseeable risks",
          "residual risk",
          "overall residual risk",
          "possible biases",
          "such risks persist",
          "specific vulnerabilities",
          "adversarial examples",
          "serious incident"
         ],
         "legendgroup": "Risk",
         "marker": {
          "color": "#19d3f3",
          "symbol": "circle"
         },
         "mode": "markers",
         "name": "Risk",
         "scene": "scene",
         "showlegend": true,
         "type": "scatter3d",
         "x": [
          -20.982791900634766,
          20.861148834228516,
          -16.03963279724121,
          -6.177943706512451,
          -9.995009422302246,
          -11.787199020385742,
          -16.194900512695312,
          -9.34609603881836,
          -10.094139099121094,
          -14.188206672668457,
          -16.04096794128418,
          -25.579736709594727,
          -9.236620903015137,
          19.952924728393555,
          -1.3608834743499756,
          -7.648257255554199,
          -2.218843936920166,
          -4.80488920211792,
          -1.4772838354110718,
          -5.864210605621338,
          -1.5704749822616577,
          3.2564074993133545,
          4.4486894607543945,
          2.0702133178710938,
          7.256275177001953,
          -11.346933364868164,
          -12.98145866394043,
          13.236860275268555,
          21.049640655517578,
          -8.514686584472656,
          19.61139678955078,
          -15.72709846496582,
          -9.572356224060059,
          -16.286165237426758,
          -16.873756408691406,
          -9.936031341552734,
          -15.678801536560059,
          2.985504150390625,
          3.0292115211486816,
          -15.911904335021973,
          -8.272383689880371,
          7.708967685699463,
          19.556364059448242,
          21.58370590209961,
          22.130441665649414,
          -13.389217376708984,
          -24.797855377197266,
          -8.836089134216309,
          -16.05689811706543,
          -13.893474578857422,
          -9.337809562683105,
          -2.106044054031372,
          13.145708084106445,
          12.89690113067627,
          -16.18107032775879,
          -15.11826229095459,
          -15.313692092895508,
          -12.78183650970459,
          -15.578444480895996,
          -13.862046241760254,
          -12.307475090026855,
          -14.986066818237305,
          -16.38053321838379,
          -16.38167381286621,
          -24.59764862060547,
          -13.922725677490234,
          -10.276463508605957,
          12.895265579223633,
          -15.516416549682617
         ],
         "y": [
          15.749309539794922,
          13.422182083129883,
          15.024563789367676,
          14.832271575927734,
          4.594295978546143,
          15.094743728637695,
          15.90065860748291,
          16.904508590698242,
          5.933235168457031,
          15.459981918334961,
          14.781333923339844,
          -17.312288284301758,
          14.863005638122559,
          14.53174877166748,
          21.37657356262207,
          11.5826416015625,
          22.38799476623535,
          15.440394401550293,
          21.776002883911133,
          14.986084938049316,
          20.034425735473633,
          24.524173736572266,
          6.0928144454956055,
          17.830320358276367,
          9.573445320129395,
          1.490084171295166,
          18.669153213500977,
          19.947824478149414,
          13.230405807495117,
          10.516613960266113,
          14.595209121704102,
          16.28505516052246,
          14.741320610046387,
          16.809188842773438,
          14.60634994506836,
          14.781137466430664,
          12.557703018188477,
          17.79304313659668,
          17.791522979736328,
          11.40606689453125,
          10.915945053100586,
          9.139930725097656,
          14.755656242370605,
          12.542998313903809,
          11.8053560256958,
          17.601736068725586,
          2.41621994972229,
          9.436845779418945,
          10.423291206359863,
          2.5191941261291504,
          16.906789779663086,
          -5.324725151062012,
          19.733592987060547,
          20.657114028930664,
          13.40941047668457,
          15.934898376464844,
          6.485825061798096,
          16.338525772094727,
          8.134652137756348,
          15.727717399597168,
          14.672428131103516,
          17.3262996673584,
          19.43208885192871,
          19.434795379638672,
          2.577195644378662,
          14.678336143493652,
          6.556174278259277,
          20.659191131591797,
          7.766144275665283
         ],
         "z": [
          -10.603145599365234,
          -14.38963794708252,
          -9.7816743850708,
          -15.048362731933594,
          -22.943410873413086,
          -11.822471618652344,
          -7.489901542663574,
          -3.329726219177246,
          -22.833309173583984,
          -11.736019134521484,
          -8.460204124450684,
          2.167827606201172,
          -11.20848560333252,
          12.204673767089844,
          -12.541116714477539,
          -15.03353214263916,
          -12.171464920043945,
          -15.878704071044922,
          -12.460707664489746,
          -15.234472274780273,
          -12.636012077331543,
          -13.91262435913086,
          -2.1556501388549805,
          -22.46784782409668,
          0.9450799822807312,
          -22.93583106994629,
          -12.263583183288574,
          -6.964816093444824,
          -14.574748039245605,
          -13.61120891571045,
          -13.23871898651123,
          -13.904993057250977,
          -13.2797269821167,
          -9.01038932800293,
          -10.436634063720703,
          -12.184191703796387,
          -12.430901527404785,
          -22.621097564697266,
          -22.629182815551758,
          -12.922141075134277,
          -14.107660293579102,
          1.705649733543396,
          -13.111411094665527,
          -15.203459739685059,
          -15.867975234985352,
          -12.459303855895996,
          -9.41240119934082,
          -12.76922607421875,
          -13.34973430633545,
          -15.484223365783691,
          -3.3069159984588623,
          -9.619464874267578,
          -5.9660725593566895,
          -11.58622932434082,
          -7.831736087799072,
          -6.911265850067139,
          -14.788359642028809,
          -13.332050323486328,
          -14.247618675231934,
          -12.48558235168457,
          -10.631922721862793,
          -13.024748802185059,
          -18.75855827331543,
          -18.76275062561035,
          -9.370965003967285,
          -13.626794815063477,
          -22.772266387939453,
          -11.60584545135498,
          -14.373446464538574
         ]
        },
        {
         "hovertemplate": "<b>%{hovertext}</b><br><br>color=AI Domain<br>x=%{x}<br>y=%{y}<br>z=%{z}<extra></extra>",
         "hovertext": [
          "remote biometric identification systems",
          "market surveillance",
          "internal market",
          "general purpose",
          "remote biometric identification",
          "national security",
          "medical devices",
          "national security purposes",
          "border control",
          "application problem",
          "border control management",
          "private life",
          "personal non-professional activity",
          "market surveillance activities",
          "artificial intelligence act",
          "professional activities",
          "border control areas",
          "defence activities",
          "national security activities",
          "humanitarian purposes",
          "public security purposes",
          "civilian purposes",
          "military activities",
          "law enforcement purposes",
          "research activity",
          "virtual reality",
          "unfair commercial practices",
          "physical rehabilitation",
          "specific purpose",
          "law enforcement activities",
          "biometric identification",
          "civil aviation security",
          "marine equipment",
          "rail system",
          "civil aviation",
          "economic activities",
          "cybersecurity purposes",
          "task allocation",
          "credit score",
          "telecommunication services",
          "health insurance",
          "administrative activities",
          "certain biometric identification systems",
          "political orientation",
          "surveillance activities",
          "financial services",
          "market surveillance tasks",
          "sectorial nature",
          "information society services",
          "electronic commerce",
          "speech recognition",
          "commercial activity",
          "emotion recognition system",
          "biometric categorisation system"
         ],
         "legendgroup": "AI Domain",
         "marker": {
          "color": "#FF6692",
          "symbol": "circle"
         },
         "mode": "markers",
         "name": "AI Domain",
         "scene": "scene",
         "showlegend": true,
         "type": "scatter3d",
         "x": [
          -27.710527420043945,
          13.476731300354004,
          24.839937210083008,
          0.2734483778476715,
          -27.889026641845703,
          15.391407012939453,
          -4.535341739654541,
          15.470771789550781,
          27.825334548950195,
          5.228697299957275,
          27.720998764038086,
          -18.18569564819336,
          -20.173114776611328,
          13.32316780090332,
          -13.236005783081055,
          -20.293643951416016,
          28.39861297607422,
          15.04608154296875,
          15.268838882446289,
          19.490766525268555,
          -1.6312665939331055,
          19.482513427734375,
          15.125518798828125,
          20.68844985961914,
          -18.07953643798828,
          -14.92042350769043,
          8.286202430725098,
          -5.795836448669434,
          0.27489903569221497,
          20.22394561767578,
          -25.743852615356445,
          -7.504703521728516,
          -4.595417022705078,
          -0.942256510257721,
          -7.649205207824707,
          10.444883346557617,
          13.320653915405273,
          15.671713829040527,
          -14.187463760375977,
          0.9927157163619995,
          -10.94595718383789,
          16.77589988708496,
          -26.9991397857666,
          -18.552783966064453,
          13.538331031799316,
          10.804316520690918,
          14.247989654541016,
          19.343271255493164,
          0.8715511560440063,
          -10.421754837036133,
          -24.89801025390625,
          9.1991548538208,
          -24.485641479492188,
          -26.907922744750977
         ],
         "y": [
          -2.1135315895080566,
          0.736213207244873,
          10.860560417175293,
          6.7148356437683105,
          -2.421802282333374,
          14.917489051818848,
          -24.969970703125,
          15.204901695251465,
          6.690489768981934,
          -11.999451637268066,
          6.962728023529053,
          -6.619287967681885,
          -6.149991512298584,
          1.371170163154602,
          -17.310224533081055,
          -6.121938705444336,
          6.352550029754639,
          12.448945045471191,
          14.206993103027344,
          17.1463565826416,
          13.177783966064453,
          17.141714096069336,
          13.219027519226074,
          14.529229164123535,
          -0.05447126179933548,
          -18.00217056274414,
          8.632704734802246,
          20.794321060180664,
          6.713199138641357,
          12.846559524536133,
          0.07847680896520615,
          26.813034057617188,
          -23.39607810974121,
          4.1489691734313965,
          27.173460006713867,
          8.25956916809082,
          18.92503547668457,
          4.356797218322754,
          12.602527618408203,
          -4.433239936828613,
          -4.252341270446777,
          4.229663848876953,
          -0.9221455454826355,
          -4.976129055023193,
          2.8177690505981445,
          -8.388863563537598,
          0.3886301517486572,
          -12.658939361572266,
          -3.9352574348449707,
          -24.9813175201416,
          -13.408432960510254,
          8.14764404296875,
          -13.576090812683105,
          0.8768385052680969
         ],
         "z": [
          5.062170505523682,
          16.61899185180664,
          0.12970632314682007,
          -17.71204376220703,
          5.103640556335449,
          -0.22476619482040405,
          9.016648292541504,
          -0.471036434173584,
          -6.393349647521973,
          -12.968960762023926,
          -6.678053379058838,
          -0.8844026923179626,
          -2.3273184299468994,
          16.81563377380371,
          -7.80950927734375,
          -2.411637306213379,
          -5.960982799530029,
          1.9554123878479004,
          0.40452536940574646,
          -1.3987956047058105,
          -5.973508358001709,
          -1.396930456161499,
          1.279684066772461,
          10.103067398071289,
          1.3831291198730469,
          -3.534348964691162,
          2.648442268371582,
          3.151261806488037,
          -17.712400436401367,
          10.061751365661621,
          4.760080814361572,
          -2.733948230743408,
          9.089506149291992,
          5.946348667144775,
          -2.866307020187378,
          3.6425862312316895,
          -4.220891952514648,
          4.356923580169678,
          11.879045486450195,
          8.619041442871094,
          5.999486923217773,
          5.617344379425049,
          4.917840003967285,
          -17.774917602539062,
          16.36371612548828,
          17.42330551147461,
          17.25433349609375,
          -5.003763198852539,
          8.497714042663574,
          -0.5188142657279968,
          -7.815502166748047,
          3.9877378940582275,
          -8.834141731262207,
          4.627266883850098
         ]
        },
        {
         "hovertemplate": "<b>%{hovertext}</b><br><br>color=AI System Development Process<br>x=%{x}<br>y=%{y}<br>z=%{z}<extra></extra>",
         "hovertext": [
          "artificial intelligence",
          "such systems",
          "framework",
          "training",
          "technical solutions",
          "machine and/or",
          "machine learning and/or logic-",
          "system interacts",
          "machine",
          "optimisation methods",
          "logic",
          "technological developments",
          "continuous iterative process",
          "entire lifecycle",
          "development process",
          "intelligence systems",
          "digital solutions",
          "trustworthy artificial intelligence",
          "ethical artificial intelligence",
          "various operators",
          "future technological developments",
          "simpler software systems",
          "learning approaches focus",
          "step-by-step instructions",
          "learning",
          "machine learning",
          "learning approaches",
          "reinforcement learning",
          "deep learning",
          "neural networks",
          "statistical techniques",
          "instance logistic regression",
          "bayesian",
          "approaches focus",
          "logical reasoning capabilities",
          "inference engine",
          "deductive engines",
          "regards machine learning approaches",
          "particular technology",
          "certain artificial intelligence practices",
          "powerful tools",
          "manipulative techniques",
          "subliminal techniques",
          "exploitative practices",
          "information systems",
          "autonomous robots",
          "complex environments",
          "sophisticated diagnostics systems",
          "critical digital infrastrucure",
          "vocational training",
          "programme",
          "high quality training",
          "artificial intelligence algorithms",
          "technical complexity",
          "specific logic",
          "initial phase",
          "software architecture",
          "innovative technologies",
          "artificial intelligence field",
          "artificial intelligence regulatory sandboxes",
          "regulatory learning",
          "artificial intelligence system",
          "pattern detection",
          "learnable parameters",
          "non-learnable parameters",
          "learning process",
          "specific technical processing",
          "automation bias",
          "interpretation tools"
         ],
         "legendgroup": "AI System Development Process",
         "marker": {
          "color": "#B6E880",
          "symbol": "circle"
         },
         "mode": "markers",
         "name": "AI System Development Process",
         "scene": "scene",
         "showlegend": true,
         "type": "scatter3d",
         "x": [
          -14.097365379333496,
          -1.3280140161514282,
          -0.4714314639568329,
          -6.409619331359863,
          -6.369936466217041,
          -4.638564109802246,
          -5.7980637550354,
          -16.28839111328125,
          -4.639781475067139,
          -20.877256393432617,
          5.2384819984436035,
          -13.652803421020508,
          -4.353260040283203,
          -4.564570903778076,
          -3.1739044189453125,
          0.9248990416526794,
          -14.925487518310547,
          -15.790021896362305,
          -15.273368835449219,
          10.887162208557129,
          -13.953544616699219,
          -1.9822579622268677,
          -3.6650946140289307,
          0.30313703417778015,
          -5.9654011726379395,
          -5.839234352111816,
          -4.674340724945068,
          -6.524837493896484,
          -4.64255428314209,
          1.3019442558288574,
          -19.610172271728516,
          -6.958592891693115,
          -27.729284286499023,
          -2.745985269546509,
          -4.840786933898926,
          -9.952494621276855,
          -9.948678016662598,
          -6.384577751159668,
          -10.461386680603027,
          -11.95600700378418,
          -2.7389349937438965,
          4.530383110046387,
          4.018964767456055,
          5.3667893409729,
          0.36480510234832764,
          -7.816304683685303,
          -12.998583793640137,
          0.06034936383366585,
          -12.329617500305176,
          -6.765271186828613,
          4.826148986816406,
          -10.010997772216797,
          -13.627809524536133,
          -6.8042097091674805,
          5.107994079589844,
          -2.124737024307251,
          -1.0708637237548828,
          -12.907882690429688,
          -13.314858436584473,
          -13.567301750183105,
          8.956743240356445,
          -14.290802955627441,
          -26.831558227539062,
          -2.353452444076538,
          -2.3530051708221436,
          -5.153164863586426,
          -10.369563102722168,
          -25.552005767822266,
          -1.9872498512268066
         ],
         "y": [
          -16.145231246948242,
          3.7914676666259766,
          -9.2869291305542,
          -7.958313941955566,
          0.17542214691638947,
          -19.435951232910156,
          -14.79741096496582,
          9.443126678466797,
          -19.47926902770996,
          -2.945988655090332,
          -3.547417163848877,
          1.0866142511367798,
          -8.19034481048584,
          4.333585262298584,
          -8.038543701171875,
          -0.8173878788948059,
          -21.98805046081543,
          -15.720133781433105,
          -17.504039764404297,
          -10.439908027648926,
          1.394441843032837,
          2.335570812225342,
          -11.450716018676758,
          -12.812277793884277,
          -8.878535270690918,
          -14.821800231933594,
          -11.13624095916748,
          -13.554947853088379,
          -14.62064266204834,
          -0.4096692204475403,
          -2.780561923980713,
          -14.954255104064941,
          4.584319591522217,
          -11.72979736328125,
          -14.532917022705078,
          -14.06786823272705,
          -14.067523956298828,
          -15.917489051818848,
          -1.9198877811431885,
          -15.354188919067383,
          2.4327712059020996,
          5.677138328552246,
          4.467106819152832,
          5.694438934326172,
          -1.187235713005066,
          -11.848190307617188,
          8.083017349243164,
          3.4834177494049072,
          -20.06085205078125,
          -2.4622976779937744,
          -14.412321090698242,
          1.2661844491958618,
          -14.676109313964844,
          2.66261887550354,
          -3.044790029525757,
          -7.127042293548584,
          -1.3733885288238525,
          0.3569541275501251,
          -17.25237274169922,
          -15.59898567199707,
          22.272451400756836,
          -15.707594871520996,
          -9.102494239807129,
          -17.39612579345703,
          -17.39849090576172,
          -10.489375114440918,
          -1.9725550413131714,
          2.825873613357544,
          2.9262454509735107
         ],
         "z": [
          -5.80027961730957,
          7.385895729064941,
          0.8867220878601074,
          16.544607162475586,
          -7.361929893493652,
          9.401934623718262,
          10.046834945678711,
          3.0754802227020264,
          9.402146339416504,
          17.96969223022461,
          -5.387245178222656,
          -6.513820171356201,
          26.156904220581055,
          -2.614532947540283,
          25.43185043334961,
          8.103864669799805,
          2.4068429470062256,
          -5.092678546905518,
          -6.273300647735596,
          -2.66074275970459,
          -6.495846748352051,
          7.342029094696045,
          17.098987579345703,
          -7.323723793029785,
          16.70796775817871,
          10.831747055053711,
          17.11167335510254,
          11.670042991638184,
          11.794820785522461,
          9.448433876037598,
          17.746112823486328,
          9.244084358215332,
          -4.411846160888672,
          17.089235305786133,
          8.990103721618652,
          3.092111349105835,
          3.0963332653045654,
          11.517829895019531,
          -6.490940093994141,
          -5.962192058563232,
          -10.477866172790527,
          -1.963202953338623,
          -2.399088144302368,
          -0.859767496585846,
          7.909154415130615,
          -11.262795448303223,
          10.605969429016113,
          8.107561111450195,
          15.834510803222656,
          13.924548149108887,
          -11.006038665771484,
          14.722413063049316,
          -5.71217155456543,
          2.9388630390167236,
          -6.3312153816223145,
          26.198213577270508,
          7.29658842086792,
          -6.573134899139404,
          -5.4037604331970215,
          -3.9180757999420166,
          14.932448387145996,
          -6.299206733703613,
          -10.285191535949707,
          18.08973503112793,
          18.089353561401367,
          16.94656753540039,
          -6.488784313201904,
          -8.407464027404785,
          -11.114073753356934
         ]
        },
        {
         "hovertemplate": "<b>%{hovertext}</b><br><br>color=Law text<br>x=%{x}<br>y=%{y}<br>z=%{z}<extra></extra>",
         "hovertext": [
          "national law",
          "legal acts",
          "state law",
          "legislative act",
          "national laws",
          "legal act"
         ],
         "legendgroup": "Law text",
         "marker": {
          "color": "#FF97FF",
          "symbol": "circle"
         },
         "mode": "markers",
         "name": "Law text",
         "scene": "scene",
         "showlegend": true,
         "type": "scatter3d",
         "x": [
          20.936737060546875,
          9.701441764831543,
          19.82209587097168,
          9.12357234954834,
          20.779144287109375,
          9.60833740234375
         ],
         "y": [
          -1.873822569847107,
          -5.3743157386779785,
          -2.8400588035583496,
          -4.921167850494385,
          -2.0971696376800537,
          -5.289849281311035
         ],
         "z": [
          -12.852168083190918,
          -19.365266799926758,
          -11.790119171142578,
          -17.963804244995117,
          -12.57858943939209,
          -19.19120979309082
         ]
        },
        {
         "hovertemplate": "<b>%{hovertext}</b><br><br>color=Regulation<br>x=%{x}<br>y=%{y}<br>z=%{z}<extra></extra>",
         "hovertext": [
          "union harmonisation legislation",
          "relevant union harmonisation legislation",
          "such union law",
          "union legislation",
          "relevant sectorial union law",
          "and amending certain union legislative acts",
          "national labour law",
          "enforcement directive",
          "common union defence policy",
          "national law contributes",
          "certain union harmonisation legislation"
         ],
         "legendgroup": "Regulation",
         "marker": {
          "color": "#FECB52",
          "symbol": "circle"
         },
         "mode": "markers",
         "name": "Regulation",
         "scene": "scene",
         "showlegend": true,
         "type": "scatter3d",
         "x": [
          24.09908103942871,
          24.402997970581055,
          25.94839859008789,
          26.45888900756836,
          24.261802673339844,
          26.188064575195312,
          22.394954681396484,
          18.769264221191406,
          29.83721351623535,
          19.830495834350586,
          24.777387619018555
         ],
         "y": [
          -14.418922424316406,
          -14.317791938781738,
          -10.17099380493164,
          -8.074896812438965,
          -13.139485359191895,
          -15.434934616088867,
          -2.77878475189209,
          25.982648849487305,
          -5.345186710357666,
          -1.0688616037368774,
          -15.094486236572266
         ],
         "z": [
          -1.9683043956756592,
          -2.7691502571105957,
          -5.588535308837891,
          -4.617979526519775,
          -3.696317434310913,
          -2.5332748889923096,
          -12.119475364685059,
          2.6472244262695312,
          -5.324204444885254,
          -13.532647132873535,
          -2.65242075920105
         ]
        }
       ],
       "layout": {
        "legend": {
         "title": {
          "text": "Cluster"
         },
         "tracegroupgap": 0
        },
        "margin": {
         "t": 60
        },
        "scene": {
         "domain": {
          "x": [
           0,
           1
          ],
          "y": [
           0,
           1
          ]
         },
         "xaxis": {
          "title": {
           "text": "x"
          }
         },
         "yaxis": {
          "title": {
           "text": "y"
          }
         },
         "zaxis": {
          "title": {
           "text": "z"
          }
         }
        },
        "template": {
         "data": {
          "bar": [
           {
            "error_x": {
             "color": "#2a3f5f"
            },
            "error_y": {
             "color": "#2a3f5f"
            },
            "marker": {
             "line": {
              "color": "#E5ECF6",
              "width": 0.5
             },
             "pattern": {
              "fillmode": "overlay",
              "size": 10,
              "solidity": 0.2
             }
            },
            "type": "bar"
           }
          ],
          "barpolar": [
           {
            "marker": {
             "line": {
              "color": "#E5ECF6",
              "width": 0.5
             },
             "pattern": {
              "fillmode": "overlay",
              "size": 10,
              "solidity": 0.2
             }
            },
            "type": "barpolar"
           }
          ],
          "carpet": [
           {
            "aaxis": {
             "endlinecolor": "#2a3f5f",
             "gridcolor": "white",
             "linecolor": "white",
             "minorgridcolor": "white",
             "startlinecolor": "#2a3f5f"
            },
            "baxis": {
             "endlinecolor": "#2a3f5f",
             "gridcolor": "white",
             "linecolor": "white",
             "minorgridcolor": "white",
             "startlinecolor": "#2a3f5f"
            },
            "type": "carpet"
           }
          ],
          "choropleth": [
           {
            "colorbar": {
             "outlinewidth": 0,
             "ticks": ""
            },
            "type": "choropleth"
           }
          ],
          "contour": [
           {
            "colorbar": {
             "outlinewidth": 0,
             "ticks": ""
            },
            "colorscale": [
             [
              0,
              "#0d0887"
             ],
             [
              0.1111111111111111,
              "#46039f"
             ],
             [
              0.2222222222222222,
              "#7201a8"
             ],
             [
              0.3333333333333333,
              "#9c179e"
             ],
             [
              0.4444444444444444,
              "#bd3786"
             ],
             [
              0.5555555555555556,
              "#d8576b"
             ],
             [
              0.6666666666666666,
              "#ed7953"
             ],
             [
              0.7777777777777778,
              "#fb9f3a"
             ],
             [
              0.8888888888888888,
              "#fdca26"
             ],
             [
              1,
              "#f0f921"
             ]
            ],
            "type": "contour"
           }
          ],
          "contourcarpet": [
           {
            "colorbar": {
             "outlinewidth": 0,
             "ticks": ""
            },
            "type": "contourcarpet"
           }
          ],
          "heatmap": [
           {
            "colorbar": {
             "outlinewidth": 0,
             "ticks": ""
            },
            "colorscale": [
             [
              0,
              "#0d0887"
             ],
             [
              0.1111111111111111,
              "#46039f"
             ],
             [
              0.2222222222222222,
              "#7201a8"
             ],
             [
              0.3333333333333333,
              "#9c179e"
             ],
             [
              0.4444444444444444,
              "#bd3786"
             ],
             [
              0.5555555555555556,
              "#d8576b"
             ],
             [
              0.6666666666666666,
              "#ed7953"
             ],
             [
              0.7777777777777778,
              "#fb9f3a"
             ],
             [
              0.8888888888888888,
              "#fdca26"
             ],
             [
              1,
              "#f0f921"
             ]
            ],
            "type": "heatmap"
           }
          ],
          "heatmapgl": [
           {
            "colorbar": {
             "outlinewidth": 0,
             "ticks": ""
            },
            "colorscale": [
             [
              0,
              "#0d0887"
             ],
             [
              0.1111111111111111,
              "#46039f"
             ],
             [
              0.2222222222222222,
              "#7201a8"
             ],
             [
              0.3333333333333333,
              "#9c179e"
             ],
             [
              0.4444444444444444,
              "#bd3786"
             ],
             [
              0.5555555555555556,
              "#d8576b"
             ],
             [
              0.6666666666666666,
              "#ed7953"
             ],
             [
              0.7777777777777778,
              "#fb9f3a"
             ],
             [
              0.8888888888888888,
              "#fdca26"
             ],
             [
              1,
              "#f0f921"
             ]
            ],
            "type": "heatmapgl"
           }
          ],
          "histogram": [
           {
            "marker": {
             "pattern": {
              "fillmode": "overlay",
              "size": 10,
              "solidity": 0.2
             }
            },
            "type": "histogram"
           }
          ],
          "histogram2d": [
           {
            "colorbar": {
             "outlinewidth": 0,
             "ticks": ""
            },
            "colorscale": [
             [
              0,
              "#0d0887"
             ],
             [
              0.1111111111111111,
              "#46039f"
             ],
             [
              0.2222222222222222,
              "#7201a8"
             ],
             [
              0.3333333333333333,
              "#9c179e"
             ],
             [
              0.4444444444444444,
              "#bd3786"
             ],
             [
              0.5555555555555556,
              "#d8576b"
             ],
             [
              0.6666666666666666,
              "#ed7953"
             ],
             [
              0.7777777777777778,
              "#fb9f3a"
             ],
             [
              0.8888888888888888,
              "#fdca26"
             ],
             [
              1,
              "#f0f921"
             ]
            ],
            "type": "histogram2d"
           }
          ],
          "histogram2dcontour": [
           {
            "colorbar": {
             "outlinewidth": 0,
             "ticks": ""
            },
            "colorscale": [
             [
              0,
              "#0d0887"
             ],
             [
              0.1111111111111111,
              "#46039f"
             ],
             [
              0.2222222222222222,
              "#7201a8"
             ],
             [
              0.3333333333333333,
              "#9c179e"
             ],
             [
              0.4444444444444444,
              "#bd3786"
             ],
             [
              0.5555555555555556,
              "#d8576b"
             ],
             [
              0.6666666666666666,
              "#ed7953"
             ],
             [
              0.7777777777777778,
              "#fb9f3a"
             ],
             [
              0.8888888888888888,
              "#fdca26"
             ],
             [
              1,
              "#f0f921"
             ]
            ],
            "type": "histogram2dcontour"
           }
          ],
          "mesh3d": [
           {
            "colorbar": {
             "outlinewidth": 0,
             "ticks": ""
            },
            "type": "mesh3d"
           }
          ],
          "parcoords": [
           {
            "line": {
             "colorbar": {
              "outlinewidth": 0,
              "ticks": ""
             }
            },
            "type": "parcoords"
           }
          ],
          "pie": [
           {
            "automargin": true,
            "type": "pie"
           }
          ],
          "scatter": [
           {
            "fillpattern": {
             "fillmode": "overlay",
             "size": 10,
             "solidity": 0.2
            },
            "type": "scatter"
           }
          ],
          "scatter3d": [
           {
            "line": {
             "colorbar": {
              "outlinewidth": 0,
              "ticks": ""
             }
            },
            "marker": {
             "colorbar": {
              "outlinewidth": 0,
              "ticks": ""
             }
            },
            "type": "scatter3d"
           }
          ],
          "scattercarpet": [
           {
            "marker": {
             "colorbar": {
              "outlinewidth": 0,
              "ticks": ""
             }
            },
            "type": "scattercarpet"
           }
          ],
          "scattergeo": [
           {
            "marker": {
             "colorbar": {
              "outlinewidth": 0,
              "ticks": ""
             }
            },
            "type": "scattergeo"
           }
          ],
          "scattergl": [
           {
            "marker": {
             "colorbar": {
              "outlinewidth": 0,
              "ticks": ""
             }
            },
            "type": "scattergl"
           }
          ],
          "scattermapbox": [
           {
            "marker": {
             "colorbar": {
              "outlinewidth": 0,
              "ticks": ""
             }
            },
            "type": "scattermapbox"
           }
          ],
          "scatterpolar": [
           {
            "marker": {
             "colorbar": {
              "outlinewidth": 0,
              "ticks": ""
             }
            },
            "type": "scatterpolar"
           }
          ],
          "scatterpolargl": [
           {
            "marker": {
             "colorbar": {
              "outlinewidth": 0,
              "ticks": ""
             }
            },
            "type": "scatterpolargl"
           }
          ],
          "scatterternary": [
           {
            "marker": {
             "colorbar": {
              "outlinewidth": 0,
              "ticks": ""
             }
            },
            "type": "scatterternary"
           }
          ],
          "surface": [
           {
            "colorbar": {
             "outlinewidth": 0,
             "ticks": ""
            },
            "colorscale": [
             [
              0,
              "#0d0887"
             ],
             [
              0.1111111111111111,
              "#46039f"
             ],
             [
              0.2222222222222222,
              "#7201a8"
             ],
             [
              0.3333333333333333,
              "#9c179e"
             ],
             [
              0.4444444444444444,
              "#bd3786"
             ],
             [
              0.5555555555555556,
              "#d8576b"
             ],
             [
              0.6666666666666666,
              "#ed7953"
             ],
             [
              0.7777777777777778,
              "#fb9f3a"
             ],
             [
              0.8888888888888888,
              "#fdca26"
             ],
             [
              1,
              "#f0f921"
             ]
            ],
            "type": "surface"
           }
          ],
          "table": [
           {
            "cells": {
             "fill": {
              "color": "#EBF0F8"
             },
             "line": {
              "color": "white"
             }
            },
            "header": {
             "fill": {
              "color": "#C8D4E3"
             },
             "line": {
              "color": "white"
             }
            },
            "type": "table"
           }
          ]
         },
         "layout": {
          "annotationdefaults": {
           "arrowcolor": "#2a3f5f",
           "arrowhead": 0,
           "arrowwidth": 1
          },
          "autotypenumbers": "strict",
          "coloraxis": {
           "colorbar": {
            "outlinewidth": 0,
            "ticks": ""
           }
          },
          "colorscale": {
           "diverging": [
            [
             0,
             "#8e0152"
            ],
            [
             0.1,
             "#c51b7d"
            ],
            [
             0.2,
             "#de77ae"
            ],
            [
             0.3,
             "#f1b6da"
            ],
            [
             0.4,
             "#fde0ef"
            ],
            [
             0.5,
             "#f7f7f7"
            ],
            [
             0.6,
             "#e6f5d0"
            ],
            [
             0.7,
             "#b8e186"
            ],
            [
             0.8,
             "#7fbc41"
            ],
            [
             0.9,
             "#4d9221"
            ],
            [
             1,
             "#276419"
            ]
           ],
           "sequential": [
            [
             0,
             "#0d0887"
            ],
            [
             0.1111111111111111,
             "#46039f"
            ],
            [
             0.2222222222222222,
             "#7201a8"
            ],
            [
             0.3333333333333333,
             "#9c179e"
            ],
            [
             0.4444444444444444,
             "#bd3786"
            ],
            [
             0.5555555555555556,
             "#d8576b"
            ],
            [
             0.6666666666666666,
             "#ed7953"
            ],
            [
             0.7777777777777778,
             "#fb9f3a"
            ],
            [
             0.8888888888888888,
             "#fdca26"
            ],
            [
             1,
             "#f0f921"
            ]
           ],
           "sequentialminus": [
            [
             0,
             "#0d0887"
            ],
            [
             0.1111111111111111,
             "#46039f"
            ],
            [
             0.2222222222222222,
             "#7201a8"
            ],
            [
             0.3333333333333333,
             "#9c179e"
            ],
            [
             0.4444444444444444,
             "#bd3786"
            ],
            [
             0.5555555555555556,
             "#d8576b"
            ],
            [
             0.6666666666666666,
             "#ed7953"
            ],
            [
             0.7777777777777778,
             "#fb9f3a"
            ],
            [
             0.8888888888888888,
             "#fdca26"
            ],
            [
             1,
             "#f0f921"
            ]
           ]
          },
          "colorway": [
           "#636efa",
           "#EF553B",
           "#00cc96",
           "#ab63fa",
           "#FFA15A",
           "#19d3f3",
           "#FF6692",
           "#B6E880",
           "#FF97FF",
           "#FECB52"
          ],
          "font": {
           "color": "#2a3f5f"
          },
          "geo": {
           "bgcolor": "white",
           "lakecolor": "white",
           "landcolor": "#E5ECF6",
           "showlakes": true,
           "showland": true,
           "subunitcolor": "white"
          },
          "hoverlabel": {
           "align": "left"
          },
          "hovermode": "closest",
          "mapbox": {
           "style": "light"
          },
          "paper_bgcolor": "white",
          "plot_bgcolor": "#E5ECF6",
          "polar": {
           "angularaxis": {
            "gridcolor": "white",
            "linecolor": "white",
            "ticks": ""
           },
           "bgcolor": "#E5ECF6",
           "radialaxis": {
            "gridcolor": "white",
            "linecolor": "white",
            "ticks": ""
           }
          },
          "scene": {
           "xaxis": {
            "backgroundcolor": "#E5ECF6",
            "gridcolor": "white",
            "gridwidth": 2,
            "linecolor": "white",
            "showbackground": true,
            "ticks": "",
            "zerolinecolor": "white"
           },
           "yaxis": {
            "backgroundcolor": "#E5ECF6",
            "gridcolor": "white",
            "gridwidth": 2,
            "linecolor": "white",
            "showbackground": true,
            "ticks": "",
            "zerolinecolor": "white"
           },
           "zaxis": {
            "backgroundcolor": "#E5ECF6",
            "gridcolor": "white",
            "gridwidth": 2,
            "linecolor": "white",
            "showbackground": true,
            "ticks": "",
            "zerolinecolor": "white"
           }
          },
          "shapedefaults": {
           "line": {
            "color": "#2a3f5f"
           }
          },
          "ternary": {
           "aaxis": {
            "gridcolor": "white",
            "linecolor": "white",
            "ticks": ""
           },
           "baxis": {
            "gridcolor": "white",
            "linecolor": "white",
            "ticks": ""
           },
           "bgcolor": "#E5ECF6",
           "caxis": {
            "gridcolor": "white",
            "linecolor": "white",
            "ticks": ""
           }
          },
          "title": {
           "x": 0.05
          },
          "xaxis": {
           "automargin": true,
           "gridcolor": "white",
           "linecolor": "white",
           "ticks": "",
           "title": {
            "standoff": 15
           },
           "zerolinecolor": "white",
           "zerolinewidth": 2
          },
          "yaxis": {
           "automargin": true,
           "gridcolor": "white",
           "linecolor": "white",
           "ticks": "",
           "title": {
            "standoff": 15
           },
           "zerolinecolor": "white",
           "zerolinewidth": 2
          }
         }
        },
        "title": {
         "text": "Embedding GPT with TSNE reduction"
        },
        "xaxis": {
         "title": {
          "text": "x"
         }
        },
        "yaxis": {
         "title": {
          "text": "y"
         }
        }
       }
      }
     },
     "metadata": {},
     "output_type": "display_data"
    }
   ],
   "source": [
    "e.plotEmbedding(embeddingType=\"GPT\", dim=3, reduction=\"TSNE\", y =\"SVC\")"
   ]
  },
  {
   "cell_type": "code",
   "execution_count": 59,
   "metadata": {},
   "outputs": [],
   "source": [
    "import pandas as pd"
   ]
  },
  {
   "cell_type": "code",
   "execution_count": 68,
   "metadata": {},
   "outputs": [],
   "source": [
    "df = pd.DataFrame(columns=[\"word\", \"y\", \"yPredSVC\"])\n",
    "df[\"word\"] = e.y.keys()\n",
    "df[\"y\"] = e.y.values()\n",
    "df[\"yPredSVC\"] = e.yPred[\"SVC\"]"
   ]
  },
  {
   "cell_type": "code",
   "execution_count": 70,
   "metadata": {},
   "outputs": [
    {
     "data": {
      "text/html": [
       "<div>\n",
       "<style scoped>\n",
       "    .dataframe tbody tr th:only-of-type {\n",
       "        vertical-align: middle;\n",
       "    }\n",
       "\n",
       "    .dataframe tbody tr th {\n",
       "        vertical-align: top;\n",
       "    }\n",
       "\n",
       "    .dataframe thead th {\n",
       "        text-align: right;\n",
       "    }\n",
       "</style>\n",
       "<table border=\"1\" class=\"dataframe\">\n",
       "  <thead>\n",
       "    <tr style=\"text-align: right;\">\n",
       "      <th></th>\n",
       "      <th>word</th>\n",
       "      <th>y</th>\n",
       "      <th>yPredSVC</th>\n",
       "    </tr>\n",
       "  </thead>\n",
       "  <tbody>\n",
       "    <tr>\n",
       "      <th>0</th>\n",
       "      <td>ai</td>\n",
       "      <td>AnythingAI</td>\n",
       "      <td>Organization or Person</td>\n",
       "    </tr>\n",
       "    <tr>\n",
       "      <th>1</th>\n",
       "      <td>regulation</td>\n",
       "      <td>Regulation</td>\n",
       "      <td>Requirement</td>\n",
       "    </tr>\n",
       "    <tr>\n",
       "      <th>2</th>\n",
       "      <td>article</td>\n",
       "      <td>Law text</td>\n",
       "      <td>Organization or Person</td>\n",
       "    </tr>\n",
       "    <tr>\n",
       "      <th>6</th>\n",
       "      <td>member</td>\n",
       "      <td>EU Country</td>\n",
       "      <td>Organization or Person</td>\n",
       "    </tr>\n",
       "    <tr>\n",
       "      <th>7</th>\n",
       "      <td>directive</td>\n",
       "      <td>Law</td>\n",
       "      <td>Requirement</td>\n",
       "    </tr>\n",
       "    <tr>\n",
       "      <th>12</th>\n",
       "      <td>union law</td>\n",
       "      <td>Law text</td>\n",
       "      <td>Regulator</td>\n",
       "    </tr>\n",
       "    <tr>\n",
       "      <th>14</th>\n",
       "      <td>high-risk ai</td>\n",
       "      <td>High risk AI System</td>\n",
       "      <td>Risk</td>\n",
       "    </tr>\n",
       "    <tr>\n",
       "      <th>17</th>\n",
       "      <td>remote biometric identification systems</td>\n",
       "      <td>AI System Approach</td>\n",
       "      <td>AI Domain</td>\n",
       "    </tr>\n",
       "    <tr>\n",
       "      <th>18</th>\n",
       "      <td>artificial intelligence</td>\n",
       "      <td>AnythingAI</td>\n",
       "      <td>AI System Development Process</td>\n",
       "    </tr>\n",
       "    <tr>\n",
       "      <th>19</th>\n",
       "      <td>such systems</td>\n",
       "      <td>AI System</td>\n",
       "      <td>AI System Development Process</td>\n",
       "    </tr>\n",
       "    <tr>\n",
       "      <th>22</th>\n",
       "      <td>title</td>\n",
       "      <td>AI Domain</td>\n",
       "      <td>Requirement</td>\n",
       "    </tr>\n",
       "    <tr>\n",
       "      <th>24</th>\n",
       "      <td>market surveillance</td>\n",
       "      <td>Regulation</td>\n",
       "      <td>AI Domain</td>\n",
       "    </tr>\n",
       "    <tr>\n",
       "      <th>26</th>\n",
       "      <td>provider</td>\n",
       "      <td>Provider</td>\n",
       "      <td>Organization or Person</td>\n",
       "    </tr>\n",
       "    <tr>\n",
       "      <th>27</th>\n",
       "      <td>internal market</td>\n",
       "      <td>Market</td>\n",
       "      <td>AI Domain</td>\n",
       "    </tr>\n",
       "    <tr>\n",
       "      <th>28</th>\n",
       "      <td>criminal offences</td>\n",
       "      <td>System risk</td>\n",
       "      <td>Risk</td>\n",
       "    </tr>\n",
       "    <tr>\n",
       "      <th>30</th>\n",
       "      <td>union harmonisation legislation</td>\n",
       "      <td>Law text</td>\n",
       "      <td>Regulation</td>\n",
       "    </tr>\n",
       "    <tr>\n",
       "      <th>31</th>\n",
       "      <td>financial services legislation</td>\n",
       "      <td>Law text</td>\n",
       "      <td>Requirement</td>\n",
       "    </tr>\n",
       "    <tr>\n",
       "      <th>33</th>\n",
       "      <td>free movement</td>\n",
       "      <td>Right</td>\n",
       "      <td>Requirement</td>\n",
       "    </tr>\n",
       "    <tr>\n",
       "      <th>34</th>\n",
       "      <td>framework</td>\n",
       "      <td>Law text</td>\n",
       "      <td>AI System Development Process</td>\n",
       "    </tr>\n",
       "    <tr>\n",
       "      <th>35</th>\n",
       "      <td>decision</td>\n",
       "      <td>AI System Approach</td>\n",
       "      <td>Organization or Person</td>\n",
       "    </tr>\n",
       "    <tr>\n",
       "      <th>37</th>\n",
       "      <td>high risk</td>\n",
       "      <td>High risk AI System</td>\n",
       "      <td>Risk</td>\n",
       "    </tr>\n",
       "    <tr>\n",
       "      <th>39</th>\n",
       "      <td>quality management system</td>\n",
       "      <td>AI System Quality measure</td>\n",
       "      <td>Requirement</td>\n",
       "    </tr>\n",
       "    <tr>\n",
       "      <th>40</th>\n",
       "      <td>remote biometric identification</td>\n",
       "      <td>AI System Approach</td>\n",
       "      <td>AI Domain</td>\n",
       "    </tr>\n",
       "    <tr>\n",
       "      <th>44</th>\n",
       "      <td>risk management system</td>\n",
       "      <td>AI Domain</td>\n",
       "      <td>Requirement</td>\n",
       "    </tr>\n",
       "    <tr>\n",
       "      <th>46</th>\n",
       "      <td>national security</td>\n",
       "      <td>Regulator</td>\n",
       "      <td>AI Domain</td>\n",
       "    </tr>\n",
       "    <tr>\n",
       "      <th>49</th>\n",
       "      <td>data protection</td>\n",
       "      <td>Right</td>\n",
       "      <td>Data</td>\n",
       "    </tr>\n",
       "    <tr>\n",
       "      <th>53</th>\n",
       "      <td>real world conditions</td>\n",
       "      <td>Poisoning risk</td>\n",
       "      <td>Requirement</td>\n",
       "    </tr>\n",
       "    <tr>\n",
       "      <th>56</th>\n",
       "      <td>union market</td>\n",
       "      <td>Market</td>\n",
       "      <td>Organization or Person</td>\n",
       "    </tr>\n",
       "    <tr>\n",
       "      <th>57</th>\n",
       "      <td>critical infrastructure</td>\n",
       "      <td>System risk</td>\n",
       "      <td>Organization or Person</td>\n",
       "    </tr>\n",
       "    <tr>\n",
       "      <th>58</th>\n",
       "      <td>training</td>\n",
       "      <td>AI System Approach</td>\n",
       "      <td>AI System Development Process</td>\n",
       "    </tr>\n",
       "    <tr>\n",
       "      <th>59</th>\n",
       "      <td>product manufacturer</td>\n",
       "      <td>Provider</td>\n",
       "      <td>Organization or Person</td>\n",
       "    </tr>\n",
       "    <tr>\n",
       "      <th>60</th>\n",
       "      <td>relevant union</td>\n",
       "      <td>Regulator</td>\n",
       "      <td>Organization or Person</td>\n",
       "    </tr>\n",
       "    <tr>\n",
       "      <th>62</th>\n",
       "      <td>credit institutions</td>\n",
       "      <td>User</td>\n",
       "      <td>Organization or Person</td>\n",
       "    </tr>\n",
       "    <tr>\n",
       "      <th>63</th>\n",
       "      <td>corrective actions</td>\n",
       "      <td>AI System Development Process</td>\n",
       "      <td>Requirement</td>\n",
       "    </tr>\n",
       "    <tr>\n",
       "      <th>66</th>\n",
       "      <td>union institutions</td>\n",
       "      <td>Regulator</td>\n",
       "      <td>Organization or Person</td>\n",
       "    </tr>\n",
       "    <tr>\n",
       "      <th>67</th>\n",
       "      <td>relevant obligations</td>\n",
       "      <td>Law</td>\n",
       "      <td>Requirement</td>\n",
       "    </tr>\n",
       "    <tr>\n",
       "      <th>70</th>\n",
       "      <td>own use</td>\n",
       "      <td>AI Domain</td>\n",
       "      <td>Organization or Person</td>\n",
       "    </tr>\n",
       "    <tr>\n",
       "      <th>71</th>\n",
       "      <td>functional setting</td>\n",
       "      <td>AnythingAI</td>\n",
       "      <td>Requirement</td>\n",
       "    </tr>\n",
       "    <tr>\n",
       "      <th>72</th>\n",
       "      <td>experimentation facilities</td>\n",
       "      <td>AI System Quality measure</td>\n",
       "      <td>Organization or Person</td>\n",
       "    </tr>\n",
       "    <tr>\n",
       "      <th>73</th>\n",
       "      <td>user</td>\n",
       "      <td>User</td>\n",
       "      <td>Organization or Person</td>\n",
       "    </tr>\n",
       "  </tbody>\n",
       "</table>\n",
       "</div>"
      ],
      "text/plain": [
       "                                       word                              y  \\\n",
       "0                                        ai                     AnythingAI   \n",
       "1                                regulation                     Regulation   \n",
       "2                                   article                       Law text   \n",
       "6                                    member                     EU Country   \n",
       "7                                 directive                            Law   \n",
       "12                                union law                       Law text   \n",
       "14                             high-risk ai            High risk AI System   \n",
       "17  remote biometric identification systems             AI System Approach   \n",
       "18                  artificial intelligence                     AnythingAI   \n",
       "19                             such systems                      AI System   \n",
       "22                                    title                      AI Domain   \n",
       "24                      market surveillance                     Regulation   \n",
       "26                                 provider                       Provider   \n",
       "27                          internal market                         Market   \n",
       "28                        criminal offences                    System risk   \n",
       "30          union harmonisation legislation                       Law text   \n",
       "31           financial services legislation                       Law text   \n",
       "33                            free movement                          Right   \n",
       "34                                framework                       Law text   \n",
       "35                                 decision             AI System Approach   \n",
       "37                                high risk            High risk AI System   \n",
       "39                quality management system      AI System Quality measure   \n",
       "40          remote biometric identification             AI System Approach   \n",
       "44                   risk management system                      AI Domain   \n",
       "46                        national security                      Regulator   \n",
       "49                          data protection                          Right   \n",
       "53                    real world conditions                 Poisoning risk   \n",
       "56                             union market                         Market   \n",
       "57                  critical infrastructure                    System risk   \n",
       "58                                 training             AI System Approach   \n",
       "59                     product manufacturer                       Provider   \n",
       "60                           relevant union                      Regulator   \n",
       "62                      credit institutions                           User   \n",
       "63                       corrective actions  AI System Development Process   \n",
       "66                       union institutions                      Regulator   \n",
       "67                     relevant obligations                            Law   \n",
       "70                                  own use                      AI Domain   \n",
       "71                       functional setting                     AnythingAI   \n",
       "72               experimentation facilities      AI System Quality measure   \n",
       "73                                     user                           User   \n",
       "\n",
       "                         yPredSVC  \n",
       "0          Organization or Person  \n",
       "1                     Requirement  \n",
       "2          Organization or Person  \n",
       "6          Organization or Person  \n",
       "7                     Requirement  \n",
       "12                      Regulator  \n",
       "14                           Risk  \n",
       "17                      AI Domain  \n",
       "18  AI System Development Process  \n",
       "19  AI System Development Process  \n",
       "22                    Requirement  \n",
       "24                      AI Domain  \n",
       "26         Organization or Person  \n",
       "27                      AI Domain  \n",
       "28                           Risk  \n",
       "30                     Regulation  \n",
       "31                    Requirement  \n",
       "33                    Requirement  \n",
       "34  AI System Development Process  \n",
       "35         Organization or Person  \n",
       "37                           Risk  \n",
       "39                    Requirement  \n",
       "40                      AI Domain  \n",
       "44                    Requirement  \n",
       "46                      AI Domain  \n",
       "49                           Data  \n",
       "53                    Requirement  \n",
       "56         Organization or Person  \n",
       "57         Organization or Person  \n",
       "58  AI System Development Process  \n",
       "59         Organization or Person  \n",
       "60         Organization or Person  \n",
       "62         Organization or Person  \n",
       "63                    Requirement  \n",
       "66         Organization or Person  \n",
       "67                    Requirement  \n",
       "70         Organization or Person  \n",
       "71                    Requirement  \n",
       "72         Organization or Person  \n",
       "73         Organization or Person  "
      ]
     },
     "execution_count": 70,
     "metadata": {},
     "output_type": "execute_result"
    }
   ],
   "source": [
    "df[df[\"y\"] != df[\"yPredSVC\"]].head(40)"
   ]
  },
  {
   "cell_type": "code",
   "execution_count": 136,
   "metadata": {},
   "outputs": [
    {
     "name": "stdout",
     "output_type": "stream",
     "text": [
      "HDBSCAN model computed : self.model[\"HDBSCAN\"]\n",
      "HDBSCAN prediction computed : self.y_pred[\"HDBSCAN\"]\n"
     ]
    }
   ],
   "source": [
    "e.computeHDBSCAN(embeddingType=\"GPT\", min_cluster_size=5, min_samples=2)"
   ]
  },
  {
   "cell_type": "code",
   "execution_count": 138,
   "metadata": {},
   "outputs": [
    {
     "data": {
      "application/vnd.plotly.v1+json": {
       "config": {
        "plotlyServerURL": "https://plot.ly"
       },
       "data": [
        {
         "hovertemplate": "<b>%{hovertext}</b><br><br>color=noise<br>x=%{x}<br>y=%{y}<extra></extra>",
         "hovertext": [
          "ai",
          "article",
          "eu",
          "member",
          "directive",
          "personal data",
          "high-risk ai",
          "technical documentation",
          "council",
          "title",
          "legal person",
          "provider",
          "internal market",
          "free movement",
          "framework",
          "decision",
          "general purpose",
          "input data",
          "medical devices",
          "real world conditions",
          "appropriate safeguards",
          "critical infrastructure",
          "product manufacturer",
          "internal governance",
          "corrective actions",
          "knowledge base",
          "own use",
          "functional setting",
          "experimentation facilities",
          "user",
          "necessary information",
          "public security",
          "testing",
          "obligation",
          "legal framework",
          "application problem",
          "judicial cooperation",
          "human dignity",
          "asylum authorities",
          "ireland",
          "fair trial",
          "common rules",
          "annex",
          "historical patterns",
          "contractual relationships",
          "vulnerable position",
          "similar tools",
          "common specifications",
          "machinery regulation",
          "prospective providers",
          "technical specifications",
          "legal acts",
          "text",
          "national rules",
          "public services",
          "consumer protection",
          "defective products",
          "machine and/or",
          "machine learning and/or logic-",
          "system interacts",
          "optimisation methods",
          "logic",
          "reference data repository",
          "video footage",
          "intermediary service providers",
          "relevant operators",
          "transparency obligations",
          "ai-enabled",
          "free choices",
          "private life",
          "custodial sentence",
          "detention order",
          "reference database",
          "independent administrative authority",
          "protocol",
          "denmark",
          "such output",
          "physical integrity",
          "ethnic origins",
          "sexual orientation",
          "recommendation",
          "continuous iterative process",
          "entire lifecycle",
          "appropriate statistical properties",
          "fail-safe plans",
          "training data",
          "common framework",
          "personal non-professional activity",
          "data controllers",
          "medium enterprises",
          "sme",
          "ai-on",
          "development process",
          "market",
          "supply chain",
          "chapter",
          "trade name",
          "trade mark",
          "distributor",
          "regulation of the european parliament and of the council laying down harmonised rules on artificial intelligence",
          "and amending certain union legislative acts",
          "legislative act",
          "committee",
          "regions",
          "bank",
          "ordinary legislative procedure",
          "ecb",
          "ai-based",
          "uniform protection",
          "competitive advantages",
          "generate risks",
          "high-level expert",
          "guideline",
          "global leader",
          "ethical principles",
          "ethical aspects",
          "possible damages pursuant",
          "administrative provisions",
          "various operators",
          "national labour law",
          "rights",
          "simpler software systems",
          "regulation ai",
          "system functions",
          "step-by-step instructions",
          "reinforcement learning",
          "deep learning",
          "neural networks",
          "statistical techniques",
          "instance logistic regression",
          "bayesian",
          "approaches focus",
          "logical reasoning capabilities",
          "inference engine",
          "knowledge graphs",
          "knowledge bases",
          "deductive engines",
          "expert systems",
          "ensure uniform conditions",
          "regards machine learning approaches",
          "enforcement directive",
          "large number",
          "real-time",
          "professional activities",
          "security restrictions",
          "clear manifestation",
          "relevant authority",
          "factual possibility",
          "factory premises",
          "relevant employees",
          "service providers",
          "non-discriminatory manner",
          "certain services",
          "process data",
          "foreign partners",
          "recipient member",
          "common union defence policy",
          "public international law",
          "appropriate legal framework",
          "lethal force",
          "defence activities",
          "humanitarian purposes",
          "civilian purposes",
          "military activities",
          "respect freedom",
          "regards product",
          "research activity",
          "image/speech recognition",
          "specific characteristics",
          "regards health",
          "common normative standards",
          "international trade commitments",
          "powerful tools",
          "manipulative techniques",
          "subliminal techniques",
          "autonomy",
          "virtual reality",
          "specific group",
          "extreme poverty",
          "religious minorities",
          "distortion results",
          "factors external",
          "unfair commercial practices",
          "financial harms",
          "exploitative practices",
          "mental disease",
          "physical rehabilitation",
          "applicable medical standards",
          "harmful manipulative",
          "private actors",
          "discriminatory outcomes",
          "certain groups",
          "multiple contexts",
          "social score",
          "unfavourable treatment",
          "social contexts",
          "lawful evaluation practices",
          "specific purpose",
          "constant surveillance",
          "potential victims",
          "certain threats",
          "terrorist attack",
          "maximum period",
          "such threshold",
          "identity checks",
          "identity check",
          "medical condition",
          "european arrest warrant",
          "specific authorisation",
          "exhaustive framework",
          "lex specialis",
          "specific framework",
          "articles applies",
          "kingdom",
          "police cooperation",
          "significant harmful impact",
          "potential restriction",
          "autonomous robots",
          "complex environments",
          "health sector",
          "sophisticated diagnostics systems",
          "specific rights",
          "child",
          "environmental protection",
          "regulatory specificities",
          "enforcement mechanisms",
          "marine equipment",
          "rail system",
          "type-approval requirements",
          "vehicle occupants",
          "vulnerable road users",
          "protective systems",
          "high-risk products",
          "future amendments",
          "discriminatory effects",
          "critical digital infrastructure",
          "critical entities",
          "large scale",
          "economic activities",
          "critical digital infrastrucure",
          "vocational training",
          "vocational training institutions",
          "learning outcomes",
          "workers management",
          "task allocation",
          "programme",
          "credit score",
          "essential services",
          "telecommunication services",
          "discriminatory impacts",
          "available alternatives",
          "creditworthiness assessment",
          "small entreprises",
          "social protection",
          "public administration",
          "response services",
          "critical situations",
          "risk assessment",
          "health insurance",
          "small enterprises",
          "own insurance products",
          "liberty",
          "adequate requirements",
          "unjust manner",
          "public trust",
          "ensure accountability",
          "individual risk assessments",
          "personality traits",
          "customs authorities",
          "information pursuant",
          "non-discriminatory nature",
          "relevant legislation",
          "individual freedoms",
          "potential biases",
          "administrative activities",
          "administrative tasks",
          "applicable acts",
          "legal ground",
          "provider identifies",
          "technical feasibility",
          "possible shortcomings",
          "data minimisation",
          "certain actors",
          "respective fields",
          "european common data spaces",
          "european health data space",
          "health data",
          "trustworthy manner",
          "general characteristics",
          "validation processes",
          "instance output data",
          "systems incomprehensible",
          "system output",
          "technical robustness",
          "unexpected situations",
          "certain anomalies",
          "erroneous decisions",
          "crucial role",
          "security properties",
          "cyberattacks",
          "adversarial attacks",
          "sound quality management system",
          "person modifies",
          "final product complies",
          "contact person",
          "defective high-risk",
          "individual decision-making",
          "harmonised",
          "effective implementation",
          "exceptional fall",
          "technical complexity",
          "possible duplication",
          "specific logic",
          "safe integration",
          "medical device framework",
          "initial phase",
          "general rule",
          "own responsibility",
          "electronic notification tool",
          "software architecture",
          "rapid availability",
          "commercial property",
          "such database",
          "full functionality",
          "generate content",
          "specific transparency obligations",
          "vulnerable groups",
          "hair colour",
          "eye colour",
          "ethnic origin",
          "personal preferences",
          "political orientation",
          "artificial origin",
          "artificial intelligence regulatory sandboxes",
          "legal uncertainty",
          "regulatory learning",
          "experimentation labs",
          "relevant stakeholder",
          "civil society organisations",
          "sufficient guarantees",
          "consent",
          "relevant data protection law",
          "translation",
          "mandatory documentation",
          "ensure proportionality",
          "costly obligations",
          "expert laboratories",
          "reference laboratories",
          "medical devices pursuant",
          "relevant stakeholders",
          "such representatives",
          "administrative cooperation group",
          "market evaluations",
          "temporary sub-groups",
          "specific issues",
          "experts groups",
          "adequate enforcement",
          "relevant experts",
          "enforcement powers",
          "surveillance activities",
          "transparency requirements",
          "ex post market surveillance activities",
          "supervisory mechanisms",
          "prudential supervision",
          "investment firms",
          "insurance intermediaries",
          "equal treatment",
          "environmental sustainability",
          "development teams",
          "sectorial nature",
          "data access infrastructure",
          "safety net",
          "ensure trustful",
          "particular electronic commerce",
          "open source software",
          "speech recognition",
          "video generation",
          "pattern detection",
          "commercial activity",
          "necessary procedures",
          "legal act",
          "measures pursuant",
          "learnable parameters",
          "non-learnable parameters",
          "separate dataset",
          "independent evaluation",
          "specific technical processing",
          "facial images",
          "dactyloscopic data",
          "emotion recognition system",
          "psychological states",
          "public powers",
          "proportionate safeguards",
          "requirements for high-risk ai systems article",
          "risk",
          "residual risk",
          "overall residual risk",
          "probabilistic thresholds",
          "data",
          "data governance",
          "relevant design choices",
          "data collection processes",
          "relevant data preparation processing operations",
          "possible biases",
          "possible data gaps",
          "up-to date",
          "transparency",
          "care measures",
          "automation bias",
          "output",
          "interpretation tools",
          "separate verification",
          "regards errors",
          "technical redundancy solutions",
          "adversarial examples",
          "model flaws",
          "design control",
          "design verification",
          "data filtration",
          "organisation",
          "authority access"
         ],
         "legendgroup": "noise",
         "marker": {
          "color": "#636efa",
          "symbol": "circle"
         },
         "mode": "markers",
         "name": "noise",
         "orientation": "v",
         "showlegend": true,
         "type": "scatter",
         "x": [
          -0.0633929297183049,
          -0.0195035674652605,
          0.06395236295484791,
          -0.02043004349953755,
          0.01057200714193956,
          -0.08091549038310979,
          -0.14588644341012255,
          -0.0648316548019006,
          0.0965555164394388,
          -0.02843604814479083,
          0.11505825584785684,
          0.005312083289849602,
          0.042119318792561096,
          0.04169254885305333,
          -0.05611632841023744,
          -0.017937947658957683,
          -0.01124409405928153,
          -0.12328773491208986,
          -0.0902113675441258,
          -0.06835327921334321,
          0.00826576115497967,
          -0.013704851140149691,
          -0.037489616824452066,
          0.09150490528554923,
          0.013468156552700061,
          -0.08559226688399499,
          0.00940522823892682,
          -0.04167646206791103,
          -0.06613288111473234,
          -0.046551974142893665,
          -0.054251558482052264,
          0.06346100168270948,
          -0.09160311646572765,
          0.0832329520427328,
          0.12860263439379194,
          -0.07292472308539219,
          0.17263813071968176,
          0.005615606188827963,
          0.16026711582874498,
          0.024080094645556202,
          0.060561322500076495,
          0.03715604101943752,
          0.07603278913441483,
          -0.08027169264991153,
          0.0601842269048007,
          -0.04615785440406092,
          -0.09347730831017098,
          -0.010967526383603052,
          0.07638692843566394,
          0.009304727557441494,
          -0.06660754701282293,
          0.16034885701756352,
          -0.07288158239442034,
          0.12057026363215888,
          0.011186118167210378,
          0.0714714632345239,
          -0.059017211858163734,
          -0.11987292375403708,
          -0.21407676155032365,
          -0.0698210926682586,
          -0.14014294158016624,
          -0.10297352635650872,
          -0.07191624795774881,
          -0.07499297298613132,
          0.045866829623136804,
          -0.007912976429689923,
          0.10169863417812602,
          -0.07483015151637244,
          -0.03648181723605702,
          0.007835430283746786,
          0.08637945149292246,
          0.11100063122977566,
          -0.0756938447750388,
          0.16174712117464954,
          -0.010075841167080065,
          0.01770611264387827,
          -0.11263224046625285,
          -0.049025522742404466,
          -0.027782807179490145,
          -0.051107674071099514,
          -0.056183287594660444,
          -0.13192580169566506,
          -0.051349893250752385,
          -0.1119014455057082,
          -0.06161338701485884,
          -0.1714164876059541,
          -0.03111956438593043,
          0.003269051626762663,
          -0.04111157183373523,
          0.000258638679774984,
          -0.0489392761734562,
          -0.05710973793132033,
          -0.10022534111643415,
          -0.03028792514457826,
          -0.03318997291840139,
          -0.006361307556076185,
          -0.00475039646311035,
          0.0058655832458994065,
          -0.0070419222906437815,
          0.09378266948963183,
          0.21129790633898213,
          0.17818738008996196,
          0.058030594242207335,
          0.009846232583453412,
          0.009075645932538437,
          0.13351661944511523,
          0.02618601098859234,
          -0.06249707926214119,
          0.06303208680302358,
          -0.06193655183089337,
          -0.15717218569613847,
          -0.030398274000834734,
          -0.028359813139687343,
          0.032992835748396926,
          0.03346003396577339,
          0.016488184851982595,
          0.04888020961809602,
          0.14984468876792345,
          -0.08787591608797421,
          0.1952592449029789,
          0.015355621000718495,
          -0.13323691945449262,
          0.05604076976686539,
          -0.03658502589963733,
          -0.08931342424532689,
          -0.1314139328850309,
          -0.18650545063021648,
          -0.11796432294194614,
          -0.13918340146105174,
          -0.15390182117098178,
          -0.1400642988058399,
          -0.1010402720828525,
          -0.11131487525333963,
          -0.1272096081314663,
          -0.14085263497344938,
          -0.09295534894243929,
          -0.11571109913026735,
          -0.10836731306284268,
          0.04423859963863667,
          -0.17283786550865107,
          0.19441145318592698,
          -0.09960363728828008,
          -0.10593626188304453,
          0.04332924717915453,
          0.040886645416773545,
          -0.07043070137334655,
          0.09782900475789486,
          -0.04325031777119323,
          -0.002246930854355503,
          0.0009440332695022185,
          0.03243518563825797,
          0.04998081776564265,
          0.04584555592807328,
          -0.12799252355245153,
          0.08334212667928204,
          -0.01839014193402005,
          0.14672692473251814,
          0.21038511619839448,
          0.13460549983292677,
          0.020195324967169494,
          0.03831332617308741,
          0.07197421103856198,
          0.04270675167435354,
          0.041070129230552914,
          0.039529792453444325,
          -0.055955579740653676,
          -0.06239749967972694,
          -0.16829280830767301,
          -0.0685794897117889,
          -0.013903724429454298,
          0.032620262922961614,
          0.1441408742073317,
          -0.09420095505571378,
          -0.11529203427580235,
          -0.14063531800986,
          -0.010035031431793543,
          -0.14103842729242091,
          -0.025673013717317384,
          -0.03214818100385375,
          0.05839790483237498,
          -0.14012390052387075,
          -0.05023322479563338,
          0.0839777256333533,
          0.032178465783027445,
          -0.026310817583859558,
          -0.07024816114758624,
          -0.06494774933944944,
          0.04673909055553325,
          -0.06252081646509515,
          0.011657279339976135,
          -0.03028597708957132,
          0.017108526571141598,
          -0.06274364941023942,
          -0.09565550066747103,
          -0.016355784028458456,
          -0.03861077377818148,
          0.07202649490495627,
          -0.0032876464202193263,
          -0.023706062366977455,
          -0.0245603746104068,
          -0.023502495713058062,
          0.01637653816964255,
          0.008889720914019917,
          -0.08512698406293492,
          -0.003868463143864724,
          -0.005644226810854427,
          -0.0394623753170887,
          0.1511264652275245,
          0.13231968043525538,
          -0.022075134788538155,
          0.01629647059958766,
          0.009227887324681603,
          -0.015557139240831757,
          0.03339905192641333,
          0.143466542891597,
          -0.011922130481018534,
          0.03195413145675279,
          -0.10493631887242733,
          -0.11785518142205578,
          0.04569353341942806,
          -0.16425367738178118,
          0.09962782144073784,
          -0.059289671388088584,
          0.040766227143108805,
          0.01945807403744233,
          0.11344081086569983,
          -0.028331099320248843,
          -0.014860180123946956,
          0.05071059614080514,
          -0.012200879648344895,
          0.010364735318709533,
          -0.04954463067632756,
          -0.08856545562704282,
          0.04791287508245991,
          -0.030592748833014684,
          -0.07551992146576553,
          0.0020330795461859256,
          -0.061872984726897395,
          0.04426150207774461,
          -0.09625535571419461,
          -0.0075888519371900744,
          0.0468478120734251,
          -0.08268611309309187,
          0.051294259802615566,
          -0.05585636417413588,
          -0.017333218704212255,
          -0.06607439083973433,
          0.05798517596949277,
          0.005683509457282068,
          0.015150372779900027,
          -0.06815092876154644,
          -0.010362338603021175,
          0.014343712055958205,
          0.05463480767289599,
          0.17298129997368528,
          -0.047590553955537934,
          -0.0738831414915015,
          -0.045864438790615684,
          0.03668959882862729,
          0.02304671976525582,
          0.011273642370763068,
          0.038005155276974886,
          0.013621254790054996,
          0.057004256359026236,
          0.07402633122360197,
          0.04993799844115864,
          -0.014211898373447699,
          -0.10839182269867806,
          0.18537310640000682,
          0.04742079520226041,
          0.04194010025924332,
          0.1836071616754354,
          0.08416202056270725,
          -0.11417981759932674,
          0.05001769494760207,
          0.006373192684412173,
          0.14171156456522851,
          0.12016800291046349,
          0.005350258887500499,
          -0.08238459136320192,
          -0.05615507206198564,
          -0.10223460535958069,
          0.001085204385716566,
          -0.013313196983297354,
          0.009438074212608952,
          -0.014313376176286797,
          -0.11763661090135506,
          0.0007506967827165676,
          -0.06035527507355437,
          -0.050709576324340755,
          -0.16473234631759248,
          -0.09270705131021342,
          -0.09573234749050454,
          -0.12814695464703815,
          -0.07585416907475946,
          -0.07033010693988626,
          -0.028066396736181914,
          0.006832665983960751,
          0.01761468695867728,
          -0.07245918800818699,
          -0.006260141528214812,
          -0.08174533397673467,
          -0.041146192004833104,
          -0.006884746549407508,
          0.017783243130340284,
          -0.10363222188900754,
          0.01809278493766355,
          0.0556192315405464,
          -0.012319967936297433,
          -0.04229260586775908,
          -0.13792455121148608,
          -0.07835173674995566,
          -0.08539871148275181,
          0.01612399597184568,
          -0.06190856214491739,
          -0.06290114822967494,
          0.007447605986766159,
          0.05823184112241071,
          -0.08003417085681842,
          -0.0897619489077838,
          -0.08690704355239191,
          0.051089183944045324,
          -0.11812580259974144,
          -0.05525904293678196,
          -0.14372638053530368,
          0.10568763356132851,
          -0.012609861708933337,
          -0.052032312516936706,
          -0.06306643081366485,
          -0.018782957332387322,
          -0.0862320547324386,
          0.00616001470971127,
          -0.07864225523475171,
          -0.053754933001555864,
          0.10081138940402813,
          -0.03021967015692791,
          -0.08877427920190291,
          0.03970391851692801,
          0.12717518791226817,
          0.017086176681873785,
          0.037604951988293465,
          0.11069366456809517,
          -0.04009880609119366,
          0.03435515993716364,
          0.007643156128322504,
          0.03729366240506017,
          -0.01761484860732994,
          0.01084859112506402,
          0.053515787746475044,
          0.038467436030619064,
          0.06287359610058839,
          0.13323836593187197,
          -0.05529458004051551,
          -0.0032803873116681974,
          0.0016998243377987434,
          -0.018967694797270555,
          0.12672372989087238,
          -0.014323939897138014,
          0.20957829947238,
          0.016761594406461983,
          0.04801720045627766,
          0.05156595807910317,
          0.01532956484578651,
          0.142346657534377,
          0.003600832814692108,
          0.08392064089201377,
          0.04970857195939739,
          -0.03824602025076204,
          -0.06240561638318526,
          0.06520453885565114,
          -0.07945300063319674,
          0.009140933915549487,
          -0.0002827349062190138,
          0.015066372175611574,
          -0.06656101806793013,
          -0.1457194099475086,
          -0.15955802457317586,
          -0.1277925508391,
          0.05478832333616044,
          0.03131515484144685,
          0.15685788002814946,
          0.09032784381656744,
          -0.1658165016809763,
          -0.13969064650909735,
          -0.1373724027056158,
          -0.03296496348852137,
          -0.07014607649722877,
          -0.12673424890685211,
          -0.14419023528933342,
          -0.12290521444117415,
          -0.0710101810524626,
          0.042190121727022876,
          0.05731004381546352,
          -0.08803442216786486,
          -0.0831211845273762,
          -0.06624062563457404,
          -0.09172472845327291,
          -0.1337751337795505,
          -0.1293568014789741,
          -0.013046583942971106,
          -0.08290514571689633,
          -0.1315405296737321,
          -0.0953733349728245,
          -0.10428222143937228,
          -0.12230557823487298,
          -0.04684295943666636,
          -0.03586142345814132,
          -0.033639752218701066,
          -0.15247386803807755,
          -0.08169265080263682,
          -0.09927241965547405,
          -0.01829714422959416,
          -0.05379348880381799,
          -0.10248510523122743,
          -0.01417581177932544,
          -0.13937395698065344,
          -0.06322313228228757,
          -0.07675693345699129,
          -0.13642186316861651,
          0.05389309287211819,
          0.11615441927151875
         ],
         "xaxis": "x",
         "y": [
          -0.11650573696659304,
          -0.11093172646169773,
          -0.13077880171833536,
          -0.0888948409205418,
          -0.0742550008032046,
          -0.06295969304463128,
          0.10900942303992005,
          -0.09211571278718353,
          -0.09742293533513237,
          -0.08290207206994601,
          -0.10341800833330761,
          -0.08335304012423805,
          -0.05360420443030566,
          -0.05716846947903265,
          -0.09120633098507197,
          -0.08217365050954842,
          -0.03904180623295689,
          -0.10308026075826753,
          -0.027521177120666505,
          0.03276555419239344,
          0.19159925119680346,
          0.028107045030401862,
          -0.07667948914482861,
          -0.025725474163681053,
          0.12173382659819552,
          -0.11582553818919421,
          -0.04582343428430678,
          -0.018754832478087555,
          -0.04960481957845357,
          -0.08382525038844114,
          0.021187301182508694,
          0.026150762914433613,
          -0.04505718429281525,
          0.024344658907299855,
          -0.031989461098444354,
          -0.04684794871198217,
          -0.05828160140765023,
          -0.0350955345991284,
          -0.00910519143867311,
          -0.10050538771825747,
          0.049270687105105695,
          -0.011224281259374537,
          -0.0744951282650866,
          -0.02782450940929489,
          -0.0024131101133432133,
          0.1394408993663933,
          -0.03626151729542372,
          -0.004450995033085864,
          -0.032747666495838365,
          0.05293325290210006,
          -0.02337020430397766,
          -0.046516939947701445,
          -0.09742003583832777,
          -0.03817736996676895,
          -0.05797206067572203,
          0.07312718354699355,
          0.07972644521111721,
          -0.07746209323618582,
          -0.10694339979686374,
          -0.05933064936549729,
          -0.03281477000689505,
          -0.09760161979050866,
          -0.10823814835150146,
          -0.07004512027203294,
          -0.0428773823415294,
          0.001635044248442325,
          0.06858036752127998,
          -0.10270653010244733,
          0.02167108173287551,
          -0.023737865796651957,
          0.044885561897813855,
          0.005668537207806535,
          -0.11294258146666693,
          -0.07611357572852417,
          -0.06703770671237194,
          -0.11287879401942609,
          -0.01784307596650999,
          0.00896457477991756,
          -0.07412656937740686,
          -0.022214698348192133,
          0.0064280687642463,
          -0.047400191923477455,
          -0.009832524341902403,
          0.06442361016452522,
          0.15837542732751944,
          -0.10100049632144548,
          -0.04528676303346847,
          -0.03691987987361991,
          -0.10609593195117542,
          -0.052226042001772645,
          -0.058055796747558897,
          -0.10676241549853781,
          -0.06215726878187773,
          -0.08555360250818717,
          -0.042118103731237276,
          -0.08209865129659913,
          -0.08531087540449812,
          -0.0774426920726066,
          -0.07793914278723807,
          -0.13906977809874455,
          -0.05475396315801522,
          -0.06681513693142008,
          -0.08291120417737274,
          -0.1026872742713186,
          -0.0993974005490976,
          -0.012376242252935217,
          -0.06579587036803847,
          -0.07226615423620947,
          0.04229316590871301,
          -0.004408190386106138,
          0.16936869899567242,
          -0.04253225777445523,
          -0.012302248663757898,
          -0.11421968877650923,
          0.007131096286253013,
          0.01945581442633089,
          0.20447690675411742,
          0.02905435423776714,
          -0.05468289504271362,
          -0.07864904462956047,
          -0.035098837771389696,
          -0.10025693993338788,
          -0.037359915203083995,
          -0.035010811903935665,
          -0.015667362747405978,
          -0.06711952629685455,
          -0.11947765251436183,
          -0.11820654554470167,
          -0.021872417757149022,
          -0.051279433480750036,
          -0.05864724986428801,
          0.01369075746285208,
          -0.02348347598575126,
          -0.12038511920012156,
          -0.11629846203174143,
          -0.10219740785459543,
          -0.10626838640438795,
          -0.09923380589728041,
          0.06868761394387164,
          -0.042204409096409934,
          -0.01422570361746878,
          -0.02621993303473356,
          -0.05318044474789789,
          -0.027323600365697177,
          0.10820232038046454,
          0.017746638335321453,
          0.028136716292407524,
          0.05893352479897495,
          -0.06337210319390824,
          0.006578319355838412,
          -0.06266699818966599,
          0.021506864339649257,
          0.018054176516385752,
          -0.09575733492197808,
          -0.07251892395577375,
          -0.04711339123475859,
          -0.012984023456190855,
          -0.059608010968864165,
          0.06775339585172378,
          0.04145218880548533,
          0.03978207185984907,
          0.02548186046704168,
          -0.01672342160527435,
          -0.0060454826364214,
          0.018434336074379998,
          -0.01908746857664636,
          -0.031120441297893892,
          -0.12423349366796471,
          0.029175565530522293,
          0.05165986996637384,
          0.03019793860458271,
          -0.012189903669194766,
          -0.03637220361274274,
          -0.0008362745377691353,
          -0.03218342819140316,
          -0.05995669709248464,
          -0.09481944040398325,
          -0.03077247037311155,
          0.036482924469163285,
          0.013946403325241285,
          0.0164479493200603,
          0.014396777128307031,
          0.036269376499923095,
          0.14492881417456377,
          0.0501869638002744,
          -0.023554597731580598,
          -0.02258018821098083,
          0.09298197436962365,
          0.10979724213932329,
          -0.056595882316626905,
          0.11442178717485121,
          0.02124704154960585,
          -0.01896341248038796,
          -0.03357007735124514,
          0.10413492643817866,
          -0.018912738480571782,
          0.030976861580745203,
          -0.00009151361159389544,
          0.05603532406432908,
          0.135479158468512,
          0.20861679882688391,
          0.02018286555977247,
          0.01902794485931549,
          0.0932108955391647,
          0.011887856759362703,
          -0.017911517701970813,
          0.04422742309998612,
          -0.07012079688190272,
          0.009584261797093952,
          -0.015318534276489488,
          -0.07891409765630159,
          0.0015248883980438096,
          -0.04710090819831256,
          -0.12452750173829522,
          -0.05930257236292779,
          0.20424833782913532,
          0.12710110992957643,
          -0.0950373882722521,
          -0.02819254337697194,
          -0.046531491078038854,
          -0.022418745901925243,
          0.06756765340365094,
          -0.0577185968920643,
          0.01920386078206688,
          0.0590720227178424,
          0.03698298335089644,
          -0.08962334741490208,
          -0.09892869629167805,
          0.054916138547001045,
          0.0038846252972363484,
          0.11133918996257547,
          0.07100530767320393,
          0.19044737985061913,
          0.021324437991937045,
          0.10909639032566577,
          -0.040480342352518676,
          0.011493720202709,
          -0.037287399105619304,
          -0.07413041917733731,
          -0.05187950109204147,
          -0.07485835553904677,
          -0.10141433605130881,
          0.004211898851862217,
          -0.06667160720210716,
          -0.03201440795022637,
          -0.11369984174990486,
          0.007926410496241655,
          0.031879941656149165,
          -0.09470202296578314,
          0.12062665275409397,
          0.0713458759326281,
          0.11020975285201251,
          -0.06839982855581228,
          0.029539900242721965,
          -0.0857428488770246,
          0.007081540772025979,
          0.11860739954759902,
          0.2027766154614915,
          0.007378612010409883,
          -0.05997011016001919,
          0.007621935141941938,
          -0.06204883846456338,
          0.12534224522541543,
          0.053177131826770904,
          -0.0034837959269912932,
          0.070985424097037,
          0.16038871883403924,
          -0.007605553410254204,
          -0.04991030306211628,
          -0.003491972362185627,
          0.022577867754649022,
          0.0259282035023635,
          0.022321633276938348,
          0.13912929601272736,
          -0.030640915013147862,
          -0.03880800017653934,
          0.04657049422450828,
          -0.02750889469500236,
          -0.029630042325065116,
          0.025752558481527684,
          0.18554313602522077,
          0.02270043955083927,
          -0.012436587600073256,
          -0.04010365974492342,
          -0.1350390650888962,
          -0.1079831742934682,
          -0.046063842337812994,
          0.03847037293745537,
          -0.03038491028746771,
          0.03573508664571553,
          -0.10529790802390393,
          -0.037970596048589766,
          -0.05701701730167387,
          0.05786351628475446,
          0.1375316683847329,
          0.06675787102150274,
          0.08926063600822863,
          0.03859335199489856,
          0.08020264089611485,
          0.03438200151282123,
          0.046432438002308285,
          -0.017802571535077128,
          -0.01758836326470942,
          0.02470803904802533,
          -0.058043032894225396,
          0.2426996022049837,
          -0.026349791382502992,
          -0.07895059167279031,
          0.04680107060477102,
          0.026307245550537317,
          -0.02818993332281937,
          0.04576994126090138,
          -0.01579731377729416,
          0.11091197551174287,
          -0.02685544768945821,
          -0.019290795929450086,
          -0.0066166584760189336,
          0.04590735745631368,
          -0.06340852766261162,
          -0.09219124926520054,
          0.028281060315953715,
          -0.057482859858815474,
          -0.07893130975413092,
          -0.026003048815727667,
          -0.08209389009543966,
          0.09008197835646194,
          0.11577851099636803,
          -0.0638153279578807,
          -0.06894329966745266,
          -0.08466459949678096,
          -0.0026518325412174656,
          -0.052498589686593135,
          -0.08984407561847653,
          -0.057966331526689265,
          0.06793330513523246,
          -0.01655514323465189,
          -0.06418919410739671,
          0.05067026970490523,
          -0.05721013991038271,
          0.13922896307764668,
          -0.005899241375619198,
          0.02634143259882534,
          -0.117579296622802,
          0.03548118867802768,
          0.07119667289534483,
          0.14617322448895345,
          -0.07219352670491291,
          -0.04168791390485784,
          0.004038171228238396,
          0.08394704002038107,
          -0.03447816345919461,
          -0.07505531998833513,
          0.0024477377959204404,
          -0.013212124231655699,
          0.060958805653852095,
          -0.06316011672868276,
          0.07965634213819299,
          -0.014057661870801553,
          0.00029683349492534586,
          0.04030253364751878,
          0.07476381451750057,
          0.07379594488840031,
          0.040826941671980505,
          0.07102030793548962,
          -0.03442687506514818,
          0.022899509210177256,
          0.012995337569777457,
          0.01500322086885167,
          -0.09825642198183293,
          -0.013546460124817212,
          -0.10708886152946048,
          0.10041311626464783,
          0.07603122328303819,
          -0.09581567822348791,
          -0.05725840947044538,
          -0.11907712584356665,
          -0.10821084445249066,
          -0.02183143466437593,
          -0.04875825056257273,
          0.11150317353132123,
          -0.07365022669255825,
          0.09328554396653332,
          -0.02898087613730467,
          -0.01445969885798484,
          -0.07242247404845074,
          -0.0019392677646076514,
          -0.02905192431944972,
          -0.07147081006537667,
          -0.08766487235755066,
          -0.0889997609331881,
          -0.007560929420363627,
          -0.044827880355427084,
          0.16368891369458113,
          0.08692560795088151,
          0.12580551857809524,
          0.23426191164949714,
          0.22601982866247974,
          0.0956932230348739,
          -0.11018131375761507,
          -0.09089877535065943,
          0.06521085482978128,
          -0.07122446571451907,
          -0.01169215836245554,
          0.11418612052928467,
          0.07627758932731445,
          -0.04853629847551864,
          -0.012234378247942913,
          0.12111709397427894,
          0.0043575493826480405,
          -0.0946846253898853,
          -0.0671137434012549,
          0.026643461014350986,
          0.05839931290720637,
          0.035388021930565505,
          0.012335227475512595,
          0.05266442704550016,
          -0.03319630006886149,
          0.0024363760164705928,
          -0.0739645175840535,
          -0.1343436409702702,
          -0.029634844895448282
         ],
         "yaxis": "y"
        },
        {
         "hovertemplate": "<b>%{hovertext}</b><br><br>color=cluster_9<br>x=%{x}<br>y=%{y}<extra></extra>",
         "hovertext": [
          "regulation",
          "ensure compliance",
          "compliant products",
          "regulatory oversight",
          "strict regulatory oversight",
          "ensure consistency",
          "ensures compliance",
          "regulatory compliance"
         ],
         "legendgroup": "cluster_9",
         "marker": {
          "color": "#EF553B",
          "symbol": "circle"
         },
         "mode": "markers",
         "name": "cluster_9",
         "orientation": "v",
         "showlegend": true,
         "type": "scatter",
         "x": [
          0.06993447243494533,
          0.06847729786527212,
          0.0015276635471975365,
          0.12588080772831522,
          0.12003824478672762,
          -0.007062170486624355,
          0.05949458423329733,
          0.11513666371263329
         ],
         "xaxis": "x",
         "y": [
          -0.009214409003778701,
          0.09425609387087659,
          0.03941851458578221,
          0.07593970922599017,
          0.11471597857092512,
          0.06436170552120082,
          0.10632961343652525,
          0.06910791209247343
         ],
         "yaxis": "y"
        },
        {
         "hovertemplate": "<b>%{hovertext}</b><br><br>color=cluster_6<br>x=%{x}<br>y=%{y}<extra></extra>",
         "hovertext": [
          "european parliament",
          "european union",
          "european council",
          "european central bank",
          "the european parliament and the council of the european union",
          "european commission",
          "national parliaments",
          "parliament",
          "euco",
          "european parliament resolution",
          "europol",
          "standardisation",
          "standardisation process",
          "european standardisation",
          "european standardisation organisations",
          "european standard"
         ],
         "legendgroup": "cluster_6",
         "marker": {
          "color": "#00cc96",
          "symbol": "circle"
         },
         "mode": "markers",
         "name": "cluster_6",
         "orientation": "v",
         "showlegend": true,
         "type": "scatter",
         "x": [
          0.17066046227431445,
          0.1551852925867772,
          0.16107414342027762,
          0.10536061216070076,
          0.18821397655508493,
          0.17119817309791951,
          0.15352102337258425,
          0.14207354243371814,
          0.0548065482752307,
          0.17434082777480392,
          0.07387366126935584,
          0.029664321312296262,
          -0.011005273289801897,
          0.08360788121141853,
          0.11573502983619648,
          0.06880835810943885
         ],
         "xaxis": "x",
         "y": [
          -0.14232983954664266,
          -0.1567832493571185,
          -0.12812498495045813,
          -0.11586219118315674,
          -0.13319134753580547,
          -0.1260313393708647,
          -0.13193898555284755,
          -0.13658869965217327,
          -0.13749320486146122,
          -0.07466977845237856,
          -0.1369848640954397,
          -0.056922278624603445,
          -0.044719548131853804,
          -0.08281266035267251,
          -0.11341533271432791,
          -0.10079831607529466
         ],
         "yaxis": "y"
        },
        {
         "hovertemplate": "<b>%{hovertext}</b><br><br>color=cluster_14<br>x=%{x}<br>y=%{y}<extra></extra>",
         "hovertext": [
          "natural persons",
          "natural person",
          "multiple persons",
          "specific natural person",
          "such persons",
          "different persons",
          "natural persons regardless",
          "specific persons"
         ],
         "legendgroup": "cluster_14",
         "marker": {
          "color": "#ab63fa",
          "symbol": "circle"
         },
         "mode": "markers",
         "name": "cluster_14",
         "orientation": "v",
         "showlegend": true,
         "type": "scatter",
         "x": [
          0.058908151546986066,
          0.0007255711390148557,
          -0.004207293659504349,
          0.01946169402749861,
          0.029127404263477777,
          -0.017117877144995026,
          0.06653713089763186,
          0.04315334087755566
         ],
         "xaxis": "x",
         "y": [
          -0.09045344633171597,
          -0.09825401170233777,
          -0.04330147235986461,
          -0.05875812859353152,
          -0.0008543690324969861,
          -0.048214156941917795,
          -0.04674611475285097,
          -0.0055563500822455045
         ],
         "yaxis": "y"
        },
        {
         "hovertemplate": "<b>%{hovertext}</b><br><br>color=cluster_18<br>x=%{x}<br>y=%{y}<extra></extra>",
         "hovertext": [
          "fundamental rights",
          "specific requirements",
          "relevant obligations",
          "specific rules",
          "certain mandatory requirements",
          "applicable requirements",
          "user obligations",
          "certain requirements",
          "registration obligations",
          "fundamental rights obligations",
          "uniform obligations",
          "specific national rules",
          "applicable law",
          "fundamental right",
          "mandatory requirements",
          "relevant procedural requirements",
          "requirement",
          "relevant requirements",
          "key requirement",
          "specific obligations",
          "relevant requirement",
          "such obligation",
          "relevant rules",
          "procedural obligations",
          "additional requirements"
         ],
         "legendgroup": "cluster_18",
         "marker": {
          "color": "#FFA15A",
          "symbol": "circle"
         },
         "mode": "markers",
         "name": "cluster_18",
         "orientation": "v",
         "showlegend": true,
         "type": "scatter",
         "x": [
          0.10074737659450592,
          0.032262791439615135,
          0.12679701846268246,
          0.04458477111237503,
          0.09097350249785395,
          0.061640129326221225,
          0.07929723286234365,
          0.028241515618072033,
          0.12493580415184455,
          0.1384592707289234,
          0.12972834433893607,
          0.15076023867952965,
          0.16636116231983455,
          0.10774813114366466,
          0.06323747333735431,
          0.05636473141598322,
          0.00962209125049157,
          0.047199940011131016,
          0.0010753512279808378,
          0.11931497148867676,
          0.056156643216017814,
          0.047943494285870074,
          0.06096740594051544,
          0.08764808137949756,
          0.007995488421629102
         ],
         "xaxis": "x",
         "y": [
          0.038977641234187156,
          0.09437025139702324,
          0.1023983255198294,
          0.029227520183326246,
          0.11493700031711988,
          0.09246951379351419,
          0.042451800055784895,
          0.1098280504871209,
          0.05513622045266948,
          0.09024217849924158,
          0.03918897512480702,
          -0.007844501058891826,
          0.012677766749844315,
          0.019056968078370855,
          0.09582506263399185,
          0.07878998935836014,
          0.02968986576162792,
          0.09909156158044538,
          0.04709299475766811,
          0.09450822972812284,
          0.08282083641540594,
          0.06768161131015994,
          0.047800357665143164,
          0.0606295031342393,
          0.10884035174169192
         ],
         "yaxis": "y"
        },
        {
         "hovertemplate": "<b>%{hovertext}</b><br><br>color=cluster_21<br>x=%{x}<br>y=%{y}<extra></extra>",
         "hovertext": [
          "law enforcement",
          "law enforcement authorities",
          "law enforcement authority",
          "law enforcement purposes",
          "law enforcement activities",
          "law enforcement context",
          "surveillance authorities"
         ],
         "legendgroup": "cluster_21",
         "marker": {
          "color": "#19d3f3",
          "symbol": "circle"
         },
         "mode": "markers",
         "name": "cluster_21",
         "orientation": "v",
         "showlegend": true,
         "type": "scatter",
         "x": [
          0.1644520521490052,
          0.20286669463209944,
          0.2320157697809248,
          0.14787981224019026,
          0.15407676384878244,
          0.15381591761710153,
          0.1411632695094113
         ],
         "xaxis": "x",
         "y": [
          -0.05685484986480413,
          -0.050654997049218074,
          -0.06328651713271045,
          -0.004736730685939104,
          -0.01545469806286018,
          -0.03228397225647084,
          -0.01804895822055374
         ],
         "yaxis": "y"
        },
        {
         "hovertemplate": "<b>%{hovertext}</b><br><br>color=cluster_20<br>x=%{x}<br>y=%{y}<extra></extra>",
         "hovertext": [
          "national competent authorities",
          "competent authorities",
          "public authorities",
          "national competent authority",
          "public authority",
          "relevant authorities",
          "judicial authority",
          "national public authorities",
          "national authorities",
          "national authority",
          "administrative authority",
          "private entity",
          "responsible authorities",
          "judicial authorities",
          "relevant entities",
          "relevant competent authorities",
          "relevant providers",
          "public entities",
          "public entity",
          "public authority competent",
          "competent authority"
         ],
         "legendgroup": "cluster_20",
         "marker": {
          "color": "#FF6692",
          "symbol": "circle"
         },
         "mode": "markers",
         "name": "cluster_20",
         "orientation": "v",
         "showlegend": true,
         "type": "scatter",
         "x": [
          0.18463847935135705,
          0.16948476406162974,
          0.18587123232105243,
          0.18124010670237112,
          0.15182934948269486,
          0.11875637120302218,
          0.1925475919730506,
          0.23592458795821414,
          0.22807495322634855,
          0.19257370934189857,
          0.1774441140814091,
          0.03246403068254773,
          0.1751417657870106,
          0.2037363681698261,
          0.024453195474695807,
          0.17317077008338982,
          0.04394350134275457,
          0.029107395781613324,
          0.0350169499136338,
          0.1499407567651277,
          0.13463568705977774
         ],
         "xaxis": "x",
         "y": [
          -0.04335838079950658,
          -0.005985857709641375,
          -0.06036075514841527,
          -0.0657371015104104,
          -0.08371336410838102,
          0.035676419466023665,
          -0.05164548755637838,
          -0.08263614702354026,
          -0.10067145429945037,
          -0.11767385308422837,
          -0.0628502648194193,
          -0.10670674709915969,
          0.05049326255085358,
          -0.04780593810097389,
          -0.03168607892802474,
          0.018057574215395035,
          0.03629083386382234,
          -0.11730868354186956,
          -0.11390226491861997,
          -0.03624476746700531,
          -0.014861884341430745
         ],
         "yaxis": "y"
        },
        {
         "hovertemplate": "<b>%{hovertext}</b><br><br>color=cluster_7<br>x=%{x}<br>y=%{y}<extra></extra>",
         "hovertext": [
          "union law",
          "union harmonisation legislation",
          "union market",
          "relevant union",
          "union institutions",
          "relevant union harmonisation legislation",
          "such union law",
          "sectorial legislation",
          "union legislation",
          "relevant sectorial union law",
          "union values",
          "union policies",
          "certain union harmonisation legislation",
          "union anti-money",
          "secondary union law",
          "union market providers"
         ],
         "legendgroup": "cluster_7",
         "marker": {
          "color": "#B6E880",
          "symbol": "circle"
         },
         "mode": "markers",
         "name": "cluster_7",
         "orientation": "v",
         "showlegend": true,
         "type": "scatter",
         "x": [
          0.1897648649701339,
          0.2305972288685223,
          0.10719911710725524,
          0.0825333641548818,
          0.14094928610300747,
          0.2328247268959212,
          0.16869486015281204,
          0.19021611435888564,
          0.1978014738483814,
          0.23841428749748383,
          0.09274918920717098,
          0.14602439908144907,
          0.2004046690639375,
          0.11471953085128084,
          0.15905875873111633,
          0.11247769935899775
         ],
         "xaxis": "x",
         "y": [
          -0.0977833490841084,
          -0.09216625612792968,
          -0.11816722065747913,
          -0.05285011432771645,
          -0.11724079205669923,
          -0.034948237541297576,
          -0.05393116380398116,
          -0.010544157220200258,
          -0.10531191021207353,
          -0.05478894131200943,
          -0.10334873509619588,
          -0.08566502318818832,
          -0.04186935395649573,
          -0.05208112267779085,
          -0.02634683588887603,
          -0.09312517820169801
         ],
         "yaxis": "y"
        },
        {
         "hovertemplate": "<b>%{hovertext}</b><br><br>color=cluster_5<br>x=%{x}<br>y=%{y}<extra></extra>",
         "hovertext": [
          "biometric data",
          "remote biometric identification systems",
          "remote biometric identification",
          "biometric identification",
          "certain biometric identification systems",
          "biometric categorisation system"
         ],
         "legendgroup": "cluster_5",
         "marker": {
          "color": "#FF97FF",
          "symbol": "circle"
         },
         "mode": "markers",
         "name": "cluster_5",
         "orientation": "v",
         "showlegend": true,
         "type": "scatter",
         "x": [
          -0.1564221064574243,
          -0.0900346001835545,
          -0.08651510951265282,
          -0.07802297995844318,
          -0.0668463798895417,
          -0.07882972583818383
         ],
         "xaxis": "x",
         "y": [
          -0.08985592859016982,
          -0.05941335033242552,
          -0.05804579528262774,
          -0.07392198239534238,
          -0.044905024564463984,
          -0.09288306386795303
         ],
         "yaxis": "y"
        },
        {
         "hovertemplate": "<b>%{hovertext}</b><br><br>color=cluster_8<br>x=%{x}<br>y=%{y}<extra></extra>",
         "hovertext": [
          "artificial intelligence",
          "such systems",
          "artificial",
          "machine",
          "artificial intelligence act",
          "intelligence systems",
          "trustworthy artificial intelligence",
          "ethical artificial intelligence",
          "machine learning",
          "certain artificial intelligence practices",
          "information systems",
          "such products",
          "artificial intelligence algorithms",
          "artificial intelligence field",
          "artificial intelligence output",
          "information society services",
          "artificial intelligence system"
         ],
         "legendgroup": "cluster_8",
         "marker": {
          "color": "#FECB52",
          "symbol": "circle"
         },
         "mode": "markers",
         "name": "cluster_8",
         "orientation": "v",
         "showlegend": true,
         "type": "scatter",
         "x": [
          -0.1599483558185221,
          -0.08435642241897169,
          -0.09262382886690113,
          -0.12443768444765692,
          0.007066511208624766,
          -0.1249934099424595,
          -0.1445383679329269,
          -0.08983279383634835,
          -0.22210342702340366,
          -0.1363604612513218,
          -0.10322654292926463,
          -0.09490363066234611,
          -0.1914289173137992,
          -0.13921856345651581,
          -0.18133044006120075,
          0.028602683590386643,
          -0.15625706071475604
         ],
         "xaxis": "x",
         "y": [
          -0.16873553887320983,
          -0.04568053375318889,
          -0.10886419574812468,
          -0.12626154819973412,
          -0.1237082253491876,
          -0.12003924033097321,
          -0.08141996325824928,
          -0.12253087636676613,
          -0.1301986695839961,
          -0.05193375047819046,
          -0.11732588316507223,
          -0.006815841628206519,
          -0.11256426859514009,
          -0.15606441498722176,
          -0.13571047542584602,
          -0.08449465437160097,
          -0.1613299547908937
         ],
         "yaxis": "y"
        },
        {
         "hovertemplate": "<b>%{hovertext}</b><br><br>color=cluster_19<br>x=%{x}<br>y=%{y}<extra></extra>",
         "hovertext": [
          "national law",
          "state law",
          "national laws",
          "national law contributes",
          "national law compatible",
          "national law considers"
         ],
         "legendgroup": "cluster_19",
         "marker": {
          "color": "#636efa",
          "symbol": "circle"
         },
         "mode": "markers",
         "name": "cluster_19",
         "orientation": "v",
         "showlegend": true,
         "type": "scatter",
         "x": [
          0.19959997538559007,
          0.1425200536028771,
          0.2091087623182233,
          0.18272974884577242,
          0.1557028205442906,
          0.18788966212169195
         ],
         "xaxis": "x",
         "y": [
          -0.07220396228207429,
          -0.07534034418724625,
          -0.07923942985569699,
          -0.035064994481282315,
          -0.03658858712758667,
          0.007135071088494791
         ],
         "yaxis": "y"
        },
        {
         "hovertemplate": "<b>%{hovertext}</b><br><br>color=cluster_22<br>x=%{x}<br>y=%{y}<extra></extra>",
         "hovertext": [
          "market surveillance",
          "market surveillance authorities",
          "market surveillance activities",
          "market surveillance authority",
          "competent market surveillance authority",
          "market surveillance tasks"
         ],
         "legendgroup": "cluster_22",
         "marker": {
          "color": "#EF553B",
          "symbol": "circle"
         },
         "mode": "markers",
         "name": "cluster_22",
         "orientation": "v",
         "showlegend": true,
         "type": "scatter",
         "x": [
          -0.013970814433892703,
          0.1456733934356262,
          0.022218181240262175,
          0.1419132383553647,
          0.14345041036328163,
          -0.020013369139279053
         ],
         "xaxis": "x",
         "y": [
          -0.03002881501433716,
          -0.048986211707569685,
          -0.0014010798762542098,
          -0.05707333931564721,
          -0.00010109394842927262,
          -0.004720785456357956
         ],
         "yaxis": "y"
        },
        {
         "hovertemplate": "<b>%{hovertext}</b><br><br>color=cluster_1<br>x=%{x}<br>y=%{y}<extra></extra>",
         "hovertext": [
          "conformity assessment",
          "third-party conformity assessment",
          "relevant conformity assessment procedure",
          "conformity assessment procedure",
          "conformity assessment body",
          "initial conformity assessment",
          "third-party conformity assessment body pursuant",
          "new conformity assessment",
          "new conformity assessment procedure",
          "conformity assessment bodies",
          "performs third-party conformity assessment activities",
          "conformity"
         ],
         "legendgroup": "cluster_1",
         "marker": {
          "color": "#00cc96",
          "symbol": "circle"
         },
         "mode": "markers",
         "name": "cluster_1",
         "orientation": "v",
         "showlegend": true,
         "type": "scatter",
         "x": [
          0.013425835745340954,
          0.06360564632568824,
          0.05663563056741875,
          0.0009522526576627666,
          0.09224005338351458,
          0.02365905451896682,
          0.15028200553403176,
          0.0642117950485244,
          0.045849389042547116,
          0.10625692728089094,
          0.07957521040949862,
          -0.0030706954976771656
         ],
         "xaxis": "x",
         "y": [
          0.06897670648198484,
          0.07365746902007073,
          0.08398017080702849,
          0.0710020311881174,
          0.0066156751440361065,
          0.07039349222780539,
          0.033985522005353395,
          0.04740868068893513,
          0.0507456008990626,
          0.007173734228959394,
          0.05032573416584563,
          0.0013634927386483714
         ],
         "yaxis": "y"
        },
        {
         "hovertemplate": "<b>%{hovertext}</b><br><br>color=cluster_0<br>x=%{x}<br>y=%{y}<extra></extra>",
         "hovertext": [
          "criminal offences",
          "different criminal offences",
          "criminal matters",
          "criminal proceedings",
          "potential criminal offence",
          "past criminal behaviour"
         ],
         "legendgroup": "cluster_0",
         "marker": {
          "color": "#ab63fa",
          "symbol": "circle"
         },
         "mode": "markers",
         "name": "cluster_0",
         "orientation": "v",
         "showlegend": true,
         "type": "scatter",
         "x": [
          0.129835787616718,
          0.13475177088403056,
          0.1064615345556377,
          0.14526862690720804,
          0.10662764977999181,
          0.004663028422358546
         ],
         "xaxis": "x",
         "y": [
          0.04807285132858975,
          0.08254752306723023,
          0.05342413629153439,
          0.028420592863888556,
          0.1425013730846096,
          0.09679200187001703
         ],
         "yaxis": "y"
        },
        {
         "hovertemplate": "<b>%{hovertext}</b><br><br>color=cluster_3<br>x=%{x}<br>y=%{y}<extra></extra>",
         "hovertext": [
          "financial services legislation",
          "credit institutions",
          "financial institutions subject",
          "financial institutions",
          "financial services",
          "financial sector",
          "financial service legislation"
         ],
         "legendgroup": "cluster_3",
         "marker": {
          "color": "#FFA15A",
          "symbol": "circle"
         },
         "mode": "markers",
         "name": "cluster_3",
         "orientation": "v",
         "showlegend": true,
         "type": "scatter",
         "x": [
          0.17527499746225236,
          0.0769904070519028,
          0.1189122308817339,
          0.06989222301054336,
          0.05274270832647738,
          0.07586346868419773,
          0.1761908559018953
         ],
         "xaxis": "x",
         "y": [
          0.010333320441216709,
          -0.04881659575780496,
          0.012400526003787797,
          -0.0320393056587079,
          -0.024054498892505317,
          -0.035545948526675496,
          0.00906938786093599
         ],
         "yaxis": "y"
        },
        {
         "hovertemplate": "<b>%{hovertext}</b><br><br>color=cluster_15<br>x=%{x}<br>y=%{y}<extra></extra>",
         "hovertext": [
          "high risk",
          "safety components",
          "such harm",
          "safety component",
          "possible risks",
          "product safety",
          "respective high-risk",
          "safety risks",
          "vulnerabilities",
          "significant risk",
          "new high-risk",
          "public safety",
          "psychological harms",
          "phycological harm",
          "psychological harm",
          "such harm results",
          "physical safety",
          "possible negative consequences",
          "unacceptable risks",
          "civil aviation security",
          "civil aviation",
          "aviation safety",
          "general safety",
          "high-risk pursuant",
          "possible harm",
          "high-risk scenarios",
          "safety",
          "serious consequences",
          "certain risks",
          "safety impacts",
          "particular use high-risk",
          "safety functions",
          "specific risks",
          "serious incidents",
          "general product safety",
          "safety function",
          "significant risks",
          "foreseeable risks",
          "such risks persist",
          "system vulnerabilities",
          "specific vulnerabilities",
          "serious incident"
         ],
         "legendgroup": "cluster_15",
         "marker": {
          "color": "#19d3f3",
          "symbol": "circle"
         },
         "mode": "markers",
         "name": "cluster_15",
         "orientation": "v",
         "showlegend": true,
         "type": "scatter",
         "x": [
          -0.10007276644599064,
          -0.0429280453955553,
          -0.059802731361684375,
          -0.04331086665979574,
          -0.09265200385640149,
          -0.04385923380498097,
          -0.029714702311668343,
          -0.0638029187916755,
          -0.08541936737512888,
          -0.07998250395484768,
          -0.0765846394977638,
          0.047007517749073136,
          -0.0474422428381508,
          -0.044881885364616694,
          -0.04307162887571985,
          -0.059503793795420964,
          -0.02745333775734146,
          -0.045041369136173015,
          -0.024190774403536616,
          0.05671993484733392,
          0.05342575135562146,
          0.006164559145887932,
          -0.0014580540059257975,
          0.026733601460020316,
          -0.04913165936040739,
          -0.12219801440322438,
          -0.03232305954225313,
          -0.016375429232693393,
          -0.05365615934090471,
          -0.030815582851289592,
          -0.051889051596840804,
          -0.03099640619557753,
          -0.049135528365297124,
          -0.026753136182775018,
          -0.015056741415702903,
          -0.019757084521129516,
          -0.08775491910365608,
          -0.04082624824800775,
          -0.056181994875053244,
          -0.08427017969985326,
          -0.08059555377592183,
          -0.018091020952443353
         ],
         "xaxis": "x",
         "y": [
          0.2096834651224998,
          0.14314346554020466,
          0.15651752017313558,
          0.1416632297892763,
          0.2888659872159517,
          0.13344345946933878,
          0.20557889552975056,
          0.29210383226071485,
          0.15607565752584787,
          0.27248795021344074,
          0.18558750500801435,
          0.10592113136448822,
          0.1634668959021892,
          0.1446288143937946,
          0.1518426051661668,
          0.16380753520134503,
          0.11689671639456767,
          0.21605603687624678,
          0.3052403961869195,
          0.029432999067955472,
          -0.06156517449964926,
          0.10413792919406288,
          0.10729957783994251,
          0.21742392241419958,
          0.22718975193300936,
          0.20901372680334976,
          0.1222888750332654,
          0.20488820073326713,
          0.27668909655601426,
          0.2318475314930031,
          0.17367485827451626,
          0.1455397851358377,
          0.302460790213703,
          0.16414873993318,
          0.10439835166662206,
          0.13187487606149767,
          0.31271973384126994,
          0.2837666978268513,
          0.2576804978758167,
          0.15393994617051607,
          0.18518672767915645,
          0.13537932859152688
         ],
         "yaxis": "y"
        },
        {
         "hovertemplate": "<b>%{hovertext}</b><br><br>color=cluster_12<br>x=%{x}<br>y=%{y}<extra></extra>",
         "hovertext": [
          "human oversight",
          "human oversight measures",
          "human involvement",
          "human experts",
          "human behaviour",
          "appropriate human oversight measures",
          "human operator",
          "human oversight requirement"
         ],
         "legendgroup": "cluster_12",
         "marker": {
          "color": "#FF6692",
          "symbol": "circle"
         },
         "mode": "markers",
         "name": "cluster_12",
         "orientation": "v",
         "showlegend": true,
         "type": "scatter",
         "x": [
          -0.00011268296019367535,
          0.035539119192961696,
          -0.06745169052086811,
          -0.05249933319278261,
          -0.045527778235313746,
          0.03796508268890019,
          -0.08397524876727872,
          0.06144643272627876
         ],
         "xaxis": "x",
         "y": [
          0.017737554266509317,
          0.0979448192064522,
          -0.011419051519007337,
          -0.08848167137931284,
          -0.03740518257410654,
          0.14106963410262677,
          -0.08365664944841261,
          0.09014213449711435
         ],
         "yaxis": "y"
        },
        {
         "hovertemplate": "<b>%{hovertext}</b><br><br>color=cluster_13<br>x=%{x}<br>y=%{y}<extra></extra>",
         "hovertext": [
          "quality management system",
          "risk management system",
          "international organisations",
          "international agreements",
          "effective protection",
          "international protection",
          "suitable risk management measures",
          "appropriate risk management measures",
          "effective measures",
          "risk management measures",
          "such agreements",
          "such protection",
          "relevant risk management system",
          "such measures",
          "accuracy metrics",
          "suitable measures",
          "risk management logic",
          "risk mitigation measures",
          "such guarantees",
          "risk management rules",
          "control measures",
          "quality criteria",
          "accuracy",
          "relevant accuracy metrics",
          "quality",
          "quality control",
          "quality assurance"
         ],
         "legendgroup": "cluster_13",
         "marker": {
          "color": "#B6E880",
          "symbol": "circle"
         },
         "mode": "markers",
         "name": "cluster_13",
         "orientation": "v",
         "showlegend": true,
         "type": "scatter",
         "x": [
          -0.05546861382242959,
          -0.04344982509832863,
          0.12791682733561496,
          0.16433044942276398,
          -0.020418666141852396,
          0.12007955902131362,
          -0.0032312882052701972,
          -0.0036220207281898566,
          -0.03427339753983428,
          -0.009011560045113698,
          0.05449440555527976,
          -0.027276127603083226,
          -0.02775074669584795,
          0.0016081561385762754,
          -0.18125296359327636,
          0.018393379219672393,
          -0.07050267211407057,
          -0.043803270780671,
          -0.006241264818175945,
          0.0361176319023176,
          0.0053574765142895475,
          -0.06776598644242383,
          -0.12657923105374158,
          -0.1414934601102497,
          -0.08067900617060951,
          -0.07820786652497133,
          -0.03008075890215742
         ],
         "xaxis": "x",
         "y": [
          -0.0030626499357457853,
          0.14878623418175993,
          -0.10450372582179121,
          -0.06555233429233816,
          0.11024725077707613,
          -0.0002883941150382436,
          0.25246769130808305,
          0.2618379093424282,
          0.12384180461703813,
          0.25019584230611236,
          0.008886700263378419,
          0.12049296388361631,
          0.163377278998928,
          0.12217799014659071,
          0.02033142465292539,
          0.1454901977822569,
          0.18471659132352264,
          0.2603888526958896,
          0.11926868085170565,
          0.2112969161314584,
          0.12646263257395837,
          0.06271890580211312,
          -0.02482367325707079,
          0.04677284297891477,
          -0.022378841158080684,
          0.02512738638234088,
          0.04386754321435785
         ],
         "yaxis": "y"
        },
        {
         "hovertemplate": "<b>%{hovertext}</b><br><br>color=cluster_17<br>x=%{x}<br>y=%{y}<extra></extra>",
         "hovertext": [
          "national security",
          "national security purposes",
          "national security activities",
          "public security purposes",
          "cybersecurity purposes",
          "cybersecurity",
          "cybersecurity scheme"
         ],
         "legendgroup": "cluster_17",
         "marker": {
          "color": "#FF97FF",
          "symbol": "circle"
         },
         "mode": "markers",
         "name": "cluster_17",
         "orientation": "v",
         "showlegend": true,
         "type": "scatter",
         "x": [
          0.07422668883532013,
          0.092356577833007,
          0.093061424960413,
          0.09501027390336052,
          -0.005765243209374695,
          -0.044906276324196866,
          -0.01904197397864207
         ],
         "xaxis": "x",
         "y": [
          0.011880827524654835,
          0.027329148885640607,
          0.03662828649088769,
          0.05532596969242566,
          0.07110884592059183,
          0.02988636836956907,
          0.032698517151715234
         ],
         "yaxis": "y"
        },
        {
         "hovertemplate": "<b>%{hovertext}</b><br><br>color=cluster_16<br>x=%{x}<br>y=%{y}<extra></extra>",
         "hovertext": [
          "data protection",
          "data protection regulation",
          "data protection authorities",
          "data management",
          "data collection",
          "data analysis",
          "data storage",
          "data aggregation",
          "data retention"
         ],
         "legendgroup": "cluster_16",
         "marker": {
          "color": "#FECB52",
          "symbol": "circle"
         },
         "mode": "markers",
         "name": "cluster_16",
         "orientation": "v",
         "showlegend": true,
         "type": "scatter",
         "x": [
          -0.04034852656036695,
          0.0810164712709502,
          0.13826662383220029,
          -0.13887122377410452,
          -0.12180972779418116,
          -0.1833118812949503,
          -0.15011068379376283,
          -0.11359969397439527,
          -0.12357703335387861
         ],
         "xaxis": "x",
         "y": [
          0.010697297708681844,
          0.0266261356168918,
          -0.041561179180138734,
          -0.09896151492170474,
          -0.09025518402096938,
          -0.07546822832328248,
          -0.12290628821380356,
          -0.10734761078091154,
          -0.04829686070670176
         ],
         "yaxis": "y"
        },
        {
         "hovertemplate": "<b>%{hovertext}</b><br><br>color=cluster_10<br>x=%{x}<br>y=%{y}<extra></extra>",
         "hovertext": [
          "such data",
          "data subjects",
          "means data",
          "such information",
          "high quality data",
          "such research",
          "high data quality",
          "quality datasets",
          "high-quality data",
          "validation data",
          "validation dataset",
          "individual data"
         ],
         "legendgroup": "cluster_10",
         "marker": {
          "color": "#636efa",
          "symbol": "circle"
         },
         "mode": "markers",
         "name": "cluster_10",
         "orientation": "v",
         "showlegend": true,
         "type": "scatter",
         "x": [
          -0.15749984674906775,
          -0.08438506298494708,
          -0.1541639109055602,
          -0.08794483816230295,
          -0.1624040629855895,
          -0.09617316321524591,
          -0.17825084752131873,
          -0.153730993222312,
          -0.1572549352240002,
          -0.10589290291876871,
          -0.1477533774935352,
          -0.10736373481427415
         ],
         "xaxis": "x",
         "y": [
          -0.04765172550460867,
          -0.09172229028043928,
          -0.10088247958121199,
          -0.022993105352963054,
          -0.030890599617826704,
          -0.0034606448717760807,
          -0.01487869513250397,
          -0.04305509449858103,
          -0.027607841468330414,
          -0.011380317158446254,
          -0.044067730851582824,
          -0.07982684209973477
         ],
         "yaxis": "y"
        },
        {
         "hovertemplate": "<b>%{hovertext}</b><br><br>color=cluster_11<br>x=%{x}<br>y=%{y}<extra></extra>",
         "hovertext": [
          "training",
          "learning approaches focus",
          "learning",
          "learning approaches",
          "high quality training",
          "learning process"
         ],
         "legendgroup": "cluster_11",
         "marker": {
          "color": "#EF553B",
          "symbol": "circle"
         },
         "mode": "markers",
         "name": "cluster_11",
         "orientation": "v",
         "showlegend": true,
         "type": "scatter",
         "x": [
          -0.06084392969102336,
          -0.12030975975858646,
          -0.10183690684619646,
          -0.12188400525937348,
          -0.08139429560346412,
          -0.12934214742772163
         ],
         "xaxis": "x",
         "y": [
          -0.10350053859665824,
          -0.042851187611482267,
          -0.10175254360682294,
          -0.03767476882504636,
          -0.029016706550991745,
          -0.09327317522867316
         ],
         "yaxis": "y"
        },
        {
         "hovertemplate": "<b>%{hovertext}</b><br><br>color=cluster_2<br>x=%{x}<br>y=%{y}<extra></extra>",
         "hovertext": [
          "border control",
          "border control management",
          "cross border",
          "border control areas",
          "cross-border users"
         ],
         "legendgroup": "cluster_2",
         "marker": {
          "color": "#00cc96",
          "symbol": "circle"
         },
         "mode": "markers",
         "name": "cluster_2",
         "orientation": "v",
         "showlegend": true,
         "type": "scatter",
         "x": [
          0.06550023829354364,
          0.07044205953926423,
          0.05708344180502472,
          0.06859829849531444,
          0.06815991660405578
         ],
         "xaxis": "x",
         "y": [
          -0.018680043620839335,
          -0.031907600097027256,
          -0.0693375836299562,
          -0.011076635990527535,
          -0.052037225721954156
         ],
         "yaxis": "y"
        },
        {
         "hovertemplate": "<b>%{hovertext}</b><br><br>color=cluster_4<br>x=%{x}<br>y=%{y}<extra></extra>",
         "hovertext": [
          "technical solutions",
          "technological developments",
          "digital",
          "digital products",
          "digital solutions",
          "future technological developments",
          "particular technology",
          "digital nature",
          "digital environment",
          "innovative technologies",
          "electronic commerce"
         ],
         "legendgroup": "cluster_4",
         "marker": {
          "color": "#ab63fa",
          "symbol": "circle"
         },
         "mode": "markers",
         "name": "cluster_4",
         "orientation": "v",
         "showlegend": true,
         "type": "scatter",
         "x": [
          -0.0933555517464062,
          -0.09129156301280997,
          -0.1299126819318835,
          -0.15712618330545566,
          -0.14192606693507073,
          -0.09506492364691595,
          -0.09539473310119781,
          -0.13449524782794064,
          -0.1316585764542706,
          -0.0936759752450378,
          -0.0015020025747093223
         ],
         "xaxis": "x",
         "y": [
          -0.019298214663760638,
          -0.053581888630766177,
          -0.13033274024057928,
          -0.10837260205778926,
          -0.08897939431211478,
          -0.030310167323355633,
          -0.08083448743784831,
          -0.1303948085777716,
          -0.1263826159775378,
          -0.070547557006987,
          -0.11576529595382264
         ],
         "yaxis": "y"
        }
       ],
       "layout": {
        "legend": {
         "title": {
          "text": "Cluster"
         },
         "tracegroupgap": 0
        },
        "margin": {
         "t": 60
        },
        "template": {
         "data": {
          "bar": [
           {
            "error_x": {
             "color": "#2a3f5f"
            },
            "error_y": {
             "color": "#2a3f5f"
            },
            "marker": {
             "line": {
              "color": "#E5ECF6",
              "width": 0.5
             },
             "pattern": {
              "fillmode": "overlay",
              "size": 10,
              "solidity": 0.2
             }
            },
            "type": "bar"
           }
          ],
          "barpolar": [
           {
            "marker": {
             "line": {
              "color": "#E5ECF6",
              "width": 0.5
             },
             "pattern": {
              "fillmode": "overlay",
              "size": 10,
              "solidity": 0.2
             }
            },
            "type": "barpolar"
           }
          ],
          "carpet": [
           {
            "aaxis": {
             "endlinecolor": "#2a3f5f",
             "gridcolor": "white",
             "linecolor": "white",
             "minorgridcolor": "white",
             "startlinecolor": "#2a3f5f"
            },
            "baxis": {
             "endlinecolor": "#2a3f5f",
             "gridcolor": "white",
             "linecolor": "white",
             "minorgridcolor": "white",
             "startlinecolor": "#2a3f5f"
            },
            "type": "carpet"
           }
          ],
          "choropleth": [
           {
            "colorbar": {
             "outlinewidth": 0,
             "ticks": ""
            },
            "type": "choropleth"
           }
          ],
          "contour": [
           {
            "colorbar": {
             "outlinewidth": 0,
             "ticks": ""
            },
            "colorscale": [
             [
              0,
              "#0d0887"
             ],
             [
              0.1111111111111111,
              "#46039f"
             ],
             [
              0.2222222222222222,
              "#7201a8"
             ],
             [
              0.3333333333333333,
              "#9c179e"
             ],
             [
              0.4444444444444444,
              "#bd3786"
             ],
             [
              0.5555555555555556,
              "#d8576b"
             ],
             [
              0.6666666666666666,
              "#ed7953"
             ],
             [
              0.7777777777777778,
              "#fb9f3a"
             ],
             [
              0.8888888888888888,
              "#fdca26"
             ],
             [
              1,
              "#f0f921"
             ]
            ],
            "type": "contour"
           }
          ],
          "contourcarpet": [
           {
            "colorbar": {
             "outlinewidth": 0,
             "ticks": ""
            },
            "type": "contourcarpet"
           }
          ],
          "heatmap": [
           {
            "colorbar": {
             "outlinewidth": 0,
             "ticks": ""
            },
            "colorscale": [
             [
              0,
              "#0d0887"
             ],
             [
              0.1111111111111111,
              "#46039f"
             ],
             [
              0.2222222222222222,
              "#7201a8"
             ],
             [
              0.3333333333333333,
              "#9c179e"
             ],
             [
              0.4444444444444444,
              "#bd3786"
             ],
             [
              0.5555555555555556,
              "#d8576b"
             ],
             [
              0.6666666666666666,
              "#ed7953"
             ],
             [
              0.7777777777777778,
              "#fb9f3a"
             ],
             [
              0.8888888888888888,
              "#fdca26"
             ],
             [
              1,
              "#f0f921"
             ]
            ],
            "type": "heatmap"
           }
          ],
          "heatmapgl": [
           {
            "colorbar": {
             "outlinewidth": 0,
             "ticks": ""
            },
            "colorscale": [
             [
              0,
              "#0d0887"
             ],
             [
              0.1111111111111111,
              "#46039f"
             ],
             [
              0.2222222222222222,
              "#7201a8"
             ],
             [
              0.3333333333333333,
              "#9c179e"
             ],
             [
              0.4444444444444444,
              "#bd3786"
             ],
             [
              0.5555555555555556,
              "#d8576b"
             ],
             [
              0.6666666666666666,
              "#ed7953"
             ],
             [
              0.7777777777777778,
              "#fb9f3a"
             ],
             [
              0.8888888888888888,
              "#fdca26"
             ],
             [
              1,
              "#f0f921"
             ]
            ],
            "type": "heatmapgl"
           }
          ],
          "histogram": [
           {
            "marker": {
             "pattern": {
              "fillmode": "overlay",
              "size": 10,
              "solidity": 0.2
             }
            },
            "type": "histogram"
           }
          ],
          "histogram2d": [
           {
            "colorbar": {
             "outlinewidth": 0,
             "ticks": ""
            },
            "colorscale": [
             [
              0,
              "#0d0887"
             ],
             [
              0.1111111111111111,
              "#46039f"
             ],
             [
              0.2222222222222222,
              "#7201a8"
             ],
             [
              0.3333333333333333,
              "#9c179e"
             ],
             [
              0.4444444444444444,
              "#bd3786"
             ],
             [
              0.5555555555555556,
              "#d8576b"
             ],
             [
              0.6666666666666666,
              "#ed7953"
             ],
             [
              0.7777777777777778,
              "#fb9f3a"
             ],
             [
              0.8888888888888888,
              "#fdca26"
             ],
             [
              1,
              "#f0f921"
             ]
            ],
            "type": "histogram2d"
           }
          ],
          "histogram2dcontour": [
           {
            "colorbar": {
             "outlinewidth": 0,
             "ticks": ""
            },
            "colorscale": [
             [
              0,
              "#0d0887"
             ],
             [
              0.1111111111111111,
              "#46039f"
             ],
             [
              0.2222222222222222,
              "#7201a8"
             ],
             [
              0.3333333333333333,
              "#9c179e"
             ],
             [
              0.4444444444444444,
              "#bd3786"
             ],
             [
              0.5555555555555556,
              "#d8576b"
             ],
             [
              0.6666666666666666,
              "#ed7953"
             ],
             [
              0.7777777777777778,
              "#fb9f3a"
             ],
             [
              0.8888888888888888,
              "#fdca26"
             ],
             [
              1,
              "#f0f921"
             ]
            ],
            "type": "histogram2dcontour"
           }
          ],
          "mesh3d": [
           {
            "colorbar": {
             "outlinewidth": 0,
             "ticks": ""
            },
            "type": "mesh3d"
           }
          ],
          "parcoords": [
           {
            "line": {
             "colorbar": {
              "outlinewidth": 0,
              "ticks": ""
             }
            },
            "type": "parcoords"
           }
          ],
          "pie": [
           {
            "automargin": true,
            "type": "pie"
           }
          ],
          "scatter": [
           {
            "fillpattern": {
             "fillmode": "overlay",
             "size": 10,
             "solidity": 0.2
            },
            "type": "scatter"
           }
          ],
          "scatter3d": [
           {
            "line": {
             "colorbar": {
              "outlinewidth": 0,
              "ticks": ""
             }
            },
            "marker": {
             "colorbar": {
              "outlinewidth": 0,
              "ticks": ""
             }
            },
            "type": "scatter3d"
           }
          ],
          "scattercarpet": [
           {
            "marker": {
             "colorbar": {
              "outlinewidth": 0,
              "ticks": ""
             }
            },
            "type": "scattercarpet"
           }
          ],
          "scattergeo": [
           {
            "marker": {
             "colorbar": {
              "outlinewidth": 0,
              "ticks": ""
             }
            },
            "type": "scattergeo"
           }
          ],
          "scattergl": [
           {
            "marker": {
             "colorbar": {
              "outlinewidth": 0,
              "ticks": ""
             }
            },
            "type": "scattergl"
           }
          ],
          "scattermapbox": [
           {
            "marker": {
             "colorbar": {
              "outlinewidth": 0,
              "ticks": ""
             }
            },
            "type": "scattermapbox"
           }
          ],
          "scatterpolar": [
           {
            "marker": {
             "colorbar": {
              "outlinewidth": 0,
              "ticks": ""
             }
            },
            "type": "scatterpolar"
           }
          ],
          "scatterpolargl": [
           {
            "marker": {
             "colorbar": {
              "outlinewidth": 0,
              "ticks": ""
             }
            },
            "type": "scatterpolargl"
           }
          ],
          "scatterternary": [
           {
            "marker": {
             "colorbar": {
              "outlinewidth": 0,
              "ticks": ""
             }
            },
            "type": "scatterternary"
           }
          ],
          "surface": [
           {
            "colorbar": {
             "outlinewidth": 0,
             "ticks": ""
            },
            "colorscale": [
             [
              0,
              "#0d0887"
             ],
             [
              0.1111111111111111,
              "#46039f"
             ],
             [
              0.2222222222222222,
              "#7201a8"
             ],
             [
              0.3333333333333333,
              "#9c179e"
             ],
             [
              0.4444444444444444,
              "#bd3786"
             ],
             [
              0.5555555555555556,
              "#d8576b"
             ],
             [
              0.6666666666666666,
              "#ed7953"
             ],
             [
              0.7777777777777778,
              "#fb9f3a"
             ],
             [
              0.8888888888888888,
              "#fdca26"
             ],
             [
              1,
              "#f0f921"
             ]
            ],
            "type": "surface"
           }
          ],
          "table": [
           {
            "cells": {
             "fill": {
              "color": "#EBF0F8"
             },
             "line": {
              "color": "white"
             }
            },
            "header": {
             "fill": {
              "color": "#C8D4E3"
             },
             "line": {
              "color": "white"
             }
            },
            "type": "table"
           }
          ]
         },
         "layout": {
          "annotationdefaults": {
           "arrowcolor": "#2a3f5f",
           "arrowhead": 0,
           "arrowwidth": 1
          },
          "autotypenumbers": "strict",
          "coloraxis": {
           "colorbar": {
            "outlinewidth": 0,
            "ticks": ""
           }
          },
          "colorscale": {
           "diverging": [
            [
             0,
             "#8e0152"
            ],
            [
             0.1,
             "#c51b7d"
            ],
            [
             0.2,
             "#de77ae"
            ],
            [
             0.3,
             "#f1b6da"
            ],
            [
             0.4,
             "#fde0ef"
            ],
            [
             0.5,
             "#f7f7f7"
            ],
            [
             0.6,
             "#e6f5d0"
            ],
            [
             0.7,
             "#b8e186"
            ],
            [
             0.8,
             "#7fbc41"
            ],
            [
             0.9,
             "#4d9221"
            ],
            [
             1,
             "#276419"
            ]
           ],
           "sequential": [
            [
             0,
             "#0d0887"
            ],
            [
             0.1111111111111111,
             "#46039f"
            ],
            [
             0.2222222222222222,
             "#7201a8"
            ],
            [
             0.3333333333333333,
             "#9c179e"
            ],
            [
             0.4444444444444444,
             "#bd3786"
            ],
            [
             0.5555555555555556,
             "#d8576b"
            ],
            [
             0.6666666666666666,
             "#ed7953"
            ],
            [
             0.7777777777777778,
             "#fb9f3a"
            ],
            [
             0.8888888888888888,
             "#fdca26"
            ],
            [
             1,
             "#f0f921"
            ]
           ],
           "sequentialminus": [
            [
             0,
             "#0d0887"
            ],
            [
             0.1111111111111111,
             "#46039f"
            ],
            [
             0.2222222222222222,
             "#7201a8"
            ],
            [
             0.3333333333333333,
             "#9c179e"
            ],
            [
             0.4444444444444444,
             "#bd3786"
            ],
            [
             0.5555555555555556,
             "#d8576b"
            ],
            [
             0.6666666666666666,
             "#ed7953"
            ],
            [
             0.7777777777777778,
             "#fb9f3a"
            ],
            [
             0.8888888888888888,
             "#fdca26"
            ],
            [
             1,
             "#f0f921"
            ]
           ]
          },
          "colorway": [
           "#636efa",
           "#EF553B",
           "#00cc96",
           "#ab63fa",
           "#FFA15A",
           "#19d3f3",
           "#FF6692",
           "#B6E880",
           "#FF97FF",
           "#FECB52"
          ],
          "font": {
           "color": "#2a3f5f"
          },
          "geo": {
           "bgcolor": "white",
           "lakecolor": "white",
           "landcolor": "#E5ECF6",
           "showlakes": true,
           "showland": true,
           "subunitcolor": "white"
          },
          "hoverlabel": {
           "align": "left"
          },
          "hovermode": "closest",
          "mapbox": {
           "style": "light"
          },
          "paper_bgcolor": "white",
          "plot_bgcolor": "#E5ECF6",
          "polar": {
           "angularaxis": {
            "gridcolor": "white",
            "linecolor": "white",
            "ticks": ""
           },
           "bgcolor": "#E5ECF6",
           "radialaxis": {
            "gridcolor": "white",
            "linecolor": "white",
            "ticks": ""
           }
          },
          "scene": {
           "xaxis": {
            "backgroundcolor": "#E5ECF6",
            "gridcolor": "white",
            "gridwidth": 2,
            "linecolor": "white",
            "showbackground": true,
            "ticks": "",
            "zerolinecolor": "white"
           },
           "yaxis": {
            "backgroundcolor": "#E5ECF6",
            "gridcolor": "white",
            "gridwidth": 2,
            "linecolor": "white",
            "showbackground": true,
            "ticks": "",
            "zerolinecolor": "white"
           },
           "zaxis": {
            "backgroundcolor": "#E5ECF6",
            "gridcolor": "white",
            "gridwidth": 2,
            "linecolor": "white",
            "showbackground": true,
            "ticks": "",
            "zerolinecolor": "white"
           }
          },
          "shapedefaults": {
           "line": {
            "color": "#2a3f5f"
           }
          },
          "ternary": {
           "aaxis": {
            "gridcolor": "white",
            "linecolor": "white",
            "ticks": ""
           },
           "baxis": {
            "gridcolor": "white",
            "linecolor": "white",
            "ticks": ""
           },
           "bgcolor": "#E5ECF6",
           "caxis": {
            "gridcolor": "white",
            "linecolor": "white",
            "ticks": ""
           }
          },
          "title": {
           "x": 0.05
          },
          "xaxis": {
           "automargin": true,
           "gridcolor": "white",
           "linecolor": "white",
           "ticks": "",
           "title": {
            "standoff": 15
           },
           "zerolinecolor": "white",
           "zerolinewidth": 2
          },
          "yaxis": {
           "automargin": true,
           "gridcolor": "white",
           "linecolor": "white",
           "ticks": "",
           "title": {
            "standoff": 15
           },
           "zerolinecolor": "white",
           "zerolinewidth": 2
          }
         }
        },
        "title": {
         "text": "Embedding GPT with ACP reduction"
        },
        "xaxis": {
         "anchor": "y",
         "domain": [
          0,
          1
         ],
         "title": {
          "text": "x"
         }
        },
        "yaxis": {
         "anchor": "x",
         "domain": [
          0,
          1
         ],
         "title": {
          "text": "y"
         }
        }
       }
      }
     },
     "metadata": {},
     "output_type": "display_data"
    }
   ],
   "source": [
    "e.plotEmbedding(embeddingType=\"GPT\", dim=2, reduction=\"ACP\", y =\"HDBSCAN\")"
   ]
  },
  {
   "cell_type": "code",
   "execution_count": 140,
   "metadata": {},
   "outputs": [
    {
     "data": {
      "image/png": "[encoded data removed]",
      "text/plain": [
       "<Figure size 640x480 with 2 Axes>"
      ]
     },
     "metadata": {},
     "output_type": "display_data"
    }
   ],
   "source": [
    "e.plotHDBSCANDendrogram(condensed=True)"
   ]
  },
  {
   "cell_type": "code",
   "execution_count": 141,
   "metadata": {},
   "outputs": [],
   "source": [
    "df = pd.DataFrame(columns=[\"word\", \"y\", \"yPredHDBSCAN\"])\n",
    "df[\"word\"] = e.y.keys()\n",
    "df[\"y\"] = e.y.values()\n",
    "df[\"yPredHDBSCAN\"] = e.yPred[\"HDBSCAN\"]"
   ]
  },
  {
   "cell_type": "code",
   "execution_count": 142,
   "metadata": {},
   "outputs": [
    {
     "name": "stdout",
     "output_type": "stream",
     "text": [
      "Cluster cluster_0\n",
      "criminal offences | different criminal offences | criminal matters | criminal proceedings | potential criminal offence | past criminal behaviour\n",
      "\n",
      "\n",
      "Cluster cluster_1\n",
      "conformity assessment | third-party conformity assessment | relevant conformity assessment procedure | conformity assessment procedure | conformity assessment body | initial conformity assessment | third-party conformity assessment body pursuant | new conformity assessment | new conformity assessment procedure | conformity assessment bodies | performs third-party conformity assessment activities | conformity\n",
      "\n",
      "\n",
      "Cluster cluster_10\n",
      "such data | data subjects | means data | such information | high quality data | such research | high data quality | quality datasets | high-quality data | validation data | validation dataset | individual data\n",
      "\n",
      "\n",
      "Cluster cluster_11\n",
      "training | learning approaches focus | learning | learning approaches | high quality training | learning process\n",
      "\n",
      "\n",
      "Cluster cluster_12\n",
      "human oversight | human oversight measures | human involvement | human experts | human behaviour | appropriate human oversight measures | human operator | human oversight requirement\n",
      "\n",
      "\n",
      "Cluster cluster_13\n",
      "quality management system | risk management system | international organisations | international agreements | effective protection | international protection | suitable risk management measures | appropriate risk management measures | effective measures | risk management measures | such agreements | such protection | relevant risk management system | such measures | accuracy metrics | suitable measures | risk management logic | risk mitigation measures | such guarantees | risk management rules | control measures | quality criteria | accuracy | relevant accuracy metrics | quality | quality control | quality assurance\n",
      "\n",
      "\n",
      "Cluster cluster_14\n",
      "natural persons | natural person | multiple persons | specific natural person | such persons | different persons | natural persons regardless | specific persons\n",
      "\n",
      "\n",
      "Cluster cluster_15\n",
      "high risk | safety components | such harm | safety component | possible risks | product safety | respective high-risk | safety risks | vulnerabilities | significant risk | new high-risk | public safety | psychological harms | phycological harm | psychological harm | such harm results | physical safety | possible negative consequences | unacceptable risks | civil aviation security | civil aviation | aviation safety | general safety | high-risk pursuant | possible harm | high-risk scenarios | safety | serious consequences | certain risks | safety impacts | particular use high-risk | safety functions | specific risks | serious incidents | general product safety | safety function | significant risks | foreseeable risks | such risks persist | system vulnerabilities | specific vulnerabilities | serious incident\n",
      "\n",
      "\n",
      "Cluster cluster_16\n",
      "data protection | data protection regulation | data protection authorities | data management | data collection | data analysis | data storage | data aggregation | data retention\n",
      "\n",
      "\n",
      "Cluster cluster_17\n",
      "national security | national security purposes | national security activities | public security purposes | cybersecurity purposes | cybersecurity | cybersecurity scheme\n",
      "\n",
      "\n",
      "Cluster cluster_18\n",
      "fundamental rights | specific requirements | relevant obligations | specific rules | certain mandatory requirements | applicable requirements | user obligations | certain requirements | registration obligations | fundamental rights obligations | uniform obligations | specific national rules | applicable law | fundamental right | mandatory requirements | relevant procedural requirements | requirement | relevant requirements | key requirement | specific obligations | relevant requirement | such obligation | relevant rules | procedural obligations | additional requirements\n",
      "\n",
      "\n",
      "Cluster cluster_19\n",
      "national law | state law | national laws | national law contributes | national law compatible | national law considers\n",
      "\n",
      "\n",
      "Cluster cluster_2\n",
      "border control | border control management | cross border | border control areas | cross-border users\n",
      "\n",
      "\n",
      "Cluster cluster_20\n",
      "national competent authorities | competent authorities | public authorities | national competent authority | public authority | relevant authorities | judicial authority | national public authorities | national authorities | national authority | administrative authority | private entity | responsible authorities | judicial authorities | relevant entities | relevant competent authorities | relevant providers | public entities | public entity | public authority competent | competent authority\n",
      "\n",
      "\n",
      "Cluster cluster_21\n",
      "law enforcement | law enforcement authorities | law enforcement authority | law enforcement purposes | law enforcement activities | law enforcement context | surveillance authorities\n",
      "\n",
      "\n",
      "Cluster cluster_22\n",
      "market surveillance | market surveillance authorities | market surveillance activities | market surveillance authority | competent market surveillance authority | market surveillance tasks\n",
      "\n",
      "\n",
      "Cluster cluster_3\n",
      "financial services legislation | credit institutions | financial institutions subject | financial institutions | financial services | financial sector | financial service legislation\n",
      "\n",
      "\n",
      "Cluster cluster_4\n",
      "technical solutions | technological developments | digital | digital products | digital solutions | future technological developments | particular technology | digital nature | digital environment | innovative technologies | electronic commerce\n",
      "\n",
      "\n",
      "Cluster cluster_5\n",
      "biometric data | remote biometric identification systems | remote biometric identification | biometric identification | certain biometric identification systems | biometric categorisation system\n",
      "\n",
      "\n",
      "Cluster cluster_6\n",
      "european parliament | european union | european council | european central bank | the european parliament and the council of the european union | european commission | national parliaments | parliament | euco | european parliament resolution | europol | standardisation | standardisation process | european standardisation | european standardisation organisations | european standard\n",
      "\n",
      "\n",
      "Cluster cluster_7\n",
      "union law | union harmonisation legislation | union market | relevant union | union institutions | relevant union harmonisation legislation | such union law | sectorial legislation | union legislation | relevant sectorial union law | union values | union policies | certain union harmonisation legislation | union anti-money | secondary union law | union market providers\n",
      "\n",
      "\n",
      "Cluster cluster_8\n",
      "artificial intelligence | such systems | artificial | machine | artificial intelligence act | intelligence systems | trustworthy artificial intelligence | ethical artificial intelligence | machine learning | certain artificial intelligence practices | information systems | such products | artificial intelligence algorithms | artificial intelligence field | artificial intelligence output | information society services | artificial intelligence system\n",
      "\n",
      "\n",
      "Cluster cluster_9\n",
      "regulation | ensure compliance | compliant products | regulatory oversight | strict regulatory oversight | ensure consistency | ensures compliance | regulatory compliance\n",
      "\n",
      "\n",
      "Cluster noise\n",
      "ai | article | eu | member | directive | personal data | high-risk ai | technical documentation | council | title | legal person | provider | internal market | free movement | framework | decision | general purpose | input data | medical devices | real world conditions | appropriate safeguards | critical infrastructure | product manufacturer | internal governance | corrective actions | knowledge base | own use | functional setting | experimentation facilities | user | necessary information | public security | testing | obligation | legal framework | application problem | judicial cooperation | human dignity | asylum authorities | ireland | fair trial | common rules | annex | historical patterns | contractual relationships | vulnerable position | similar tools | common specifications | machinery regulation | prospective providers | technical specifications | legal acts | text | national rules | public services | consumer protection | defective products | machine and/or | machine learning and/or logic- | system interacts | optimisation methods | logic | reference data repository | video footage | intermediary service providers | relevant operators | transparency obligations | ai-enabled | free choices | private life | custodial sentence | detention order | reference database | independent administrative authority | protocol | denmark | such output | physical integrity | ethnic origins | sexual orientation | recommendation | continuous iterative process | entire lifecycle | appropriate statistical properties | fail-safe plans | training data | common framework | personal non-professional activity | data controllers | medium enterprises | sme | ai-on | development process | market | supply chain | chapter | trade name | trade mark | distributor | regulation of the european parliament and of the council laying down harmonised rules on artificial intelligence | and amending certain union legislative acts | legislative act | committee | regions | bank | ordinary legislative procedure | ecb | ai-based | uniform protection | competitive advantages | generate risks | high-level expert | guideline | global leader | ethical principles | ethical aspects | possible damages pursuant | administrative provisions | various operators | national labour law | rights | simpler software systems | regulation ai | system functions | step-by-step instructions | reinforcement learning | deep learning | neural networks | statistical techniques | instance logistic regression | bayesian | approaches focus | logical reasoning capabilities | inference engine | knowledge graphs | knowledge bases | deductive engines | expert systems | ensure uniform conditions | regards machine learning approaches | enforcement directive | large number | real-time | professional activities | security restrictions | clear manifestation | relevant authority | factual possibility | factory premises | relevant employees | service providers | non-discriminatory manner | certain services | process data | foreign partners | recipient member | common union defence policy | public international law | appropriate legal framework | lethal force | defence activities | humanitarian purposes | civilian purposes | military activities | respect freedom | regards product | research activity | image/speech recognition | specific characteristics | regards health | common normative standards | international trade commitments | powerful tools | manipulative techniques | subliminal techniques | autonomy | virtual reality | specific group | extreme poverty | religious minorities | distortion results | factors external | unfair commercial practices | financial harms | exploitative practices | mental disease | physical rehabilitation | applicable medical standards | harmful manipulative | private actors | discriminatory outcomes | certain groups | multiple contexts | social score | unfavourable treatment | social contexts | lawful evaluation practices | specific purpose | constant surveillance | potential victims | certain threats | terrorist attack | maximum period | such threshold | identity checks | identity check | medical condition | european arrest warrant | specific authorisation | exhaustive framework | lex specialis | specific framework | articles applies | kingdom | police cooperation | significant harmful impact | potential restriction | autonomous robots | complex environments | health sector | sophisticated diagnostics systems | specific rights | child | environmental protection | regulatory specificities | enforcement mechanisms | marine equipment | rail system | type-approval requirements | vehicle occupants | vulnerable road users | protective systems | high-risk products | future amendments | discriminatory effects | critical digital infrastructure | critical entities | large scale | economic activities | critical digital infrastrucure | vocational training | vocational training institutions | learning outcomes | workers management | task allocation | programme | credit score | essential services | telecommunication services | discriminatory impacts | available alternatives | creditworthiness assessment | small entreprises | social protection | public administration | response services | critical situations | risk assessment | health insurance | small enterprises | own insurance products | liberty | adequate requirements | unjust manner | public trust | ensure accountability | individual risk assessments | personality traits | customs authorities | information pursuant | non-discriminatory nature | relevant legislation | individual freedoms | potential biases | administrative activities | administrative tasks | applicable acts | legal ground | provider identifies | technical feasibility | possible shortcomings | data minimisation | certain actors | respective fields | european common data spaces | european health data space | health data | trustworthy manner | general characteristics | validation processes | instance output data | systems incomprehensible | system output | technical robustness | unexpected situations | certain anomalies | erroneous decisions | crucial role | security properties | cyberattacks | adversarial attacks | sound quality management system | person modifies | final product complies | contact person | defective high-risk | individual decision-making | harmonised | effective implementation | exceptional fall | technical complexity | possible duplication | specific logic | safe integration | medical device framework | initial phase | general rule | own responsibility | electronic notification tool | software architecture | rapid availability | commercial property | such database | full functionality | generate content | specific transparency obligations | vulnerable groups | hair colour | eye colour | ethnic origin | personal preferences | political orientation | artificial origin | artificial intelligence regulatory sandboxes | legal uncertainty | regulatory learning | experimentation labs | relevant stakeholder | civil society organisations | sufficient guarantees | consent | relevant data protection law | translation | mandatory documentation | ensure proportionality | costly obligations | expert laboratories | reference laboratories | medical devices pursuant | relevant stakeholders | such representatives | administrative cooperation group | market evaluations | temporary sub-groups | specific issues | experts groups | adequate enforcement | relevant experts | enforcement powers | surveillance activities | transparency requirements | ex post market surveillance activities | supervisory mechanisms | prudential supervision | investment firms | insurance intermediaries | equal treatment | environmental sustainability | development teams | sectorial nature | data access infrastructure | safety net | ensure trustful | particular electronic commerce | open source software | speech recognition | video generation | pattern detection | commercial activity | necessary procedures | legal act | measures pursuant | learnable parameters | non-learnable parameters | separate dataset | independent evaluation | specific technical processing | facial images | dactyloscopic data | emotion recognition system | psychological states | public powers | proportionate safeguards | requirements for high-risk ai systems article | risk | residual risk | overall residual risk | probabilistic thresholds | data | data governance | relevant design choices | data collection processes | relevant data preparation processing operations | possible biases | possible data gaps | up-to date | transparency | care measures | automation bias | output | interpretation tools | separate verification | regards errors | technical redundancy solutions | adversarial examples | model flaws | design control | design verification | data filtration | organisation | authority access\n",
      "\n",
      "\n"
     ]
    }
   ],
   "source": [
    "for cluster in np.unique(e.yPred[\"HDBSCAN\"]):\n",
    "    print(\"Cluster\", cluster)\n",
    "    print(\" | \".join(df[df[\"yPredHDBSCAN\"] == cluster][\"word\"].values))\n",
    "    print(\"\\n\")"
   ]
  },
  {
   "cell_type": "code",
   "execution_count": null,
   "metadata": {},
   "outputs": [],
   "source": []
  }
 ],
 "metadata": {
  "kernelspec": {
   "display_name": "Python 3",
   "language": "python",
   "name": "python3"
  },
  "language_info": {
   "codemirror_mode": {
    "name": "ipython",
    "version": 3
   },
   "file_extension": ".py",
   "mimetype": "text/x-python",
   "name": "python",
   "nbconvert_exporter": "python",
   "pygments_lexer": "ipython3",
   "version": "3.10.9 (main, Dec 15 2022, 17:11:09) [Clang 14.0.0 (clang-1400.0.29.202)]"
  },
  "orig_nbformat": 4,
  "vscode": {
   "interpreter": {
    "hash": "b0fa6594d8f4cbf19f97940f81e996739fb7646882a419484c72d19e05852a7e"
   }
  }
 },
 "nbformat": 4,
 "nbformat_minor": 2
}
